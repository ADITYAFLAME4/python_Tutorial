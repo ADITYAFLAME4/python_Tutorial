{
 "cells": [
  {
   "cell_type": "markdown",
   "id": "a5643f9c",
   "metadata": {},
   "source": [
    "# operators in python 1"
   ]
  },
  {
   "cell_type": "code",
   "execution_count": 1,
   "id": "37a70717",
   "metadata": {},
   "outputs": [],
   "source": [
    "a = 10\n",
    "b = 20"
   ]
  },
  {
   "cell_type": "code",
   "execution_count": 2,
   "id": "22be2911",
   "metadata": {},
   "outputs": [
    {
     "data": {
      "text/plain": [
       "30"
      ]
     },
     "execution_count": 2,
     "metadata": {},
     "output_type": "execute_result"
    }
   ],
   "source": [
    "a+b"
   ]
  },
  {
   "cell_type": "code",
   "execution_count": 3,
   "id": "8a11ece0",
   "metadata": {},
   "outputs": [
    {
     "data": {
      "text/plain": [
       "-10"
      ]
     },
     "execution_count": 3,
     "metadata": {},
     "output_type": "execute_result"
    }
   ],
   "source": [
    "a-b"
   ]
  },
  {
   "cell_type": "code",
   "execution_count": 4,
   "id": "a4593218",
   "metadata": {},
   "outputs": [
    {
     "data": {
      "text/plain": [
       "200"
      ]
     },
     "execution_count": 4,
     "metadata": {},
     "output_type": "execute_result"
    }
   ],
   "source": [
    "a*b"
   ]
  },
  {
   "cell_type": "code",
   "execution_count": 7,
   "id": "0f4c48d7",
   "metadata": {},
   "outputs": [
    {
     "data": {
      "text/plain": [
       "2.0"
      ]
     },
     "execution_count": 7,
     "metadata": {},
     "output_type": "execute_result"
    }
   ],
   "source": [
    "b/a # always floating point arithmetic, return float value"
   ]
  },
  {
   "cell_type": "code",
   "execution_count": 8,
   "id": "3bc9f25c",
   "metadata": {},
   "outputs": [
    {
     "data": {
      "text/plain": [
       "2"
      ]
     },
     "execution_count": 8,
     "metadata": {},
     "output_type": "execute_result"
    }
   ],
   "source": [
    "b//a #floor division"
   ]
  },
  {
   "cell_type": "code",
   "execution_count": 9,
   "id": "b8510ef7",
   "metadata": {},
   "outputs": [],
   "source": [
    "a=10\n",
    "b=4"
   ]
  },
  {
   "cell_type": "code",
   "execution_count": 10,
   "id": "bf7ef2b1",
   "metadata": {},
   "outputs": [
    {
     "data": {
      "text/plain": [
       "2.5"
      ]
     },
     "execution_count": 10,
     "metadata": {},
     "output_type": "execute_result"
    }
   ],
   "source": [
    "a/b #return float value"
   ]
  },
  {
   "cell_type": "code",
   "execution_count": 11,
   "id": "fb765b82",
   "metadata": {},
   "outputs": [
    {
     "data": {
      "text/plain": [
       "2"
      ]
     },
     "execution_count": 11,
     "metadata": {},
     "output_type": "execute_result"
    }
   ],
   "source": [
    "a//b # returns only floor value"
   ]
  },
  {
   "cell_type": "code",
   "execution_count": 15,
   "id": "605ca538",
   "metadata": {},
   "outputs": [
    {
     "data": {
      "text/plain": [
       "3.0"
      ]
     },
     "execution_count": 15,
     "metadata": {},
     "output_type": "execute_result"
    }
   ],
   "source": [
    "# // it can perform both float and floor division\n",
    "\n",
    "20.0//6 #returns floor value"
   ]
  },
  {
   "cell_type": "code",
   "execution_count": 17,
   "id": "58dba6d9",
   "metadata": {},
   "outputs": [
    {
     "data": {
      "text/plain": [
       "3.0"
      ]
     },
     "execution_count": 17,
     "metadata": {},
     "output_type": "execute_result"
    }
   ],
   "source": [
    "20.0//6.0\n"
   ]
  },
  {
   "cell_type": "code",
   "execution_count": 18,
   "id": "bde32463",
   "metadata": {},
   "outputs": [
    {
     "data": {
      "text/plain": [
       "3.3333333333333335"
      ]
     },
     "execution_count": 18,
     "metadata": {},
     "output_type": "execute_result"
    }
   ],
   "source": [
    "20/6"
   ]
  },
  {
   "cell_type": "code",
   "execution_count": 19,
   "id": "acfcc21c",
   "metadata": {},
   "outputs": [],
   "source": [
    "# modulas operator (%) ==> remainder when a is divided by b"
   ]
  },
  {
   "cell_type": "code",
   "execution_count": 20,
   "id": "e6db71ec",
   "metadata": {},
   "outputs": [
    {
     "data": {
      "text/plain": [
       "2"
      ]
     },
     "execution_count": 20,
     "metadata": {},
     "output_type": "execute_result"
    }
   ],
   "source": [
    "20%3  # 2 is the remainder "
   ]
  },
  {
   "cell_type": "code",
   "execution_count": 24,
   "id": "af7d01e1",
   "metadata": {},
   "outputs": [],
   "source": [
    "#power operator (**) ==> a^b(a to the power b)"
   ]
  },
  {
   "cell_type": "code",
   "execution_count": 23,
   "id": "bf632244",
   "metadata": {},
   "outputs": [
    {
     "data": {
      "text/plain": [
       "4"
      ]
     },
     "execution_count": 23,
     "metadata": {},
     "output_type": "execute_result"
    }
   ],
   "source": [
    "2**2 # 2 to the power 2 i,e. 4"
   ]
  },
  {
   "cell_type": "code",
   "execution_count": 25,
   "id": "23b65005",
   "metadata": {},
   "outputs": [],
   "source": [
    "# concatenation  ==> type must be same"
   ]
  },
  {
   "cell_type": "code",
   "execution_count": 26,
   "id": "3c8a1236",
   "metadata": {},
   "outputs": [
    {
     "data": {
      "text/plain": [
       "'mithunraptan'"
      ]
     },
     "execution_count": 26,
     "metadata": {},
     "output_type": "execute_result"
    }
   ],
   "source": [
    "a = 'mithun'\n",
    "b = 'raptan'\n",
    "a+b  # '+' means concatenation"
   ]
  },
  {
   "cell_type": "code",
   "execution_count": 28,
   "id": "78ef1f74",
   "metadata": {},
   "outputs": [
    {
     "data": {
      "text/plain": [
       "str"
      ]
     },
     "execution_count": 28,
     "metadata": {},
     "output_type": "execute_result"
    }
   ],
   "source": [
    "type(a)"
   ]
  },
  {
   "cell_type": "code",
   "execution_count": 29,
   "id": "0285263d",
   "metadata": {},
   "outputs": [
    {
     "data": {
      "text/plain": [
       "str"
      ]
     },
     "execution_count": 29,
     "metadata": {},
     "output_type": "execute_result"
    }
   ],
   "source": [
    "type(b)"
   ]
  },
  {
   "cell_type": "code",
   "execution_count": 32,
   "id": "5fa6eaa6",
   "metadata": {},
   "outputs": [
    {
     "ename": "TypeError",
     "evalue": "can only concatenate str (not \"int\") to str",
     "output_type": "error",
     "traceback": [
      "\u001b[1;31m---------------------------------------------------------------------------\u001b[0m",
      "\u001b[1;31mTypeError\u001b[0m                                 Traceback (most recent call last)",
      "Cell \u001b[1;32mIn[32], line 4\u001b[0m\n\u001b[0;32m      2\u001b[0m b \u001b[38;5;241m=\u001b[39m \u001b[38;5;241m10\u001b[39m      \u001b[38;5;66;03m#type(b)==>int\u001b[39;00m\n\u001b[0;32m      3\u001b[0m \u001b[38;5;66;03m#both are not same type\u001b[39;00m\n\u001b[1;32m----> 4\u001b[0m a\u001b[38;5;241m+\u001b[39mb\n",
      "\u001b[1;31mTypeError\u001b[0m: can only concatenate str (not \"int\") to str"
     ]
    }
   ],
   "source": [
    "a = 'sagar' #type(a)==>str\n",
    "b = 10      #type(b)==>int\n",
    "#both are not same type\n",
    "a+b # ud ke laath padegi"
   ]
  },
  {
   "cell_type": "code",
   "execution_count": 33,
   "id": "aab8ecfa",
   "metadata": {},
   "outputs": [
    {
     "data": {
      "text/plain": [
       "'mithunmithun'"
      ]
     },
     "execution_count": 33,
     "metadata": {},
     "output_type": "execute_result"
    }
   ],
   "source": [
    "\"mithun\"*2"
   ]
  },
  {
   "cell_type": "code",
   "execution_count": 35,
   "id": "c4d0e838",
   "metadata": {},
   "outputs": [
    {
     "ename": "TypeError",
     "evalue": "unsupported operand type(s) for ** or pow(): 'str' and 'int'",
     "output_type": "error",
     "traceback": [
      "\u001b[1;31m---------------------------------------------------------------------------\u001b[0m",
      "\u001b[1;31mTypeError\u001b[0m                                 Traceback (most recent call last)",
      "Cell \u001b[1;32mIn[35], line 1\u001b[0m\n\u001b[1;32m----> 1\u001b[0m \u001b[38;5;124m\"\u001b[39m\u001b[38;5;124mmithun\u001b[39m\u001b[38;5;124m\"\u001b[39m\u001b[38;5;241m*\u001b[39m\u001b[38;5;241m*\u001b[39m\u001b[38;5;241m2\u001b[39m\n",
      "\u001b[1;31mTypeError\u001b[0m: unsupported operand type(s) for ** or pow(): 'str' and 'int'"
     ]
    }
   ],
   "source": [
    "\"mithun\"**2 #ud ke laath"
   ]
  },
  {
   "cell_type": "code",
   "execution_count": 36,
   "id": "687862a6",
   "metadata": {},
   "outputs": [
    {
     "ename": "TypeError",
     "evalue": "can't multiply sequence by non-int of type 'str'",
     "output_type": "error",
     "traceback": [
      "\u001b[1;31m---------------------------------------------------------------------------\u001b[0m",
      "\u001b[1;31mTypeError\u001b[0m                                 Traceback (most recent call last)",
      "Cell \u001b[1;32mIn[36], line 1\u001b[0m\n\u001b[1;32m----> 1\u001b[0m \u001b[38;5;124m\"\u001b[39m\u001b[38;5;124mmithun\u001b[39m\u001b[38;5;124m\"\u001b[39m\u001b[38;5;241m*\u001b[39m\u001b[38;5;124m\"\u001b[39m\u001b[38;5;124mraptan\u001b[39m\u001b[38;5;124m\"\u001b[39m\n",
      "\u001b[1;31mTypeError\u001b[0m: can't multiply sequence by non-int of type 'str'"
     ]
    }
   ],
   "source": [
    "\"mithun\"*\"raptan\""
   ]
  },
  {
   "cell_type": "code",
   "execution_count": 38,
   "id": "3cecc374",
   "metadata": {},
   "outputs": [
    {
     "ename": "TypeError",
     "evalue": "can't multiply sequence by non-int of type 'float'",
     "output_type": "error",
     "traceback": [
      "\u001b[1;31m---------------------------------------------------------------------------\u001b[0m",
      "\u001b[1;31mTypeError\u001b[0m                                 Traceback (most recent call last)",
      "Cell \u001b[1;32mIn[38], line 1\u001b[0m\n\u001b[1;32m----> 1\u001b[0m \u001b[38;5;124m\"\u001b[39m\u001b[38;5;124mmithun\u001b[39m\u001b[38;5;124m\"\u001b[39m\u001b[38;5;241m*\u001b[39m\u001b[38;5;241m2.5\u001b[39m\n",
      "\u001b[1;31mTypeError\u001b[0m: can't multiply sequence by non-int of type 'float'"
     ]
    }
   ],
   "source": [
    "\"mithun\"*2.5"
   ]
  },
  {
   "cell_type": "code",
   "execution_count": 40,
   "id": "a53e65c2",
   "metadata": {},
   "outputs": [
    {
     "name": "stdout",
     "output_type": "stream",
     "text": [
      "False\n",
      "True\n"
     ]
    }
   ],
   "source": [
    "#relational operator ==> returns True or False \n",
    "                #chaining is possible\n",
    "              # does not work with complex numbers\n",
    "a=10\n",
    "b=20\n",
    "p1=a>b\n",
    "p2=a<b\n",
    "print(p1)\n",
    "print(p2)"
   ]
  },
  {
   "cell_type": "code",
   "execution_count": 42,
   "id": "ba3e8528",
   "metadata": {},
   "outputs": [
    {
     "name": "stdout",
     "output_type": "stream",
     "text": [
      "True\n",
      "True\n"
     ]
    }
   ],
   "source": [
    "a=10\n",
    "b=10\n",
    "print(a>=b)\n",
    "print(a<=b)"
   ]
  },
  {
   "cell_type": "code",
   "execution_count": 43,
   "id": "32f28172",
   "metadata": {},
   "outputs": [],
   "source": [
    "# relational operator is also applicable to string also"
   ]
  },
  {
   "cell_type": "code",
   "execution_count": 45,
   "id": "dd0c7de7",
   "metadata": {},
   "outputs": [
    {
     "data": {
      "text/plain": [
       "True"
      ]
     },
     "execution_count": 45,
     "metadata": {},
     "output_type": "execute_result"
    }
   ],
   "source": [
    "a=\"mithun\"\n",
    "b=\"raptan\"\n",
    "a<b # 'm' comes first before 'r' in dictionary. so 'r' will have more value than 'p'\n",
    "    # this is why it returns ==>True"
   ]
  },
  {
   "cell_type": "code",
   "execution_count": 46,
   "id": "57f4311a",
   "metadata": {},
   "outputs": [
    {
     "data": {
      "text/plain": [
       "False"
      ]
     },
     "execution_count": 46,
     "metadata": {},
     "output_type": "execute_result"
    }
   ],
   "source": [
    "a>b"
   ]
  },
  {
   "cell_type": "code",
   "execution_count": 51,
   "id": "d9380027",
   "metadata": {},
   "outputs": [
    {
     "ename": "TypeError",
     "evalue": "'>' not supported between instances of 'complex' and 'complex'",
     "output_type": "error",
     "traceback": [
      "\u001b[1;31m---------------------------------------------------------------------------\u001b[0m",
      "\u001b[1;31mTypeError\u001b[0m                                 Traceback (most recent call last)",
      "Cell \u001b[1;32mIn[51], line 1\u001b[0m\n\u001b[1;32m----> 1\u001b[0m \u001b[38;5;241m2\u001b[39m\u001b[38;5;241m+\u001b[39m\u001b[38;5;241m3\u001b[39mj\u001b[38;5;241m>\u001b[39m\u001b[38;5;241m5\u001b[39m\u001b[38;5;241m+\u001b[39m\u001b[38;5;241m6\u001b[39mj\n",
      "\u001b[1;31mTypeError\u001b[0m: '>' not supported between instances of 'complex' and 'complex'"
     ]
    }
   ],
   "source": [
    "2+3j>5+6j  # relational operator does not work with complex number"
   ]
  },
  {
   "cell_type": "code",
   "execution_count": 52,
   "id": "0e5e5634",
   "metadata": {},
   "outputs": [
    {
     "data": {
      "text/plain": [
       "True"
      ]
     },
     "execution_count": 52,
     "metadata": {},
     "output_type": "execute_result"
    }
   ],
   "source": [
    "#chaining in relational operator\n",
    "10<20<30<50 # it means 10<20   20<30   30<50 ==> if this 3 parts are true then it will return 'True'"
   ]
  },
  {
   "cell_type": "code",
   "execution_count": 55,
   "id": "c39f1922",
   "metadata": {},
   "outputs": [
    {
     "data": {
      "text/plain": [
       "False"
      ]
     },
     "execution_count": 55,
     "metadata": {},
     "output_type": "execute_result"
    }
   ],
   "source": [
    "10<20<5>4>3 #20<5 is false, this is why it returns False"
   ]
  },
  {
   "cell_type": "code",
   "execution_count": 47,
   "id": "cf004ffa",
   "metadata": {},
   "outputs": [
    {
     "data": {
      "text/plain": [
       "140734621196168"
      ]
     },
     "execution_count": 47,
     "metadata": {},
     "output_type": "execute_result"
    }
   ],
   "source": [
    "a = 100\n",
    "id(a)"
   ]
  },
  {
   "cell_type": "code",
   "execution_count": 49,
   "id": "0d1f267d",
   "metadata": {},
   "outputs": [
    {
     "data": {
      "text/plain": [
       "102"
      ]
     },
     "execution_count": 49,
     "metadata": {},
     "output_type": "execute_result"
    }
   ],
   "source": [
    "a= a+1\n",
    "a"
   ]
  },
  {
   "cell_type": "code",
   "execution_count": 50,
   "id": "f941dcb7",
   "metadata": {},
   "outputs": [
    {
     "data": {
      "text/plain": [
       "140734621196232"
      ]
     },
     "execution_count": 50,
     "metadata": {},
     "output_type": "execute_result"
    }
   ],
   "source": [
    "id(a) # id will be changed , cuz internally created another memory and 'a' is assign that memories address"
   ]
  },
  {
   "cell_type": "code",
   "execution_count": 58,
   "id": "ba2b4feb",
   "metadata": {},
   "outputs": [
    {
     "name": "stdout",
     "output_type": "stream",
     "text": [
      "3\n",
      "4\n"
     ]
    }
   ],
   "source": [
    "# input() function ==> taking input from users\n",
    "a = input()\n",
    "\n",
    "b= input()"
   ]
  },
  {
   "cell_type": "code",
   "execution_count": 59,
   "id": "f35a5783",
   "metadata": {},
   "outputs": [
    {
     "data": {
      "text/plain": [
       "str"
      ]
     },
     "execution_count": 59,
     "metadata": {},
     "output_type": "execute_result"
    }
   ],
   "source": [
    "type(a)"
   ]
  },
  {
   "cell_type": "code",
   "execution_count": 60,
   "id": "59988219",
   "metadata": {},
   "outputs": [
    {
     "data": {
      "text/plain": [
       "str"
      ]
     },
     "execution_count": 60,
     "metadata": {},
     "output_type": "execute_result"
    }
   ],
   "source": [
    "type(b)"
   ]
  },
  {
   "cell_type": "code",
   "execution_count": 61,
   "id": "b86bdb30",
   "metadata": {},
   "outputs": [
    {
     "data": {
      "text/plain": [
       "'34'"
      ]
     },
     "execution_count": 61,
     "metadata": {},
     "output_type": "execute_result"
    }
   ],
   "source": [
    "a+b # perfrom concatenation cuz input() takes input as string"
   ]
  },
  {
   "cell_type": "code",
   "execution_count": 62,
   "id": "1b799575",
   "metadata": {},
   "outputs": [],
   "source": [
    "#input()==>takes input as string\n",
    "a = input() # 20 ==> '20'\n",
    "b= input() # 30 ==> '30'\n",
    "a+b # '20'+'30' ==> '2030'"
   ]
  },
  {
   "cell_type": "code",
   "execution_count": 63,
   "id": "ef24d155",
   "metadata": {},
   "outputs": [],
   "source": [
    "#input() ==> takes input as string ==> convert string to integer==>int() function"
   ]
  },
  {
   "cell_type": "code",
   "execution_count": 64,
   "id": "a3f58cd2",
   "metadata": {},
   "outputs": [
    {
     "name": "stdout",
     "output_type": "stream",
     "text": [
      "3\n"
     ]
    }
   ],
   "source": [
    "a = input()\n",
    "a1 = int(a) # convert string into int"
   ]
  },
  {
   "cell_type": "code",
   "execution_count": 65,
   "id": "75d2f837",
   "metadata": {},
   "outputs": [
    {
     "data": {
      "text/plain": [
       "str"
      ]
     },
     "execution_count": 65,
     "metadata": {},
     "output_type": "execute_result"
    }
   ],
   "source": [
    "type(a)"
   ]
  },
  {
   "cell_type": "code",
   "execution_count": 66,
   "id": "3d07c711",
   "metadata": {},
   "outputs": [
    {
     "data": {
      "text/plain": [
       "int"
      ]
     },
     "execution_count": 66,
     "metadata": {},
     "output_type": "execute_result"
    }
   ],
   "source": [
    "type(a1)"
   ]
  },
  {
   "cell_type": "code",
   "execution_count": 68,
   "id": "f0a14a46",
   "metadata": {},
   "outputs": [
    {
     "name": "stdout",
     "output_type": "stream",
     "text": [
      "4\n"
     ]
    },
    {
     "data": {
      "text/plain": [
       "int"
      ]
     },
     "execution_count": 68,
     "metadata": {},
     "output_type": "execute_result"
    }
   ],
   "source": [
    "# we can directly convert str to int\n",
    "a = int(input())\n",
    "type(a)"
   ]
  },
  {
   "cell_type": "code",
   "execution_count": 69,
   "id": "a4a36952",
   "metadata": {},
   "outputs": [],
   "source": [
    "# logical operator ==> works on all type of data\n",
    "# logical 'and' operator ==>if the first operand is true then it will return 2nd operand else 1st operand"
   ]
  },
  {
   "cell_type": "code",
   "execution_count": 70,
   "id": "68c3710d",
   "metadata": {},
   "outputs": [
    {
     "data": {
      "text/plain": [
       "20"
      ]
     },
     "execution_count": 70,
     "metadata": {},
     "output_type": "execute_result"
    }
   ],
   "source": [
    "10 and 20 #==> True return 2"
   ]
  },
  {
   "cell_type": "code",
   "execution_count": 71,
   "id": "712d80fb",
   "metadata": {},
   "outputs": [
    {
     "data": {
      "text/plain": [
       "(5+5j)"
      ]
     },
     "execution_count": 71,
     "metadata": {},
     "output_type": "execute_result"
    }
   ],
   "source": [
    "20+3j and 5+5j"
   ]
  },
  {
   "cell_type": "code",
   "execution_count": 72,
   "id": "220fff76",
   "metadata": {},
   "outputs": [
    {
     "data": {
      "text/plain": [
       "0"
      ]
     },
     "execution_count": 72,
     "metadata": {},
     "output_type": "execute_result"
    }
   ],
   "source": [
    "0 and 20 #==>False retirn 0 "
   ]
  },
  {
   "cell_type": "code",
   "execution_count": 73,
   "id": "bf0de4b6",
   "metadata": {},
   "outputs": [
    {
     "data": {
      "text/plain": [
       "500"
      ]
     },
     "execution_count": 73,
     "metadata": {},
     "output_type": "execute_result"
    }
   ],
   "source": [
    "0.1 and 500 #==> True return 500"
   ]
  },
  {
   "cell_type": "code",
   "execution_count": 74,
   "id": "04ac183c",
   "metadata": {},
   "outputs": [
    {
     "data": {
      "text/plain": [
       "'raptan'"
      ]
     },
     "execution_count": 74,
     "metadata": {},
     "output_type": "execute_result"
    }
   ],
   "source": [
    "\"mithun\" and \"raptan\" #True return 'raptan'"
   ]
  },
  {
   "cell_type": "code",
   "execution_count": 75,
   "id": "74c0073b",
   "metadata": {},
   "outputs": [
    {
     "data": {
      "text/plain": [
       "''"
      ]
     },
     "execution_count": 75,
     "metadata": {},
     "output_type": "execute_result"
    }
   ],
   "source": [
    "\"mithun\" and \"\" #true return '' string"
   ]
  },
  {
   "cell_type": "code",
   "execution_count": 77,
   "id": "1202dc3a",
   "metadata": {},
   "outputs": [
    {
     "data": {
      "text/plain": [
       "''"
      ]
     },
     "execution_count": 77,
     "metadata": {},
     "output_type": "execute_result"
    }
   ],
   "source": [
    "\"\" and \"raptan\" # empty string means False this is why it returns empty string ''"
   ]
  },
  {
   "cell_type": "code",
   "execution_count": 80,
   "id": "6283fd17",
   "metadata": {},
   "outputs": [],
   "source": [
    "#logical 'or' operator\n",
    "        #if the first operand is true then it will return 1st operand else 2nd operand"
   ]
  },
  {
   "cell_type": "code",
   "execution_count": 82,
   "id": "027acd0f",
   "metadata": {},
   "outputs": [
    {
     "data": {
      "text/plain": [
       "2"
      ]
     },
     "execution_count": 82,
     "metadata": {},
     "output_type": "execute_result"
    }
   ],
   "source": [
    "2 or 3"
   ]
  },
  {
   "cell_type": "code",
   "execution_count": 83,
   "id": "ce2d7cfa",
   "metadata": {},
   "outputs": [
    {
     "data": {
      "text/plain": [
       "5"
      ]
     },
     "execution_count": 83,
     "metadata": {},
     "output_type": "execute_result"
    }
   ],
   "source": [
    "0 or 5 # 1st operand is false thats why 2nd operand is return"
   ]
  },
  {
   "cell_type": "code",
   "execution_count": 84,
   "id": "b1471a0a",
   "metadata": {},
   "outputs": [
    {
     "data": {
      "text/plain": [
       "'mithun'"
      ]
     },
     "execution_count": 84,
     "metadata": {},
     "output_type": "execute_result"
    }
   ],
   "source": [
    "\"mithun\" or \"raptan\""
   ]
  },
  {
   "cell_type": "code",
   "execution_count": 85,
   "id": "87e4356f",
   "metadata": {},
   "outputs": [
    {
     "data": {
      "text/plain": [
       "(2+4j)"
      ]
     },
     "execution_count": 85,
     "metadata": {},
     "output_type": "execute_result"
    }
   ],
   "source": [
    "2+4j or 6+6j"
   ]
  },
  {
   "cell_type": "code",
   "execution_count": 86,
   "id": "0453aba0",
   "metadata": {},
   "outputs": [
    {
     "data": {
      "text/plain": [
       "(9+9j)"
      ]
     },
     "execution_count": 86,
     "metadata": {},
     "output_type": "execute_result"
    }
   ],
   "source": [
    "0+0j or 9+9j"
   ]
  },
  {
   "cell_type": "code",
   "execution_count": 87,
   "id": "bc98bf80",
   "metadata": {},
   "outputs": [
    {
     "data": {
      "text/plain": [
       "5"
      ]
     },
     "execution_count": 87,
     "metadata": {},
     "output_type": "execute_result"
    }
   ],
   "source": [
    "\"\" or 5"
   ]
  },
  {
   "cell_type": "code",
   "execution_count": 88,
   "id": "d598876d",
   "metadata": {},
   "outputs": [],
   "source": [
    "#logical 'not' operator\n",
    "    #not(True) ==> False\n",
    "    #not(False) ==>True"
   ]
  },
  {
   "cell_type": "code",
   "execution_count": 89,
   "id": "ebc803ca",
   "metadata": {},
   "outputs": [
    {
     "data": {
      "text/plain": [
       "False"
      ]
     },
     "execution_count": 89,
     "metadata": {},
     "output_type": "execute_result"
    }
   ],
   "source": [
    "not(True)"
   ]
  },
  {
   "cell_type": "code",
   "execution_count": 90,
   "id": "e5804ff3",
   "metadata": {},
   "outputs": [
    {
     "data": {
      "text/plain": [
       "True"
      ]
     },
     "execution_count": 90,
     "metadata": {},
     "output_type": "execute_result"
    }
   ],
   "source": [
    "not(False)"
   ]
  },
  {
   "cell_type": "code",
   "execution_count": 92,
   "id": "9ac10e08",
   "metadata": {},
   "outputs": [
    {
     "data": {
      "text/plain": [
       "True"
      ]
     },
     "execution_count": 92,
     "metadata": {},
     "output_type": "execute_result"
    }
   ],
   "source": [
    "not(0)   # only 0 and ''(empty string) presents 'False' , else everything represents 'True' "
   ]
  },
  {
   "cell_type": "code",
   "execution_count": 93,
   "id": "9799981d",
   "metadata": {},
   "outputs": [
    {
     "data": {
      "text/plain": [
       "True"
      ]
     },
     "execution_count": 93,
     "metadata": {},
     "output_type": "execute_result"
    }
   ],
   "source": [
    "not(\"\")"
   ]
  },
  {
   "cell_type": "code",
   "execution_count": 94,
   "id": "78ca75e0",
   "metadata": {},
   "outputs": [
    {
     "data": {
      "text/plain": [
       "False"
      ]
     },
     "execution_count": 94,
     "metadata": {},
     "output_type": "execute_result"
    }
   ],
   "source": [
    "not(1)"
   ]
  },
  {
   "cell_type": "code",
   "execution_count": 95,
   "id": "b151a82f",
   "metadata": {},
   "outputs": [
    {
     "data": {
      "text/plain": [
       "False"
      ]
     },
     "execution_count": 95,
     "metadata": {},
     "output_type": "execute_result"
    }
   ],
   "source": [
    "not(20.53)"
   ]
  },
  {
   "cell_type": "code",
   "execution_count": 96,
   "id": "d8c6040e",
   "metadata": {},
   "outputs": [
    {
     "data": {
      "text/plain": [
       "True"
      ]
     },
     "execution_count": 96,
     "metadata": {},
     "output_type": "execute_result"
    }
   ],
   "source": [
    "not(0+0j)"
   ]
  },
  {
   "cell_type": "raw",
   "id": "1bb82a3f",
   "metadata": {},
   "source": [
    "#bitwise operator ==> only int and bool pe work krte hai \n",
    "   # & => bitwise 'and' operator   => convert the given decimal to binary and then perform 'and' operation\n",
    "                                        #both True =>True , else False\n",
    "    # | => bitwise 'or' operator  =>convert the given decimal to binary and then perform 'or' operation\n",
    "                                        #any of them True => True , both True=>True, else False(both False)\n",
    "    "
   ]
  },
  {
   "cell_type": "code",
   "execution_count": 98,
   "id": "02ee33c0",
   "metadata": {},
   "outputs": [
    {
     "data": {
      "text/plain": [
       "4"
      ]
     },
     "execution_count": 98,
     "metadata": {},
     "output_type": "execute_result"
    }
   ],
   "source": [
    "5 & 6 #convert 5, 6 into binary=> perform 'and' operation"
   ]
  },
  {
   "cell_type": "code",
   "execution_count": 102,
   "id": "4bc8008d",
   "metadata": {},
   "outputs": [
    {
     "data": {
      "text/plain": [
       "2"
      ]
     },
     "execution_count": 102,
     "metadata": {},
     "output_type": "execute_result"
    }
   ],
   "source": [
    "-5 & 6"
   ]
  },
  {
   "cell_type": "code",
   "execution_count": 103,
   "id": "1a42ad82",
   "metadata": {},
   "outputs": [
    {
     "ename": "TypeError",
     "evalue": "unsupported operand type(s) for &: 'float' and 'int'",
     "output_type": "error",
     "traceback": [
      "\u001b[1;31m---------------------------------------------------------------------------\u001b[0m",
      "\u001b[1;31mTypeError\u001b[0m                                 Traceback (most recent call last)",
      "Cell \u001b[1;32mIn[103], line 1\u001b[0m\n\u001b[1;32m----> 1\u001b[0m \u001b[38;5;241m10.4\u001b[39m \u001b[38;5;241m&\u001b[39m \u001b[38;5;241m5\u001b[39m\n",
      "\u001b[1;31mTypeError\u001b[0m: unsupported operand type(s) for &: 'float' and 'int'"
     ]
    }
   ],
   "source": [
    "10.4 & 5 # ud ke lath => works only int and bool"
   ]
  },
  {
   "cell_type": "code",
   "execution_count": 104,
   "id": "e2e6eac2",
   "metadata": {},
   "outputs": [
    {
     "data": {
      "text/plain": [
       "7"
      ]
     },
     "execution_count": 104,
     "metadata": {},
     "output_type": "execute_result"
    }
   ],
   "source": [
    "5 | 6  # perform 'or' operation "
   ]
  },
  {
   "cell_type": "code",
   "execution_count": 105,
   "id": "8471da19",
   "metadata": {},
   "outputs": [
    {
     "ename": "TypeError",
     "evalue": "unsupported operand type(s) for |: 'complex' and 'complex'",
     "output_type": "error",
     "traceback": [
      "\u001b[1;31m---------------------------------------------------------------------------\u001b[0m",
      "\u001b[1;31mTypeError\u001b[0m                                 Traceback (most recent call last)",
      "Cell \u001b[1;32mIn[105], line 1\u001b[0m\n\u001b[1;32m----> 1\u001b[0m \u001b[38;5;241m4\u001b[39m\u001b[38;5;241m+\u001b[39m\u001b[38;5;241m4\u001b[39mj \u001b[38;5;241m|\u001b[39m \u001b[38;5;241m9\u001b[39m\u001b[38;5;241m+\u001b[39m\u001b[38;5;241m7\u001b[39mj\n",
      "\u001b[1;31mTypeError\u001b[0m: unsupported operand type(s) for |: 'complex' and 'complex'"
     ]
    }
   ],
   "source": [
    "4+4j | 9+7j # works only int and bool reh baba"
   ]
  },
  {
   "cell_type": "code",
   "execution_count": 107,
   "id": "7f76b128",
   "metadata": {},
   "outputs": [
    {
     "data": {
      "text/plain": [
       "True"
      ]
     },
     "execution_count": 107,
     "metadata": {},
     "output_type": "execute_result"
    }
   ],
   "source": [
    "True | True "
   ]
  },
  {
   "cell_type": "code",
   "execution_count": null,
   "id": "3d423acb",
   "metadata": {},
   "outputs": [],
   "source": []
  }
 ],
 "metadata": {
  "kernelspec": {
   "display_name": "Python 3 (ipykernel)",
   "language": "python",
   "name": "python3"
  },
  "language_info": {
   "codemirror_mode": {
    "name": "ipython",
    "version": 3
   },
   "file_extension": ".py",
   "mimetype": "text/x-python",
   "name": "python",
   "nbconvert_exporter": "python",
   "pygments_lexer": "ipython3",
   "version": "3.11.5"
  }
 },
 "nbformat": 4,
 "nbformat_minor": 5
}
