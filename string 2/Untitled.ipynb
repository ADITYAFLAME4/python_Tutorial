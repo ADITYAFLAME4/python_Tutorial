{
 "cells": [
  {
   "cell_type": "markdown",
   "id": "10ba98d4",
   "metadata": {},
   "source": [
    "# string part 2\n"
   ]
  },
  {
   "cell_type": "raw",
   "id": "49ce8d49",
   "metadata": {},
   "source": [
    "split() ==> splits the string on the basis of default separator(\"space \") and return a list\n",
    "split(\"separator\") ==> on the basis of given separator it will split and returns the split string in an list        "
   ]
  },
  {
   "cell_type": "code",
   "execution_count": 3,
   "id": "972b0bf4",
   "metadata": {},
   "outputs": [
    {
     "name": "stdout",
     "output_type": "stream",
     "text": [
      "['pankaj', 'sir', 'is', 'good', 'faculty']\n"
     ]
    }
   ],
   "source": [
    "s=\"pankaj sir is good faculty\"\n",
    "print(s.split()) # returns a list\n"
   ]
  },
  {
   "cell_type": "code",
   "execution_count": 8,
   "id": "c2f13b7c",
   "metadata": {},
   "outputs": [
    {
     "name": "stdout",
     "output_type": "stream",
     "text": [
      "<class 'list'>\n",
      "['pankaj', 'sir', 'is', 'good', 'faculty']\n"
     ]
    }
   ],
   "source": [
    "s=\"pankaj sir is good faculty\"\n",
    "l=s.split()\n",
    "print(type(l))\n",
    "print(l)"
   ]
  },
  {
   "cell_type": "code",
   "execution_count": 13,
   "id": "cdc3128a",
   "metadata": {},
   "outputs": [
    {
     "name": "stdout",
     "output_type": "stream",
     "text": [
      "['pankaj ', 'ir i', ' good faculty']\n"
     ]
    }
   ],
   "source": [
    "s=\"pankaj sir is good faculty\"\n",
    "l=s.split('s') #==> on the basis of 's' it will separate\n",
    "print(l)"
   ]
  },
  {
   "cell_type": "code",
   "execution_count": 16,
   "id": "c3c35a40",
   "metadata": {},
   "outputs": [
    {
     "name": "stdout",
     "output_type": "stream",
     "text": [
      "['27', '01', '2001']\n",
      "<class 'str'>\n",
      "<class 'list'>\n"
     ]
    }
   ],
   "source": [
    "s=\"27/01/2001\"\n",
    "l=s.split('/') #==> on the basis of '/' it will separate\n",
    "print(l)\n",
    "print(type(s))\n",
    "print(type(l))"
   ]
  },
  {
   "cell_type": "raw",
   "id": "601b60e8",
   "metadata": {},
   "source": [
    "join() method ==> to join the list element and returns a string\n",
    "syntax==> 'separator'.join(listname)"
   ]
  },
  {
   "cell_type": "code",
   "execution_count": 20,
   "id": "af2ac28e",
   "metadata": {},
   "outputs": [
    {
     "name": "stdout",
     "output_type": "stream",
     "text": [
      "27012001\n"
     ]
    }
   ],
   "source": [
    "l = ['27', '01', '2001']\n",
    "print(''.join(l)) # join karo l ko on the basis of empty string"
   ]
  },
  {
   "cell_type": "code",
   "execution_count": 23,
   "id": "8c7156e9",
   "metadata": {},
   "outputs": [
    {
     "name": "stdout",
     "output_type": "stream",
     "text": [
      "27/01/2001\n"
     ]
    }
   ],
   "source": [
    "l = ['27', '01', '2001']\n",
    "print('/'.join(l)) # join karo l ko on the basis of slash(/)"
   ]
  },
  {
   "cell_type": "code",
   "execution_count": 31,
   "id": "590b5816",
   "metadata": {},
   "outputs": [
    {
     "name": "stdout",
     "output_type": "stream",
     "text": [
      "mithun raptan is not a good boy\n",
      "<class 'str'>\n"
     ]
    }
   ],
   "source": [
    "#join() method returns string\n",
    "l=[\"mithun\",\"raptan\",\"is\",\"not\",\"a\",\"good\",\"boy\"]\n",
    "s = ' '.join(l) #here the separator could be anything, but here i use empty space separator\n",
    "print(s)\n",
    "print(type(s)) # returns a string"
   ]
  },
  {
   "cell_type": "raw",
   "id": "70905f6d",
   "metadata": {},
   "source": [
    "to print even number length in the string"
   ]
  },
  {
   "cell_type": "code",
   "execution_count": 1,
   "id": "84ca1be0",
   "metadata": {},
   "outputs": [
    {
     "name": "stdout",
     "output_type": "stream",
     "text": [
      "mithun  : even word\n",
      "raptan  : even word\n",
      "is  : even word\n",
      "a  : odd word\n",
      "very  : even word\n",
      "bad  : odd word\n",
      "boy  : odd word\n"
     ]
    }
   ],
   "source": [
    "s=\"mithun raptan is a very bad boy\"\n",
    "for word in s.split():  #s.split()=>this will return a list of given string. default separator is space\n",
    "    if len(word)%2==0:  #, and it will iterate till the lists end of the index(one index is having one word)\n",
    "        print(word,\" : even word\")\n",
    "    else:\n",
    "        print(word,\" : odd word\")\n",
    "    \n",
    "    \n",
    "\n"
   ]
  },
  {
   "cell_type": "raw",
   "id": "8c9c4cc1",
   "metadata": {},
   "source": [
    "pankaj sharma sir ==>p s sir"
   ]
  },
  {
   "cell_type": "code",
   "execution_count": 2,
   "id": "0f1719f0",
   "metadata": {},
   "outputs": [
    {
     "name": "stdout",
     "output_type": "stream",
     "text": [
      "type your full name: Subhash Chandra Bose\n",
      "['S', 'C', 'Bose']\n",
      "S C Bose\n"
     ]
    }
   ],
   "source": [
    "s = input(\"type your full name: \")\n",
    "update = []   #creating empty list\n",
    "l=s.split() #==> list ['pankaj','sharma','sir']      # splits returns list\n",
    "for word in l[ :len(l)-1]:     # l[beginning : 2] ==> beginning to till 3-1 index\n",
    "    update.append(word[0])  # 0th index of word will added into 'update' empty list\n",
    "update.append(l[len(l)-1])   # last word of the sentence adding into 'update' list\n",
    "print(update)     # checking the updated list\n",
    "shortName =    ' '.join(update)  #joining 'update' list on the basis of space and it will reply a string\n",
    "print(shortName)\n",
    "    \n",
    "            "
   ]
  },
  {
   "cell_type": "raw",
   "id": "61e5b171",
   "metadata": {},
   "source": [
    "find() ==> it returns the index number of the given substring's first occurence, if it is not present then it returns -1\n",
    "syntax ==> stringName.find(\"searching things\")"
   ]
  },
  {
   "cell_type": "code",
   "execution_count": 7,
   "id": "9dca5e15",
   "metadata": {},
   "outputs": [
    {
     "name": "stdout",
     "output_type": "stream",
     "text": [
      "-1\n"
     ]
    }
   ],
   "source": [
    "s=\"pankaj sir is teaching python\"\n",
    "print(s.find(\"dfd\")) # not present this is why it returns -1"
   ]
  },
  {
   "cell_type": "code",
   "execution_count": 8,
   "id": "fca25b07",
   "metadata": {},
   "outputs": [
    {
     "name": "stdout",
     "output_type": "stream",
     "text": [
      "0\n"
     ]
    }
   ],
   "source": [
    "s=\"pankaj sir is teaching python\"\n",
    "print(s.find(\"pankaj\"))  #at 0th index substring=> pankaj    is oresent "
   ]
  },
  {
   "cell_type": "code",
   "execution_count": 9,
   "id": "fa26db62",
   "metadata": {},
   "outputs": [
    {
     "name": "stdout",
     "output_type": "stream",
     "text": [
      "0\n"
     ]
    }
   ],
   "source": [
    "s=\"pankaj sir is teaching python and pankaj is also a roaster\"\n",
    "print(s.find(\"pankaj\")) # pankaj is 2 times in the string =>then also it gives first occurence index no"
   ]
  },
  {
   "cell_type": "code",
   "execution_count": 6,
   "id": "15d02fdc",
   "metadata": {},
   "outputs": [
    {
     "name": "stdout",
     "output_type": "stream",
     "text": [
      "-1\n"
     ]
    }
   ],
   "source": [
    "#there is another version of find() in which you can tell from where to start searching\n",
    "#syntax==> find(substring,startindex,endindex)  search substring in between startindex to endindex-1\n",
    "                                                # and return the index number \n",
    "                                                #if it is not present then i will return -1\n",
    "#if we dont give the endindex then it will go till the last index of the string\n",
    "\n",
    "\n",
    "s=\"pankaj sir is teaching python and he is also a roaster\"\n",
    "m=s.find(\"pankaj\",9,52)\n",
    "print(m)\n"
   ]
  },
  {
   "cell_type": "code",
   "execution_count": 1,
   "id": "d63439d7",
   "metadata": {},
   "outputs": [
    {
     "name": "stdout",
     "output_type": "stream",
     "text": [
      "51\n"
     ]
    }
   ],
   "source": [
    "s=\"pankaj sir is teaching python and pankaj is also a roaster\"\n",
    "f=s.find(\"roaster\",9, ) #start index is 9 and it will check till end index\n",
    "print(f)"
   ]
  },
  {
   "cell_type": "code",
   "execution_count": 7,
   "id": "61dcc0f7",
   "metadata": {},
   "outputs": [
    {
     "name": "stdout",
     "output_type": "stream",
     "text": [
      "58\n",
      "44\n"
     ]
    }
   ],
   "source": [
    "s=\"pankaj sir is teaching python and pankaj is also a roaster\"\n",
    "print(len(s)) #return the total length of the string\n",
    "f = s.rfind(\"also\") #last occurance index number will return\n",
    "print(f)\n"
   ]
  },
  {
   "cell_type": "code",
   "execution_count": 8,
   "id": "0140e47d",
   "metadata": {},
   "outputs": [
    {
     "name": "stdout",
     "output_type": "stream",
     "text": [
      "58\n",
      "-1\n"
     ]
    }
   ],
   "source": [
    "s=\"pankaj sir is teaching python and pankaj is also a roaster\"\n",
    "print(len(s)) #return the total length of the string\n",
    "f = s.rfind(\"also\",46,) # from last index to 46 index tak find korega\n",
    "print(f)"
   ]
  },
  {
   "cell_type": "raw",
   "id": "dd13ec06",
   "metadata": {},
   "source": [
    "#finding/counting substring\n",
    "#count(\"substring\") ==> total no. of substring will return\n",
    "#count(\"substring\",startindex,endindex) ==> count the no.of occurence of particular substring though thr given startindex to endindex-1"
   ]
  },
  {
   "cell_type": "code",
   "execution_count": 13,
   "id": "51f5d092",
   "metadata": {},
   "outputs": [
    {
     "name": "stdout",
     "output_type": "stream",
     "text": [
      "2\n"
     ]
    }
   ],
   "source": [
    "s=\"pankaj sir is teaching python and pankaj sir is also a roaster\"\n",
    "print(s.count(\"pankaj\"))"
   ]
  },
  {
   "cell_type": "code",
   "execution_count": 9,
   "id": "c521e7d8",
   "metadata": {},
   "outputs": [
    {
     "name": "stdout",
     "output_type": "stream",
     "text": [
      "1\n"
     ]
    }
   ],
   "source": [
    "s=\"pankaj sir is teaching python and pankaj sir is also a roaster\"\n",
    "print(s.count(\"pankaj\",5,len(s))) #5 index to len(s)-1 index tak count korega"
   ]
  },
  {
   "cell_type": "raw",
   "id": "9980fb8f",
   "metadata": {},
   "source": [
    "# replace a string with another string\n",
    "# replace(\"changingstring\",\"newstring\")"
   ]
  },
  {
   "cell_type": "code",
   "execution_count": 19,
   "id": "b60a2454",
   "metadata": {},
   "outputs": [
    {
     "name": "stdout",
     "output_type": "stream",
     "text": [
      "1476165612720\n",
      "1476165612160\n",
      "pankaj sir is teaching python and pankaj is also a roaster\n",
      "pankaj ostadji is teaching python and pankaj is also a roaster\n"
     ]
    }
   ],
   "source": [
    "s=\"pankaj sir is teaching python and pankaj is also a roaster\"\n",
    "m= s.replace(\"sir\",\"ostadji\")\n",
    "print(id(s))\n",
    "print(id(m))  ##string is immutable ==> check the id value, they are different\n",
    "print(s) # 's' will never chnage \n",
    "print(m) #'m' just update it and store in another memory location in memory\n",
    "# string immutable"
   ]
  },
  {
   "cell_type": "raw",
   "id": "d00a5745",
   "metadata": {},
   "source": [
    "# reverse of sentence "
   ]
  },
  {
   "cell_type": "code",
   "execution_count": 38,
   "id": "ce45a3cd",
   "metadata": {},
   "outputs": [
    {
     "name": "stdout",
     "output_type": "stream",
     "text": [
      "pankaj sharma sir\n",
      "['sir', 'sharma', 'pankaj']\n",
      "sir sharma pankaj\n"
     ]
    }
   ],
   "source": [
    "#s=\"pankaj sharma sir\"\n",
    "s=input()\n",
    "s1 = s.split()  # ['pankaj','sharma','sir']\n",
    "m = s1[ : :-1]  #['sir','sharma','pankaj']\n",
    "print(m)\n",
    "j =' '.join(m)  # returns string of 'm'\n",
    "print(j)\n",
    "    "
   ]
  },
  {
   "cell_type": "raw",
   "id": "999fd6d9",
   "metadata": {},
   "source": [
    "# reversing each word of a sentence"
   ]
  },
  {
   "cell_type": "code",
   "execution_count": 45,
   "id": "db9fcef8",
   "metadata": {},
   "outputs": [
    {
     "name": "stdout",
     "output_type": "stream",
     "text": [
      "pankaj sharma\n",
      "['p', 'a', 'n', 'k', 'a', 'j', ' ', 's', 'h', 'a', 'r', 'm', 'a']\n",
      "['a', 'm', 'r', 'a', 'h', 's', ' ', 'j', 'a', 'k', 'n', 'a', 'p']\n",
      "amrahs jaknap\n"
     ]
    }
   ],
   "source": [
    "s = input()   # 'pankaj'\n",
    "l=[]\n",
    "for character in s:\n",
    "    l.append(character)\n",
    "print(l)  # checking purpose that it will return a list \n",
    "r = l[ : :-1]  # reversing the list\n",
    "print(r)  # checking the list element is reversed or not\n",
    "j = ''.join(r)   #joining the reverse list element with empty space\n",
    "print(j) # printing the result ==>reverse the word of the sentence\n"
   ]
  },
  {
   "cell_type": "raw",
   "id": "46101fee",
   "metadata": {},
   "source": [
    "#some more methods about string"
   ]
  },
  {
   "cell_type": "code",
   "execution_count": 47,
   "id": "90b3632e",
   "metadata": {},
   "outputs": [
    {
     "name": "stdout",
     "output_type": "stream",
     "text": [
      "True\n"
     ]
    }
   ],
   "source": [
    "#isalnum()  => return True if all the character are alphaneumeric a-z, A-Z, 0-9\n",
    "            #otherwise returns False\n",
    "\n",
    "s= \"Avenger1\"\n",
    "print(s.isalnum()) #returns True"
   ]
  },
  {
   "cell_type": "code",
   "execution_count": 48,
   "id": "a53cdc1c",
   "metadata": {},
   "outputs": [
    {
     "name": "stdout",
     "output_type": "stream",
     "text": [
      "False\n"
     ]
    }
   ],
   "source": [
    "#isalpha()  ==> returns True if all the characters alphabet\n",
    "               #otherwise returns False\n",
    "\n",
    "s = \"jamesbond007\"\n",
    "print(s.isalpha()) #007 is not alphabet => False"
   ]
  },
  {
   "cell_type": "code",
   "execution_count": 50,
   "id": "76a5dcb2",
   "metadata": {},
   "outputs": [
    {
     "name": "stdout",
     "output_type": "stream",
     "text": [
      "False\n"
     ]
    }
   ],
   "source": [
    "#isdigit()   ==>returns True if all the characters are digit\n",
    "               #otherwise returns False\n",
    "s=\"27.01.2001\"\n",
    "print(s.isdigit()) # 'dot(.)' is not digit => False\n"
   ]
  },
  {
   "cell_type": "code",
   "execution_count": 1,
   "id": "ea30d2b8",
   "metadata": {},
   "outputs": [
    {
     "name": "stdout",
     "output_type": "stream",
     "text": [
      "True\n"
     ]
    }
   ],
   "source": [
    "#islower() => rerturns True if all the character are in lower case, otherwise False\n",
    "s = \"mithun\"\n",
    "print(s.islower())\n",
    "\n",
    "#same we have isupper() function"
   ]
  },
  {
   "cell_type": "code",
   "execution_count": 4,
   "id": "4a1a390c",
   "metadata": {},
   "outputs": [
    {
     "name": "stdout",
     "output_type": "stream",
     "text": [
      "natpar nuhtim\n"
     ]
    }
   ],
   "source": [
    "s = \"mithun raptan\"\n",
    "m = s[ : :-1]\n",
    "print(m)"
   ]
  },
  {
   "cell_type": "code",
   "execution_count": null,
   "id": "f239a8e8",
   "metadata": {},
   "outputs": [],
   "source": []
  }
 ],
 "metadata": {
  "kernelspec": {
   "display_name": "Python 3 (ipykernel)",
   "language": "python",
   "name": "python3"
  },
  "language_info": {
   "codemirror_mode": {
    "name": "ipython",
    "version": 3
   },
   "file_extension": ".py",
   "mimetype": "text/x-python",
   "name": "python",
   "nbconvert_exporter": "python",
   "pygments_lexer": "ipython3",
   "version": "3.11.5"
  }
 },
 "nbformat": 4,
 "nbformat_minor": 5
}
