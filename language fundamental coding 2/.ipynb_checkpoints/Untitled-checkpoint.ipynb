{
 "cells": [
  {
   "cell_type": "markdown",
   "id": "c2bae50d",
   "metadata": {},
   "source": [
    "# mutable & imutable "
   ]
  },
  {
   "cell_type": "markdown",
   "id": "1183e424",
   "metadata": {},
   "source": [
    "'''immutability: once an object is created no-one can update it, \n",
    "and if python allow to update then it means internally python created another memory \n",
    "location (ex: string, tupple)'''\n",
    "#mutability: we can update this object (list,set,dictionary)"
   ]
  },
  {
   "cell_type": "code",
   "execution_count": 3,
   "id": "92efe368",
   "metadata": {},
   "outputs": [
    {
     "ename": "TypeError",
     "evalue": "'str' object does not support item assignment",
     "output_type": "error",
     "traceback": [
      "\u001b[1;31m---------------------------------------------------------------------------\u001b[0m",
      "\u001b[1;31mTypeError\u001b[0m                                 Traceback (most recent call last)",
      "Cell \u001b[1;32mIn[3], line 2\u001b[0m\n\u001b[0;32m      1\u001b[0m s\u001b[38;5;241m=\u001b[39m\u001b[38;5;124m\"\u001b[39m\u001b[38;5;124mmithun\u001b[39m\u001b[38;5;124m\"\u001b[39m \u001b[38;5;66;03m#this is a string\u001b[39;00m\n\u001b[1;32m----> 2\u001b[0m s[\u001b[38;5;241m2\u001b[39m]\u001b[38;5;241m=\u001b[39m\u001b[38;5;124m\"\u001b[39m\u001b[38;5;124mh\u001b[39m\u001b[38;5;124m\"\u001b[39m\n",
      "\u001b[1;31mTypeError\u001b[0m: 'str' object does not support item assignment"
     ]
    }
   ],
   "source": [
    "s=\"mithun\" #this is a string\n",
    "s[2]=\"h\"  # we can't update the string this is why it is immutable"
   ]
  },
  {
   "cell_type": "code",
   "execution_count": 4,
   "id": "3cc6ea42",
   "metadata": {},
   "outputs": [
    {
     "data": {
      "text/plain": [
       "140734621193288"
      ]
     },
     "execution_count": 4,
     "metadata": {},
     "output_type": "execute_result"
    }
   ],
   "source": [
    "a =10\n",
    "id(a)"
   ]
  },
  {
   "cell_type": "code",
   "execution_count": 5,
   "id": "1e31f788",
   "metadata": {},
   "outputs": [
    {
     "data": {
      "text/plain": [
       "140734621193448"
      ]
     },
     "execution_count": 5,
     "metadata": {},
     "output_type": "execute_result"
    }
   ],
   "source": [
    "a=15\n",
    "id(a) # 'a' is updated and internally created another memory location for 'a'"
   ]
  },
  {
   "cell_type": "code",
   "execution_count": 7,
   "id": "10cc7f5f",
   "metadata": {},
   "outputs": [
    {
     "data": {
      "text/plain": [
       "140734621193448"
      ]
     },
     "execution_count": 7,
     "metadata": {},
     "output_type": "execute_result"
    }
   ],
   "source": [
    "id(a)"
   ]
  },
  {
   "cell_type": "raw",
   "id": "bdc496f4",
   "metadata": {},
   "source": [
    "#list : group of elements\n",
    "#         order preserved(index)\n",
    "#         duplicate elements allowed\n",
    "#         heterogen element"
   ]
  },
  {
   "cell_type": "code",
   "execution_count": 33,
   "id": "bc2a474c",
   "metadata": {},
   "outputs": [
    {
     "data": {
      "text/plain": [
       "list"
      ]
     },
     "execution_count": 33,
     "metadata": {},
     "output_type": "execute_result"
    }
   ],
   "source": [
    "l=[1,23,4,\"mithun\",67]\n",
    "type(l)\n"
   ]
  },
  {
   "cell_type": "code",
   "execution_count": 35,
   "id": "c3305bc5",
   "metadata": {},
   "outputs": [
    {
     "data": {
      "text/plain": [
       "1"
      ]
     },
     "execution_count": 35,
     "metadata": {},
     "output_type": "execute_result"
    }
   ],
   "source": [
    "l[0]\n"
   ]
  },
  {
   "cell_type": "code",
   "execution_count": 34,
   "id": "7f16cdb0",
   "metadata": {},
   "outputs": [
    {
     "data": {
      "text/plain": [
       "67"
      ]
     },
     "execution_count": 34,
     "metadata": {},
     "output_type": "execute_result"
    }
   ],
   "source": [
    "l[-1]"
   ]
  },
  {
   "cell_type": "code",
   "execution_count": 13,
   "id": "20cda6a3",
   "metadata": {},
   "outputs": [],
   "source": [
    "#slicing on list"
   ]
  },
  {
   "cell_type": "code",
   "execution_count": 14,
   "id": "67f72715",
   "metadata": {},
   "outputs": [
    {
     "data": {
      "text/plain": [
       "[23, 4, 'mithun']"
      ]
     },
     "execution_count": 14,
     "metadata": {},
     "output_type": "execute_result"
    }
   ],
   "source": [
    "l[1:4] #slicing 1,2,3 i,e. 1 to 4-1==>element 2nd,3rd,4th"
   ]
  },
  {
   "cell_type": "code",
   "execution_count": 16,
   "id": "1f86c17f",
   "metadata": {},
   "outputs": [
    {
     "data": {
      "text/plain": [
       "[1001, 23, 4, 'mithun', 67]"
      ]
     },
     "execution_count": 16,
     "metadata": {},
     "output_type": "execute_result"
    }
   ],
   "source": [
    "l[0]=1001\n",
    "l             # here we can see we update the first element of list, so lists are mutable"
   ]
  },
  {
   "cell_type": "code",
   "execution_count": 20,
   "id": "adab2d2f",
   "metadata": {},
   "outputs": [
    {
     "data": {
      "text/plain": [
       "[1001, 23, 4, 'mithun', 67, 'raptan']"
      ]
     },
     "execution_count": 20,
     "metadata": {},
     "output_type": "execute_result"
    }
   ],
   "source": [
    "#append() : add an element in the end of the list\n",
    "l.append(\"raptan\")\n",
    "l"
   ]
  },
  {
   "cell_type": "code",
   "execution_count": 21,
   "id": "c1b07d54",
   "metadata": {},
   "outputs": [
    {
     "data": {
      "text/plain": [
       "[1001, 23, 4, 'mithun', 67, 'raptan', 1001]"
      ]
     },
     "execution_count": 21,
     "metadata": {},
     "output_type": "execute_result"
    }
   ],
   "source": [
    "l.append(1001) #list can have duplicate value example\n",
    "l"
   ]
  },
  {
   "cell_type": "code",
   "execution_count": 27,
   "id": "3cbfc7d1",
   "metadata": {},
   "outputs": [
    {
     "data": {
      "text/plain": [
       "[1001, 4, 'mithun', 67, 'raptan', 1001]"
      ]
     },
     "execution_count": 27,
     "metadata": {},
     "output_type": "execute_result"
    }
   ],
   "source": [
    "#remove() : used to remove an element from the list\n",
    "l.remove(23)  #don't use index inside remove() function, use element value.\n",
    "l"
   ]
  },
  {
   "cell_type": "code",
   "execution_count": 28,
   "id": "a3cf7566",
   "metadata": {},
   "outputs": [
    {
     "data": {
      "text/plain": [
       "[4, 'mithun', 67, 'raptan', 1001]"
      ]
     },
     "execution_count": 28,
     "metadata": {},
     "output_type": "execute_result"
    }
   ],
   "source": [
    "l.remove(1001) #only remove first occurence of that element\n",
    "l"
   ]
  },
  {
   "cell_type": "code",
   "execution_count": 45,
   "id": "0a9c58fd",
   "metadata": {},
   "outputs": [
    {
     "ename": "TypeError",
     "evalue": "'str' object does not support item assignment",
     "output_type": "error",
     "traceback": [
      "\u001b[1;31m---------------------------------------------------------------------------\u001b[0m",
      "\u001b[1;31mTypeError\u001b[0m                                 Traceback (most recent call last)",
      "Cell \u001b[1;32mIn[45], line 1\u001b[0m\n\u001b[1;32m----> 1\u001b[0m l[\u001b[38;5;241m3\u001b[39m][\u001b[38;5;241m1\u001b[39m]\u001b[38;5;241m=\u001b[39m\u001b[38;5;124m'\u001b[39m\u001b[38;5;124mh\u001b[39m\u001b[38;5;124m'\u001b[39m   \n\u001b[0;32m      2\u001b[0m l\n",
      "\u001b[1;31mTypeError\u001b[0m: 'str' object does not support item assignment"
     ]
    }
   ],
   "source": [
    "l[3][1]='h'   #ud ke lath padegi, since str object is immutable so we can not chnage anything in string "
   ]
  },
  {
   "cell_type": "code",
   "execution_count": 36,
   "id": "a27dee38",
   "metadata": {},
   "outputs": [],
   "source": [
    "# tupple : group of elements\n",
    "#            order preserved(index)\n",
    "#            duplicate elements elements allowed\n",
    "#            tupple is read only, means tupple is immutable"
   ]
  },
  {
   "cell_type": "code",
   "execution_count": 37,
   "id": "235b9705",
   "metadata": {},
   "outputs": [
    {
     "data": {
      "text/plain": [
       "tuple"
      ]
     },
     "execution_count": 37,
     "metadata": {},
     "output_type": "execute_result"
    }
   ],
   "source": [
    "t=(10,12,3,\"mithun\",67,10)\n",
    "type(t)\n"
   ]
  },
  {
   "cell_type": "code",
   "execution_count": 38,
   "id": "b6a41f54",
   "metadata": {},
   "outputs": [
    {
     "data": {
      "text/plain": [
       "10"
      ]
     },
     "execution_count": 38,
     "metadata": {},
     "output_type": "execute_result"
    }
   ],
   "source": [
    "t[0] #index allowed so we can see the value of a particular index i,e. tupple is read only"
   ]
  },
  {
   "cell_type": "code",
   "execution_count": 46,
   "id": "848fcc59",
   "metadata": {},
   "outputs": [
    {
     "data": {
      "text/plain": [
       "(12, 3, 'mithun')"
      ]
     },
     "execution_count": 46,
     "metadata": {},
     "output_type": "execute_result"
    }
   ],
   "source": [
    "t[1:4] #1 to till 4-1"
   ]
  },
  {
   "cell_type": "code",
   "execution_count": 41,
   "id": "dcb796db",
   "metadata": {},
   "outputs": [
    {
     "ename": "TypeError",
     "evalue": "'tuple' object does not support item assignment",
     "output_type": "error",
     "traceback": [
      "\u001b[1;31m---------------------------------------------------------------------------\u001b[0m",
      "\u001b[1;31mTypeError\u001b[0m                                 Traceback (most recent call last)",
      "Cell \u001b[1;32mIn[41], line 1\u001b[0m\n\u001b[1;32m----> 1\u001b[0m t[\u001b[38;5;241m0\u001b[39m]\u001b[38;5;241m=\u001b[39m\u001b[38;5;241m1001\u001b[39m\n\u001b[0;32m      2\u001b[0m t\n",
      "\u001b[1;31mTypeError\u001b[0m: 'tuple' object does not support item assignment"
     ]
    }
   ],
   "source": [
    "t[0]=1001    # tupple is immutable so we can't change or update anything onto it\n",
    "t"
   ]
  },
  {
   "cell_type": "code",
   "execution_count": 42,
   "id": "ddc73c42",
   "metadata": {},
   "outputs": [
    {
     "ename": "AttributeError",
     "evalue": "'tuple' object has no attribute 'append'",
     "output_type": "error",
     "traceback": [
      "\u001b[1;31m---------------------------------------------------------------------------\u001b[0m",
      "\u001b[1;31mAttributeError\u001b[0m                            Traceback (most recent call last)",
      "Cell \u001b[1;32mIn[42], line 1\u001b[0m\n\u001b[1;32m----> 1\u001b[0m t\u001b[38;5;241m.\u001b[39mappend(\u001b[38;5;124m\"\u001b[39m\u001b[38;5;124mraptan\u001b[39m\u001b[38;5;124m\"\u001b[39m)\n",
      "\u001b[1;31mAttributeError\u001b[0m: 'tuple' object has no attribute 'append'"
     ]
    }
   ],
   "source": [
    "t.append(\"raptan\") # ud ke laath padegi, immutable hai beta"
   ]
  },
  {
   "cell_type": "code",
   "execution_count": 43,
   "id": "089a7ea2",
   "metadata": {},
   "outputs": [
    {
     "ename": "AttributeError",
     "evalue": "'tuple' object has no attribute 'remove'",
     "output_type": "error",
     "traceback": [
      "\u001b[1;31m---------------------------------------------------------------------------\u001b[0m",
      "\u001b[1;31mAttributeError\u001b[0m                            Traceback (most recent call last)",
      "Cell \u001b[1;32mIn[43], line 1\u001b[0m\n\u001b[1;32m----> 1\u001b[0m t\u001b[38;5;241m.\u001b[39mremove(\u001b[38;5;241m10\u001b[39m)\n",
      "\u001b[1;31mAttributeError\u001b[0m: 'tuple' object has no attribute 'remove'"
     ]
    }
   ],
   "source": [
    "t.remove(10) #immutable hai beta , koi change nhi kar sakte"
   ]
  },
  {
   "cell_type": "code",
   "execution_count": 47,
   "id": "dc07dcb1",
   "metadata": {},
   "outputs": [],
   "source": [
    "# range : represents a sequence of numbers"
   ]
  },
  {
   "cell_type": "code",
   "execution_count": 48,
   "id": "d6462a31",
   "metadata": {},
   "outputs": [
    {
     "data": {
      "text/plain": [
       "range(0, 5)"
      ]
     },
     "execution_count": 48,
     "metadata": {},
     "output_type": "execute_result"
    }
   ],
   "source": [
    "range(5) # it will generates number internally starting from 0 to 5-1"
   ]
  },
  {
   "cell_type": "code",
   "execution_count": 58,
   "id": "cdbd6c48",
   "metadata": {},
   "outputs": [
    {
     "name": "stdout",
     "output_type": "stream",
     "text": [
      "0\n",
      "1\n",
      "2\n",
      "3\n",
      "4\n"
     ]
    }
   ],
   "source": [
    "#by the help of loop we can see theinternally generate numbers \n",
    "for elements in range(5):print(elements)     # this is the way of writing loop in python\n"
   ]
  },
  {
   "cell_type": "code",
   "execution_count": 59,
   "id": "7eb5fea9",
   "metadata": {},
   "outputs": [
    {
     "data": {
      "text/plain": [
       "range(5, 15, 3)"
      ]
     },
     "execution_count": 59,
     "metadata": {},
     "output_type": "execute_result"
    }
   ],
   "source": [
    "#format 3\n",
    "range(5,15,3) # here 3 is the format means it will print like 5, 8, 11, 14."
   ]
  },
  {
   "cell_type": "code",
   "execution_count": 60,
   "id": "6ad48752",
   "metadata": {},
   "outputs": [
    {
     "name": "stdout",
     "output_type": "stream",
     "text": [
      "5\n",
      "8\n",
      "11\n",
      "14\n"
     ]
    }
   ],
   "source": [
    "for i in range(5,15,3): print(i)"
   ]
  },
  {
   "cell_type": "code",
   "execution_count": 61,
   "id": "2cdffdd2",
   "metadata": {},
   "outputs": [],
   "source": [
    "#set : represent a set\n",
    "    no duplicate elements will be there in set\n",
    "    order not preserved i,e. no concept of indexing\n",
    "    slicing is not posibile cuz indexing is not there\n",
    "    heterogenous eements\n",
    "    mutable\n",
    "    growable(add/remove)\n",
    "    "
   ]
  },
  {
   "cell_type": "code",
   "execution_count": 69,
   "id": "a6f0f2ba",
   "metadata": {},
   "outputs": [],
   "source": [
    "s={1,2,3,'mithun',4,'raptan',4} # '4' will not be print cuz in set no duplicate elements wil be present "
   ]
  },
  {
   "cell_type": "code",
   "execution_count": 70,
   "id": "e194ea09",
   "metadata": {},
   "outputs": [
    {
     "name": "stdout",
     "output_type": "stream",
     "text": [
      "{1, 2, 3, 4, 'mithun', 8, 'raptan'}\n"
     ]
    }
   ],
   "source": [
    "print(s)"
   ]
  },
  {
   "cell_type": "code",
   "execution_count": 67,
   "id": "9a041741",
   "metadata": {},
   "outputs": [
    {
     "name": "stdout",
     "output_type": "stream",
     "text": [
      "{'u', 'h', 'm', 'n', 'i', 't'}\n"
     ]
    }
   ],
   "source": [
    "a = set(\"mitthun\") #'t' will print one time cuz in set no duplicate elements will be presents\n",
    "print(a)"
   ]
  },
  {
   "cell_type": "code",
   "execution_count": 71,
   "id": "7754adf4",
   "metadata": {},
   "outputs": [
    {
     "data": {
      "text/plain": [
       "{1, 12, 2, 3, 4, 8, 'mithun', 'raptan'}"
      ]
     },
     "execution_count": 71,
     "metadata": {},
     "output_type": "execute_result"
    }
   ],
   "source": [
    "s.add(12) # to add element in the set\n",
    "s"
   ]
  },
  {
   "cell_type": "code",
   "execution_count": 72,
   "id": "e42992c3",
   "metadata": {},
   "outputs": [
    {
     "data": {
      "text/plain": [
       "{1, 12, 2, 4, 8, 'mithun', 'raptan'}"
      ]
     },
     "execution_count": 72,
     "metadata": {},
     "output_type": "execute_result"
    }
   ],
   "source": [
    "s.remove(3) #to remove an element in the set\n",
    "s"
   ]
  },
  {
   "cell_type": "code",
   "execution_count": 73,
   "id": "1d8ff0ce",
   "metadata": {},
   "outputs": [],
   "source": [
    "#frozenset ==> same as set but it is immutable\n",
    "#                 no add elements\n",
    "#                 no remove elements"
   ]
  },
  {
   "cell_type": "code",
   "execution_count": 77,
   "id": "2ed6c4a8",
   "metadata": {},
   "outputs": [],
   "source": [
    "s = {10,12,14,15,21,22}\n",
    "f = frozenset(s)"
   ]
  },
  {
   "cell_type": "code",
   "execution_count": 78,
   "id": "eb3481a2",
   "metadata": {},
   "outputs": [
    {
     "data": {
      "text/plain": [
       "frozenset"
      ]
     },
     "execution_count": 78,
     "metadata": {},
     "output_type": "execute_result"
    }
   ],
   "source": [
    "type(f)\n"
   ]
  },
  {
   "cell_type": "code",
   "execution_count": 79,
   "id": "e1f87e66",
   "metadata": {},
   "outputs": [
    {
     "data": {
      "text/plain": [
       "frozenset({10, 12, 14, 15, 21, 22})"
      ]
     },
     "execution_count": 79,
     "metadata": {},
     "output_type": "execute_result"
    }
   ],
   "source": [
    "f"
   ]
  },
  {
   "cell_type": "code",
   "execution_count": 80,
   "id": "eef579b1",
   "metadata": {},
   "outputs": [
    {
     "ename": "AttributeError",
     "evalue": "'frozenset' object has no attribute 'add'",
     "output_type": "error",
     "traceback": [
      "\u001b[1;31m---------------------------------------------------------------------------\u001b[0m",
      "\u001b[1;31mAttributeError\u001b[0m                            Traceback (most recent call last)",
      "Cell \u001b[1;32mIn[80], line 1\u001b[0m\n\u001b[1;32m----> 1\u001b[0m f\u001b[38;5;241m.\u001b[39madd(\u001b[38;5;241m1001\u001b[39m)\n",
      "\u001b[1;31mAttributeError\u001b[0m: 'frozenset' object has no attribute 'add'"
     ]
    }
   ],
   "source": [
    "f.add(1001) #error cuz we can't add elements in frozenset"
   ]
  },
  {
   "cell_type": "code",
   "execution_count": 81,
   "id": "dabb129a",
   "metadata": {},
   "outputs": [
    {
     "ename": "AttributeError",
     "evalue": "'frozenset' object has no attribute 'remove'",
     "output_type": "error",
     "traceback": [
      "\u001b[1;31m---------------------------------------------------------------------------\u001b[0m",
      "\u001b[1;31mAttributeError\u001b[0m                            Traceback (most recent call last)",
      "Cell \u001b[1;32mIn[81], line 1\u001b[0m\n\u001b[1;32m----> 1\u001b[0m f\u001b[38;5;241m.\u001b[39mremove(\u001b[38;5;241m12\u001b[39m)\n",
      "\u001b[1;31mAttributeError\u001b[0m: 'frozenset' object has no attribute 'remove'"
     ]
    }
   ],
   "source": [
    "f.remove(12) #error cuz we can't remove elements in frozenset"
   ]
  },
  {
   "cell_type": "code",
   "execution_count": 2,
   "id": "e74a02a9",
   "metadata": {},
   "outputs": [],
   "source": [
    "#dictionary : key:value\n",
    "#             duplicate keys not allowed\n",
    "#             but duplicate values is allowed\n",
    "#             mutable but order is not preserved i,e indexing is not there\n",
    "\n",
    "d = {\n",
    "    1:\"ram\",2:\"shyam\",3:\"yadu\",4:\"madhu\"\n",
    "};"
   ]
  },
  {
   "cell_type": "code",
   "execution_count": 3,
   "id": "9e85c504",
   "metadata": {},
   "outputs": [
    {
     "data": {
      "text/plain": [
       "'ram'"
      ]
     },
     "execution_count": 3,
     "metadata": {},
     "output_type": "execute_result"
    }
   ],
   "source": [
    "d[1]"
   ]
  },
  {
   "cell_type": "code",
   "execution_count": 5,
   "id": "22973316",
   "metadata": {},
   "outputs": [
    {
     "data": {
      "text/plain": [
       "{1: 'ram', 2: 'shyam', 3: 'yadu', 4: 'madhu'}"
      ]
     },
     "execution_count": 5,
     "metadata": {},
     "output_type": "execute_result"
    }
   ],
   "source": [
    "d"
   ]
  },
  {
   "cell_type": "code",
   "execution_count": 8,
   "id": "85450f38",
   "metadata": {},
   "outputs": [],
   "source": [
    "d[1]='mithun'  #we are trying to {1:\"mithun\"}"
   ]
  },
  {
   "cell_type": "code",
   "execution_count": 9,
   "id": "962987e1",
   "metadata": {},
   "outputs": [
    {
     "data": {
      "text/plain": [
       "{1: 'mithun', 2: 'shyam', 3: 'yadu', 4: 'madhu'}"
      ]
     },
     "execution_count": 9,
     "metadata": {},
     "output_type": "execute_result"
    }
   ],
   "source": [
    "d"
   ]
  },
  {
   "cell_type": "code",
   "execution_count": 10,
   "id": "c14eb836",
   "metadata": {},
   "outputs": [],
   "source": [
    "#creating empty dictionary\n",
    "d={}"
   ]
  },
  {
   "cell_type": "code",
   "execution_count": 11,
   "id": "5a8225a2",
   "metadata": {},
   "outputs": [
    {
     "data": {
      "text/plain": [
       "dict"
      ]
     },
     "execution_count": 11,
     "metadata": {},
     "output_type": "execute_result"
    }
   ],
   "source": [
    "type(d)"
   ]
  },
  {
   "cell_type": "code",
   "execution_count": 12,
   "id": "024ffcea",
   "metadata": {},
   "outputs": [],
   "source": [
    "#inserting element into empty dictionary\n",
    "d[1]=\"abhijit\""
   ]
  },
  {
   "cell_type": "code",
   "execution_count": 13,
   "id": "867a55cc",
   "metadata": {},
   "outputs": [],
   "source": [
    "d[2]=\"sagar\""
   ]
  },
  {
   "cell_type": "code",
   "execution_count": 14,
   "id": "f9049dd6",
   "metadata": {},
   "outputs": [],
   "source": [
    "d[3]=\"rima\"\n",
    "d[4]=\"susmita\""
   ]
  },
  {
   "cell_type": "code",
   "execution_count": 15,
   "id": "2754114b",
   "metadata": {},
   "outputs": [
    {
     "data": {
      "text/plain": [
       "{1: 'abhijit', 2: 'sagar', 3: 'rima', 4: 'susmita'}"
      ]
     },
     "execution_count": 15,
     "metadata": {},
     "output_type": "execute_result"
    }
   ],
   "source": [
    "d"
   ]
  },
  {
   "cell_type": "code",
   "execution_count": 16,
   "id": "e49b4945",
   "metadata": {},
   "outputs": [],
   "source": [
    "# creating empty set\n",
    "s = set()"
   ]
  },
  {
   "cell_type": "code",
   "execution_count": 18,
   "id": "46f4f8ee",
   "metadata": {},
   "outputs": [
    {
     "data": {
      "text/plain": [
       "set"
      ]
     },
     "execution_count": 18,
     "metadata": {},
     "output_type": "execute_result"
    }
   ],
   "source": [
    "type(s)"
   ]
  },
  {
   "cell_type": "code",
   "execution_count": 26,
   "id": "9ef8805e",
   "metadata": {},
   "outputs": [],
   "source": [
    "s=(11,12) #adding element into empty set"
   ]
  },
  {
   "cell_type": "code",
   "execution_count": 27,
   "id": "1b99be5c",
   "metadata": {},
   "outputs": [
    {
     "data": {
      "text/plain": [
       "(11, 12)"
      ]
     },
     "execution_count": 27,
     "metadata": {},
     "output_type": "execute_result"
    }
   ],
   "source": [
    "s"
   ]
  },
  {
   "cell_type": "code",
   "execution_count": null,
   "id": "240e5a6c",
   "metadata": {},
   "outputs": [],
   "source": []
  }
 ],
 "metadata": {
  "kernelspec": {
   "display_name": "Python 3 (ipykernel)",
   "language": "python",
   "name": "python3"
  },
  "language_info": {
   "codemirror_mode": {
    "name": "ipython",
    "version": 3
   },
   "file_extension": ".py",
   "mimetype": "text/x-python",
   "name": "python",
   "nbconvert_exporter": "python",
   "pygments_lexer": "ipython3",
   "version": "3.11.5"
  }
 },
 "nbformat": 4,
 "nbformat_minor": 5
}
