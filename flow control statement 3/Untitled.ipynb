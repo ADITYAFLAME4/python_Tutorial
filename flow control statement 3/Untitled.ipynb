{
 "cells": [
  {
   "cell_type": "markdown",
   "id": "b4e41d18",
   "metadata": {},
   "source": [
    "# ccontrol flow statement 3"
   ]
  },
  {
   "cell_type": "markdown",
   "id": "29d83452",
   "metadata": {},
   "source": [
    "3^4 program"
   ]
  },
  {
   "cell_type": "code",
   "execution_count": 19,
   "id": "a6857061",
   "metadata": {},
   "outputs": [
    {
     "name": "stdout",
     "output_type": "stream",
     "text": [
      "81\n"
     ]
    }
   ],
   "source": [
    "prod=1\n",
    "for x in range(1,4+1):\n",
    "    prod=prod*3\n",
    "print(prod)"
   ]
  },
  {
   "cell_type": "raw",
   "id": "199c1fef",
   "metadata": {},
   "source": [
    "user se number and power leke result dene ka tarika"
   ]
  },
  {
   "cell_type": "code",
   "execution_count": 2,
   "id": "d0aaa793",
   "metadata": {},
   "outputs": [
    {
     "name": "stdout",
     "output_type": "stream",
     "text": [
      "enter the number: 5\n",
      "enter the power of the previous given number: 3\n",
      "5 to the power 3 is= 125\n"
     ]
    }
   ],
   "source": [
    "n=int(input(\"enter the number: \"))\n",
    "p=int(input(\"enter the power of the previous given number: \"))\n",
    "result =1\n",
    "for x in range(1,p+1):\n",
    "    result= result*n\n",
    "print(n,\"to the power\",p,\"is=\",result)"
   ]
  },
  {
   "cell_type": "markdown",
   "id": "7686c5fe",
   "metadata": {},
   "source": [
    "armstrong number code"
   ]
  },
  {
   "cell_type": "code",
   "execution_count": 6,
   "id": "0b6be521",
   "metadata": {},
   "outputs": [
    {
     "name": "stdout",
     "output_type": "stream",
     "text": [
      "enter the number: 153\n",
      "the total digit of the given number is:  3\n",
      "the given number 153 is a armstrong number\n"
     ]
    }
   ],
   "source": [
    "n=int(input(\"enter the number: \"))\n",
    "m=n\n",
    "s=n #saving n to s\n",
    "p=n #saving n to p\n",
    "count=0\n",
    "sum=0\n",
    "while n!=0:\n",
    "    n=n//10\n",
    "    count = count+1\n",
    "print(\"the total digit of the given number is: \", count)\n",
    "while p!=0:\n",
    "    a=p%10\n",
    "    power=1\n",
    "    for x in range(1,count+1):\n",
    "        power = power*a\n",
    "    sum=sum+power\n",
    "    p=p//10\n",
    "if s==sum:\n",
    "    print(\"the given number\",m,\"is a armstrong number\")\n",
    "else:\n",
    "    print(\"the given number\",m,\"is not a armstrong number\")\n",
    "        \n",
    "    "
   ]
  },
  {
   "cell_type": "raw",
   "id": "30a92bb4",
   "metadata": {},
   "source": [
    "continue keyword"
   ]
  },
  {
   "cell_type": "code",
   "execution_count": 20,
   "id": "d8714dd8",
   "metadata": {},
   "outputs": [
    {
     "name": "stdout",
     "output_type": "stream",
     "text": [
      "mithun\n",
      "1\n",
      "mithun\n",
      "2\n",
      "mithun\n",
      "mithun\n",
      "4\n",
      "mithun\n",
      "5\n",
      "mithun\n"
     ]
    }
   ],
   "source": [
    "for x in range(1,7):\n",
    "    print(\"mithun\")\n",
    "    if x%3==0:\n",
    "        continue # 3%3==0, continue wont aloow to print the next statement or code and simply move for loop to next iteration\n",
    "    print(x)\n"
   ]
  },
  {
   "cell_type": "code",
   "execution_count": 14,
   "id": "46d84c4e",
   "metadata": {},
   "outputs": [
    {
     "data": {
      "text/plain": [
       "0"
      ]
     },
     "execution_count": 14,
     "metadata": {},
     "output_type": "execute_result"
    }
   ],
   "source": [
    "2%2\n"
   ]
  },
  {
   "cell_type": "code",
   "execution_count": 13,
   "id": "a7baaf6b",
   "metadata": {},
   "outputs": [
    {
     "data": {
      "text/plain": [
       "2"
      ]
     },
     "execution_count": 13,
     "metadata": {},
     "output_type": "execute_result"
    }
   ],
   "source": [
    "2%10"
   ]
  },
  {
   "cell_type": "raw",
   "id": "63908468",
   "metadata": {},
   "source": [
    "break keyword"
   ]
  },
  {
   "cell_type": "code",
   "execution_count": 18,
   "id": "2dd98c2a",
   "metadata": {},
   "outputs": [
    {
     "name": "stdout",
     "output_type": "stream",
     "text": [
      "mithun\n",
      "mithun\n"
     ]
    }
   ],
   "source": [
    "for x in range(1,11):\n",
    "    if x%3==0:\n",
    "        break #whenever the if statement is true==>break will terminate the whole loop\n",
    "    print(\"mithun\")"
   ]
  },
  {
   "cell_type": "raw",
   "id": "2f81e296",
   "metadata": {},
   "source": [
    "pass keyword ==> to overcome empty loop error"
   ]
  },
  {
   "cell_type": "code",
   "execution_count": 21,
   "id": "fa06f47c",
   "metadata": {},
   "outputs": [
    {
     "ename": "IndentationError",
     "evalue": "expected an indented block after 'while' statement on line 2 (2162705265.py, line 4)",
     "output_type": "error",
     "traceback": [
      "\u001b[1;36m  Cell \u001b[1;32mIn[21], line 4\u001b[1;36m\u001b[0m\n\u001b[1;33m    print(\"mithun\")\u001b[0m\n\u001b[1;37m    ^\u001b[0m\n\u001b[1;31mIndentationError\u001b[0m\u001b[1;31m:\u001b[0m expected an indented block after 'while' statement on line 2\n"
     ]
    }
   ],
   "source": [
    "n= int(input(\"enter the number: \"))\n",
    "while n!=0:  #error occured, cuz while loop is empty\n",
    "    \n",
    "print(\"mithun\")"
   ]
  },
  {
   "cell_type": "code",
   "execution_count": null,
   "id": "80edf46d",
   "metadata": {},
   "outputs": [
    {
     "name": "stdout",
     "output_type": "stream",
     "text": [
      "enter the number: 3\n"
     ]
    }
   ],
   "source": [
    "n= int(input(\"enter the number: \"))\n",
    "while n!=0:\n",
    "    pass   #while loop is empty but it won't show error cuz we use pass keyword\n",
    "    \n",
    "    \n",
    "print(\"mithun\")"
   ]
  },
  {
   "cell_type": "code",
   "execution_count": null,
   "id": "a39a125c",
   "metadata": {},
   "outputs": [],
   "source": []
  },
  {
   "cell_type": "code",
   "execution_count": null,
   "id": "84dc364f",
   "metadata": {},
   "outputs": [],
   "source": []
  }
 ],
 "metadata": {
  "kernelspec": {
   "display_name": "Python 3 (ipykernel)",
   "language": "python",
   "name": "python3"
  },
  "language_info": {
   "codemirror_mode": {
    "name": "ipython",
    "version": 3
   },
   "file_extension": ".py",
   "mimetype": "text/x-python",
   "name": "python",
   "nbconvert_exporter": "python",
   "pygments_lexer": "ipython3",
   "version": "3.11.5"
  }
 },
 "nbformat": 4,
 "nbformat_minor": 5
}
