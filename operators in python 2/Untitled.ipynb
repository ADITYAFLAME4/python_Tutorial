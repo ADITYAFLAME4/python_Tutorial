{
 "cells": [
  {
   "cell_type": "markdown",
   "id": "c228bdd0",
   "metadata": {},
   "source": [
    "# operators in python 2"
   ]
  },
  {
   "cell_type": "raw",
   "id": "ce3575a3",
   "metadata": {},
   "source": [
    "# take 2 input from user and print the largest one"
   ]
  },
  {
   "cell_type": "code",
   "execution_count": 1,
   "id": "4cfdb3f8",
   "metadata": {},
   "outputs": [
    {
     "name": "stdout",
     "output_type": "stream",
     "text": [
      "enter first number10\n",
      "enter second number45\n",
      "45\n"
     ]
    }
   ],
   "source": [
    "m = int(input(\"enter first number\"))\n",
    "n = int(input(\"enter second number\"))\n",
    "k= m if m>n else n\n",
    "print(k)"
   ]
  },
  {
   "cell_type": "raw",
   "id": "6f6cf90f",
   "metadata": {},
   "source": [
    "# take 3 disnict number form users and print the largest one"
   ]
  },
  {
   "cell_type": "code",
   "execution_count": 2,
   "id": "bf4c8fc2",
   "metadata": {},
   "outputs": [
    {
     "name": "stdout",
     "output_type": "stream",
     "text": [
      "enter first number:3\n",
      "enter second number:2\n",
      "enter third number:4\n",
      "4\n"
     ]
    }
   ],
   "source": [
    "a = int(input(\"enter first number:\"))\n",
    "b = int(input(\"enter second number:\"))\n",
    "c = int(input(\"enter third number:\"))\n",
    "d =  a  if a>b and a>c else   b if b>c else c\n",
    "print(d)"
   ]
  },
  {
   "cell_type": "code",
   "execution_count": 33,
   "id": "c8d5f333",
   "metadata": {},
   "outputs": [],
   "source": [
    "a = 15\n",
    "b = 10\n"
   ]
  },
  {
   "cell_type": "code",
   "execution_count": 34,
   "id": "c8f35036",
   "metadata": {},
   "outputs": [
    {
     "data": {
      "text/plain": [
       "140734621193448"
      ]
     },
     "execution_count": 34,
     "metadata": {},
     "output_type": "execute_result"
    }
   ],
   "source": [
    "id(a)"
   ]
  },
  {
   "cell_type": "code",
   "execution_count": 35,
   "id": "c04b6f64",
   "metadata": {},
   "outputs": [
    {
     "data": {
      "text/plain": [
       "140734621193288"
      ]
     },
     "execution_count": 35,
     "metadata": {},
     "output_type": "execute_result"
    }
   ],
   "source": [
    "id(b)"
   ]
  },
  {
   "cell_type": "code",
   "execution_count": 36,
   "id": "d42961d5",
   "metadata": {},
   "outputs": [
    {
     "data": {
      "text/plain": [
       "False"
      ]
     },
     "execution_count": 36,
     "metadata": {},
     "output_type": "execute_result"
    }
   ],
   "source": [
    "id(a) == id(b)"
   ]
  },
  {
   "cell_type": "code",
   "execution_count": 37,
   "id": "f107db5b",
   "metadata": {},
   "outputs": [
    {
     "data": {
      "text/plain": [
       "False"
      ]
     },
     "execution_count": 37,
     "metadata": {},
     "output_type": "execute_result"
    }
   ],
   "source": [
    "#same is performed by 'is' operator\n",
    "id(a) is id(b) # id(a)==id(b)   if both a and b are pointing to a same object it return True else False\n"
   ]
  },
  {
   "cell_type": "code",
   "execution_count": 56,
   "id": "d84f9d17",
   "metadata": {},
   "outputs": [],
   "source": [
    "e = 15\n",
    "f = 15     # in python 'x' and 'y' id will same cuz they are having one value in it"
   ]
  },
  {
   "cell_type": "code",
   "execution_count": 57,
   "id": "a87fc2bd",
   "metadata": {},
   "outputs": [
    {
     "data": {
      "text/plain": [
       "140734621193448"
      ]
     },
     "execution_count": 57,
     "metadata": {},
     "output_type": "execute_result"
    }
   ],
   "source": [
    "id(e)"
   ]
  },
  {
   "cell_type": "code",
   "execution_count": 58,
   "id": "4f25219d",
   "metadata": {},
   "outputs": [
    {
     "data": {
      "text/plain": [
       "140734621193448"
      ]
     },
     "execution_count": 58,
     "metadata": {},
     "output_type": "execute_result"
    }
   ],
   "source": [
    "id(f)"
   ]
  },
  {
   "cell_type": "code",
   "execution_count": 59,
   "id": "8b2b7fbb",
   "metadata": {},
   "outputs": [
    {
     "data": {
      "text/plain": [
       "True"
      ]
     },
     "execution_count": 59,
     "metadata": {},
     "output_type": "execute_result"
    }
   ],
   "source": [
    "id(e) == id(f)# check both have same value or not"
   ]
  },
  {
   "cell_type": "code",
   "execution_count": 60,
   "id": "0ba51d6d",
   "metadata": {},
   "outputs": [
    {
     "data": {
      "text/plain": [
       "False"
      ]
     },
     "execution_count": 60,
     "metadata": {},
     "output_type": "execute_result"
    }
   ],
   "source": [
    "id(e) is id(f)\n"
   ]
  },
  {
   "cell_type": "code",
   "execution_count": 61,
   "id": "961bd458",
   "metadata": {},
   "outputs": [
    {
     "data": {
      "text/plain": [
       "True"
      ]
     },
     "execution_count": 61,
     "metadata": {},
     "output_type": "execute_result"
    }
   ],
   "source": [
    "e is f # check the pointing memory location"
   ]
  },
  {
   "cell_type": "code",
   "execution_count": 52,
   "id": "10805cf6",
   "metadata": {},
   "outputs": [],
   "source": [
    "p=\"mithun\"\n",
    "q=\"mithun\""
   ]
  },
  {
   "cell_type": "code",
   "execution_count": 53,
   "id": "79d215c8",
   "metadata": {},
   "outputs": [
    {
     "data": {
      "text/plain": [
       "1898831100528"
      ]
     },
     "execution_count": 53,
     "metadata": {},
     "output_type": "execute_result"
    }
   ],
   "source": [
    "id(p) "
   ]
  },
  {
   "cell_type": "code",
   "execution_count": 54,
   "id": "9b7fa628",
   "metadata": {},
   "outputs": [
    {
     "data": {
      "text/plain": [
       "1898831100528"
      ]
     },
     "execution_count": 54,
     "metadata": {},
     "output_type": "execute_result"
    }
   ],
   "source": [
    " id(q)"
   ]
  },
  {
   "cell_type": "code",
   "execution_count": 55,
   "id": "debcc994",
   "metadata": {},
   "outputs": [
    {
     "data": {
      "text/plain": [
       "True"
      ]
     },
     "execution_count": 55,
     "metadata": {},
     "output_type": "execute_result"
    }
   ],
   "source": [
    "p is q"
   ]
  },
  {
   "cell_type": "code",
   "execution_count": 62,
   "id": "a16e8c63",
   "metadata": {},
   "outputs": [
    {
     "data": {
      "text/plain": [
       "True"
      ]
     },
     "execution_count": 62,
     "metadata": {},
     "output_type": "execute_result"
    }
   ],
   "source": [
    "id(p)==id(q)"
   ]
  },
  {
   "cell_type": "code",
   "execution_count": 64,
   "id": "2250b0a6",
   "metadata": {},
   "outputs": [
    {
     "data": {
      "text/plain": [
       "False"
      ]
     },
     "execution_count": 64,
     "metadata": {},
     "output_type": "execute_result"
    }
   ],
   "source": [
    "id(p) is id(q)"
   ]
  },
  {
   "cell_type": "code",
   "execution_count": 66,
   "id": "c55e8fd9",
   "metadata": {},
   "outputs": [
    {
     "data": {
      "text/plain": [
       "False"
      ]
     },
     "execution_count": 66,
     "metadata": {},
     "output_type": "execute_result"
    }
   ],
   "source": [
    "id(p)!= id(q)"
   ]
  },
  {
   "cell_type": "raw",
   "id": "bfa71fc6",
   "metadata": {},
   "source": [
    "'in' operator ==> 'in' operator is called as membership operator in python \n",
    "                               it returns only True or False"
   ]
  },
  {
   "cell_type": "code",
   "execution_count": 67,
   "id": "9a334479",
   "metadata": {},
   "outputs": [],
   "source": [
    "s = \"mithun is a bad boy\""
   ]
  },
  {
   "cell_type": "code",
   "execution_count": 68,
   "id": "5b4ba38f",
   "metadata": {},
   "outputs": [
    {
     "data": {
      "text/plain": [
       "True"
      ]
     },
     "execution_count": 68,
     "metadata": {},
     "output_type": "execute_result"
    }
   ],
   "source": [
    "'m' in s"
   ]
  },
  {
   "cell_type": "code",
   "execution_count": 69,
   "id": "ce7748fb",
   "metadata": {},
   "outputs": [
    {
     "data": {
      "text/plain": [
       "False"
      ]
     },
     "execution_count": 69,
     "metadata": {},
     "output_type": "execute_result"
    }
   ],
   "source": [
    "'M' in s"
   ]
  },
  {
   "cell_type": "code",
   "execution_count": 75,
   "id": "91f27e7f",
   "metadata": {},
   "outputs": [
    {
     "data": {
      "text/plain": [
       "True"
      ]
     },
     "execution_count": 75,
     "metadata": {},
     "output_type": "execute_result"
    }
   ],
   "source": [
    "' ' in s"
   ]
  },
  {
   "cell_type": "code",
   "execution_count": 76,
   "id": "1a166630",
   "metadata": {},
   "outputs": [
    {
     "data": {
      "text/plain": [
       "False"
      ]
     },
     "execution_count": 76,
     "metadata": {},
     "output_type": "execute_result"
    }
   ],
   "source": [
    "'     ' in s"
   ]
  },
  {
   "cell_type": "code",
   "execution_count": 77,
   "id": "7ee02378",
   "metadata": {},
   "outputs": [
    {
     "data": {
      "text/plain": [
       "True"
      ]
     },
     "execution_count": 77,
     "metadata": {},
     "output_type": "execute_result"
    }
   ],
   "source": [
    "\"mithun is\" in s"
   ]
  },
  {
   "cell_type": "code",
   "execution_count": 80,
   "id": "208914b2",
   "metadata": {},
   "outputs": [
    {
     "data": {
      "text/plain": [
       "True"
      ]
     },
     "execution_count": 80,
     "metadata": {},
     "output_type": "execute_result"
    }
   ],
   "source": [
    "\"raptan\"  not in s #==>\"raptan\" is not there in string thats why it prints True"
   ]
  },
  {
   "cell_type": "code",
   "execution_count": 81,
   "id": "b7c1733b",
   "metadata": {},
   "outputs": [],
   "source": [
    "l=[1,2,34,56,\"mithun\"]\n"
   ]
  },
  {
   "cell_type": "code",
   "execution_count": 82,
   "id": "a0f083f2",
   "metadata": {},
   "outputs": [
    {
     "data": {
      "text/plain": [
       "True"
      ]
     },
     "execution_count": 82,
     "metadata": {},
     "output_type": "execute_result"
    }
   ],
   "source": [
    "1 in l"
   ]
  },
  {
   "cell_type": "code",
   "execution_count": 83,
   "id": "b764ee55",
   "metadata": {},
   "outputs": [
    {
     "data": {
      "text/plain": [
       "True"
      ]
     },
     "execution_count": 83,
     "metadata": {},
     "output_type": "execute_result"
    }
   ],
   "source": [
    "\"mithun\" in l"
   ]
  },
  {
   "cell_type": "code",
   "execution_count": 84,
   "id": "bd191ed6",
   "metadata": {},
   "outputs": [
    {
     "data": {
      "text/plain": [
       "False"
      ]
     },
     "execution_count": 84,
     "metadata": {},
     "output_type": "execute_result"
    }
   ],
   "source": [
    "45 in l"
   ]
  },
  {
   "cell_type": "raw",
   "id": "a1825aef",
   "metadata": {},
   "source": [
    "declaring variable and it's value at one line"
   ]
  },
  {
   "cell_type": "code",
   "execution_count": 88,
   "id": "05ef2962",
   "metadata": {},
   "outputs": [],
   "source": [
    "a,b,c = 10,34,56\n",
    "#instead of written multiline code\n",
    "#a = 10\n",
    "# b = 34\n",
    "# c = 56\n"
   ]
  },
  {
   "cell_type": "code",
   "execution_count": 89,
   "id": "21797492",
   "metadata": {},
   "outputs": [
    {
     "data": {
      "text/plain": [
       "10"
      ]
     },
     "execution_count": 89,
     "metadata": {},
     "output_type": "execute_result"
    }
   ],
   "source": [
    "a"
   ]
  },
  {
   "cell_type": "code",
   "execution_count": 90,
   "id": "f28d1d2b",
   "metadata": {},
   "outputs": [
    {
     "data": {
      "text/plain": [
       "34"
      ]
     },
     "execution_count": 90,
     "metadata": {},
     "output_type": "execute_result"
    }
   ],
   "source": [
    "b"
   ]
  },
  {
   "cell_type": "code",
   "execution_count": 91,
   "id": "b34e67d6",
   "metadata": {},
   "outputs": [
    {
     "data": {
      "text/plain": [
       "56"
      ]
     },
     "execution_count": 91,
     "metadata": {},
     "output_type": "execute_result"
    }
   ],
   "source": [
    "c"
   ]
  },
  {
   "cell_type": "raw",
   "id": "119e4671",
   "metadata": {},
   "source": [
    "output function ==>print()\n",
    "print()==> used to print the result\n",
    "            it also works as a new line, below some code is provided using print() function"
   ]
  },
  {
   "cell_type": "code",
   "execution_count": 87,
   "id": "0d7ab077",
   "metadata": {},
   "outputs": [
    {
     "name": "stdout",
     "output_type": "stream",
     "text": [
      "hello\n",
      "\n",
      "everyone\n",
      "\n",
      "kaise ho\n"
     ]
    }
   ],
   "source": [
    "print(\"hello\")\n",
    "print() #this will work as a new line\n",
    "print(\"everyone\")\n",
    "print()# this will work as a new line\n",
    "print(\"kaise ho\");"
   ]
  },
  {
   "cell_type": "code",
   "execution_count": 92,
   "id": "66e72b3c",
   "metadata": {},
   "outputs": [],
   "source": [
    "i,j,k = 3,4,5"
   ]
  },
  {
   "cell_type": "code",
   "execution_count": 94,
   "id": "69122225",
   "metadata": {},
   "outputs": [
    {
     "name": "stdout",
     "output_type": "stream",
     "text": [
      "3 4 5\n"
     ]
    }
   ],
   "source": [
    "print(i,j,k) #by default output values are seperated by space"
   ]
  },
  {
   "cell_type": "code",
   "execution_count": 98,
   "id": "7e36b5c8",
   "metadata": {},
   "outputs": [
    {
     "name": "stdout",
     "output_type": "stream",
     "text": [
      "3@4@5\n"
     ]
    }
   ],
   "source": [
    "#sep attribute\n",
    "# if i want to specify any other seperator then i have to use 'sep'\n",
    "print(i,j,k, sep='@') # we can use any seperator"
   ]
  },
  {
   "cell_type": "code",
   "execution_count": 99,
   "id": "751c3698",
   "metadata": {},
   "outputs": [
    {
     "name": "stdout",
     "output_type": "stream",
     "text": [
      "345\n"
     ]
    }
   ],
   "source": [
    "print(i,j,k,sep = '')"
   ]
  },
  {
   "cell_type": "code",
   "execution_count": 100,
   "id": "4f74df1a",
   "metadata": {},
   "outputs": [
    {
     "name": "stdout",
     "output_type": "stream",
     "text": [
      "3mithun4mithun5\n"
     ]
    }
   ],
   "source": [
    "print(i,j,k,sep='mithun')"
   ]
  },
  {
   "cell_type": "raw",
   "id": "c37cfe5d",
   "metadata": {},
   "source": [
    "use +"
   ]
  },
  {
   "cell_type": "code",
   "execution_count": 101,
   "id": "283f9e96",
   "metadata": {},
   "outputs": [
    {
     "name": "stdout",
     "output_type": "stream",
     "text": [
      "mithunraptan\n"
     ]
    }
   ],
   "source": [
    "print(\"mithun\" + \"raptan\") #'+' oprator concatenate the string"
   ]
  },
  {
   "cell_type": "code",
   "execution_count": 103,
   "id": "a34f3088",
   "metadata": {},
   "outputs": [
    {
     "name": "stdout",
     "output_type": "stream",
     "text": [
      "8\n"
     ]
    }
   ],
   "source": [
    "print(3+5)# this is not string thats why it simply add"
   ]
  },
  {
   "cell_type": "code",
   "execution_count": 104,
   "id": "2fcc2e8e",
   "metadata": {},
   "outputs": [
    {
     "name": "stdout",
     "output_type": "stream",
     "text": [
      "35\n"
     ]
    }
   ],
   "source": [
    "print(\"3\"+\"5\") # concatenate ==>35"
   ]
  },
  {
   "cell_type": "code",
   "execution_count": 107,
   "id": "0d788c2d",
   "metadata": {},
   "outputs": [
    {
     "name": "stdout",
     "output_type": "stream",
     "text": [
      "mithun raptan\n"
     ]
    }
   ],
   "source": [
    "print(\"mithun\",\"raptan\") #space is there bcz by default seperator is a space"
   ]
  },
  {
   "cell_type": "code",
   "execution_count": 111,
   "id": "0d15d64c",
   "metadata": {},
   "outputs": [
    {
     "name": "stdout",
     "output_type": "stream",
     "text": [
      "the sum is 30\n"
     ]
    }
   ],
   "source": [
    "a =10\n",
    "b = 20\n",
    "c = a+b\n",
    "print(\"the sum is\",c)"
   ]
  },
  {
   "cell_type": "code",
   "execution_count": 113,
   "id": "1ce427bf",
   "metadata": {},
   "outputs": [
    {
     "name": "stdout",
     "output_type": "stream",
     "text": [
      "the sum is         30\n"
     ]
    }
   ],
   "source": [
    "a =10\n",
    "b = 20\n",
    "c = a+b\n",
    "print(\"the sum is\",c, sep=\"         \")"
   ]
  },
  {
   "cell_type": "code",
   "execution_count": null,
   "id": "2aebb832",
   "metadata": {},
   "outputs": [],
   "source": [
    "end attribute #==> by default end attribute is \\n i,e. new line"
   ]
  },
  {
   "cell_type": "code",
   "execution_count": 122,
   "id": "2f91d095",
   "metadata": {},
   "outputs": [
    {
     "name": "stdout",
     "output_type": "stream",
     "text": [
      "hello everyone kaise ho\n"
     ]
    }
   ],
   "source": [
    "print(\"hello\",end=\" \")\n",
    "print(\"everyone\",end =\" \")\n",
    "print('kaise',end=\" \")\n",
    "print(\"ho\")"
   ]
  },
  {
   "cell_type": "code",
   "execution_count": 125,
   "id": "09318fb6",
   "metadata": {},
   "outputs": [],
   "source": [
    "l2=[1,2,3,\"mithun\"]"
   ]
  },
  {
   "cell_type": "code",
   "execution_count": 126,
   "id": "cfdc9be3",
   "metadata": {},
   "outputs": [
    {
     "data": {
      "text/plain": [
       "[1, 2, 3, 'mithun']"
      ]
     },
     "execution_count": 126,
     "metadata": {},
     "output_type": "execute_result"
    }
   ],
   "source": [
    "l2"
   ]
  },
  {
   "cell_type": "code",
   "execution_count": 127,
   "id": "29d6d49b",
   "metadata": {},
   "outputs": [],
   "source": [
    "x2 = (3,4,5,6,\"raptan\")"
   ]
  },
  {
   "cell_type": "code",
   "execution_count": 128,
   "id": "71af1363",
   "metadata": {},
   "outputs": [
    {
     "data": {
      "text/plain": [
       "(3, 4, 5, 6, 'raptan')"
      ]
     },
     "execution_count": 128,
     "metadata": {},
     "output_type": "execute_result"
    }
   ],
   "source": [
    "x2"
   ]
  },
  {
   "cell_type": "code",
   "execution_count": 129,
   "id": "f4481c2a",
   "metadata": {},
   "outputs": [
    {
     "name": "stdout",
     "output_type": "stream",
     "text": [
      "the first value is: 20 the second value is: 30 the third value is: 50\n"
     ]
    }
   ],
   "source": [
    "a=20\n",
    "b=30\n",
    "c=50\n",
    "print(\"the first value is:\",a,\"the second value is:\",b,\"the third value is:\",c)"
   ]
  },
  {
   "cell_type": "code",
   "execution_count": 134,
   "id": "5e0b1ff0",
   "metadata": {},
   "outputs": [
    {
     "name": "stdout",
     "output_type": "stream",
     "text": [
      "hello\n",
      "baccho\n"
     ]
    }
   ],
   "source": [
    "print(\"hello \\n baccho\")"
   ]
  },
  {
   "cell_type": "code",
   "execution_count": 138,
   "id": "7869c031",
   "metadata": {},
   "outputs": [
    {
     "name": "stdout",
     "output_type": "stream",
     "text": [
      "mithunmithun\n"
     ]
    }
   ],
   "source": [
    "print(2*\"mithun\")"
   ]
  },
  {
   "cell_type": "code",
   "execution_count": null,
   "id": "73d3a1e0",
   "metadata": {},
   "outputs": [],
   "source": []
  },
  {
   "cell_type": "code",
   "execution_count": null,
   "id": "8d633c22",
   "metadata": {},
   "outputs": [],
   "source": [
    "\n"
   ]
  }
 ],
 "metadata": {
  "kernelspec": {
   "display_name": "Python 3 (ipykernel)",
   "language": "python",
   "name": "python3"
  },
  "language_info": {
   "codemirror_mode": {
    "name": "ipython",
    "version": 3
   },
   "file_extension": ".py",
   "mimetype": "text/x-python",
   "name": "python",
   "nbconvert_exporter": "python",
   "pygments_lexer": "ipython3",
   "version": "3.11.5"
  }
 },
 "nbformat": 4,
 "nbformat_minor": 5
}
