{
 "cells": [
  {
   "cell_type": "markdown",
   "id": "220cc026",
   "metadata": {},
   "source": [
    "Function in python"
   ]
  },
  {
   "cell_type": "raw",
   "id": "5d75f35c",
   "metadata": {},
   "source": [
    "\n",
    "# creating funtion in python ==> def function_name(arguments):  ##function can take more than one args\n",
    "#                                                     function body\n",
    "\n",
    "#function can return the output where it's been called  +  function also cans print the output too "
   ]
  },
  {
   "cell_type": "code",
   "execution_count": 5,
   "id": "97c49624",
   "metadata": {},
   "outputs": [
    {
     "name": "stdout",
     "output_type": "stream",
     "text": [
      "20\n"
     ]
    }
   ],
   "source": [
    "def twice(n):\n",
    "    n=2*n\n",
    "    return n #i am returning the twice value to the function, where it is been called\n",
    "\n",
    "x=twice(10) #calling the fnction and passing the parameters\n",
    "print(x) #printing the twice value"
   ]
  },
  {
   "cell_type": "code",
   "execution_count": 8,
   "id": "626fbcb1",
   "metadata": {},
   "outputs": [
    {
     "name": "stdout",
     "output_type": "stream",
     "text": [
      "20\n"
     ]
    }
   ],
   "source": [
    "def twice(n):\n",
    "    n=2*n\n",
    "    print(n) #i am printing the twice value inside the function\n",
    "\n",
    "twice(10) #calling the fnction and passing the parameters\n"
   ]
  },
  {
   "cell_type": "code",
   "execution_count": 12,
   "id": "c2c82f68",
   "metadata": {},
   "outputs": [
    {
     "name": "stdout",
     "output_type": "stream",
     "text": [
      "120\n"
     ]
    }
   ],
   "source": [
    "# factorial program using function\n",
    "def facto(n):\n",
    "    prod=1\n",
    "    for i in range(1,n+1):\n",
    "        prod=prod*i\n",
    "    print(prod) #function is printing\n",
    "\n",
    "facto(5) #calling the function and passing the value"
   ]
  },
  {
   "cell_type": "code",
   "execution_count": 14,
   "id": "ce0afaee",
   "metadata": {},
   "outputs": [
    {
     "name": "stdout",
     "output_type": "stream",
     "text": [
      "1\n",
      "2\n",
      "6\n",
      "24\n",
      "120\n",
      "720\n",
      "5040\n",
      "40320\n",
      "362880\n",
      "3628800\n"
     ]
    }
   ],
   "source": [
    "for i in range(1,11):\n",
    "    facto(i)\n"
   ]
  },
  {
   "cell_type": "code",
   "execution_count": 15,
   "id": "b87892f6",
   "metadata": {},
   "outputs": [
    {
     "name": "stdout",
     "output_type": "stream",
     "text": [
      "pankaj\n",
      "10\n",
      "12.5\n"
     ]
    }
   ],
   "source": [
    "def display(s):\n",
    "    print(s)\n",
    "display(\"pankaj\")\n",
    "display(10)\n",
    "display(12.5)"
   ]
  },
  {
   "cell_type": "code",
   "execution_count": 16,
   "id": "70fb1346",
   "metadata": {},
   "outputs": [
    {
     "ename": "TypeError",
     "evalue": "display() missing 1 required positional argument: 's'",
     "output_type": "error",
     "traceback": [
      "\u001b[1;31m---------------------------------------------------------------------------\u001b[0m",
      "\u001b[1;31mTypeError\u001b[0m                                 Traceback (most recent call last)",
      "Cell \u001b[1;32mIn[16], line 3\u001b[0m\n\u001b[0;32m      1\u001b[0m \u001b[38;5;66;03m# while calling a function, if the function contains parameters and we are not providing\u001b[39;00m\n\u001b[0;32m      2\u001b[0m \u001b[38;5;66;03m# those parameters  -->ERROR\u001b[39;00m\n\u001b[1;32m----> 3\u001b[0m display()\n",
      "\u001b[1;31mTypeError\u001b[0m: display() missing 1 required positional argument: 's'"
     ]
    }
   ],
   "source": [
    "# while calling a function, if the function contains parameters and we are not providing\n",
    "# those parameters  -->ERROR\n",
    "display() #error"
   ]
  },
  {
   "cell_type": "code",
   "execution_count": 18,
   "id": "4e759e8c",
   "metadata": {},
   "outputs": [
    {
     "name": "stdout",
     "output_type": "stream",
     "text": [
      "10\n"
     ]
    }
   ],
   "source": [
    "def mul(a,b):\n",
    "    return a*b\n",
    "result=mul(2,5)\n",
    "print(result)"
   ]
  },
  {
   "cell_type": "code",
   "execution_count": 19,
   "id": "6cd6be24",
   "metadata": {},
   "outputs": [
    {
     "name": "stdout",
     "output_type": "stream",
     "text": [
      "enter first argument:3\n",
      "enter second argument:4\n",
      "12\n"
     ]
    }
   ],
   "source": [
    "def mul(a,b):\n",
    "    return a*b\n",
    "c=int(input(\"enter first argument:\"))\n",
    "d=int(input(\"enter second argument:\"))\n",
    "result=mul(c,d)\n",
    "print(result)"
   ]
  },
  {
   "cell_type": "code",
   "execution_count": 53,
   "id": "7427d34a",
   "metadata": {},
   "outputs": [
    {
     "name": "stdout",
     "output_type": "stream",
     "text": [
      "enter the number you want to check: 10\n",
      "False\n"
     ]
    }
   ],
   "source": [
    "# prime number finding using function\n",
    "# concept-->if the number divisible by 1 and itself only then that number is prime number, otherwise\n",
    "# not prime(means--> if the number is divisivle by 1,itself and others any number then it is not prime)\n",
    "def isprime(n):\n",
    "    if n==1:\n",
    "        return True\n",
    "    for i in range(2,n):\n",
    "        if n%i==0:\n",
    "            return False\n",
    "            break\n",
    "            \n",
    "    else:\n",
    "        return True\n",
    "   \n",
    "n=int(input(\"enter the number you want to check: \"))\n",
    "x=isprime(n) #calling the function\n",
    "print(x)"
   ]
  },
  {
   "cell_type": "code",
   "execution_count": 54,
   "id": "30cf90a5",
   "metadata": {},
   "outputs": [
    {
     "name": "stdout",
     "output_type": "stream",
     "text": [
      "True\n"
     ]
    }
   ],
   "source": [
    "x = isprime(11)\n",
    "print(x)"
   ]
  },
  {
   "cell_type": "code",
   "execution_count": 55,
   "id": "733513f1",
   "metadata": {},
   "outputs": [
    {
     "data": {
      "text/plain": [
       "True"
      ]
     },
     "execution_count": 55,
     "metadata": {},
     "output_type": "execute_result"
    }
   ],
   "source": [
    "isprime(2)"
   ]
  },
  {
   "cell_type": "code",
   "execution_count": 56,
   "id": "ecd99047",
   "metadata": {},
   "outputs": [
    {
     "name": "stdout",
     "output_type": "stream",
     "text": [
      "1 is prime\n",
      "2 is prime\n",
      "3 is prime\n",
      "4 is not prime\n",
      "5 is prime\n",
      "6 is not prime\n",
      "7 is prime\n",
      "8 is not prime\n",
      "9 is not prime\n",
      "10 is not prime\n",
      "11 is prime\n",
      "12 is not prime\n",
      "13 is prime\n",
      "14 is not prime\n",
      "15 is not prime\n"
     ]
    }
   ],
   "source": [
    "for i in range(1,16):\n",
    "    if isprime(i):\n",
    "        print(i,\"is prime\")\n",
    "    else:\n",
    "        print(i,\"is not prime\")\n",
    "    "
   ]
  },
  {
   "cell_type": "code",
   "execution_count": 57,
   "id": "b0c01c8a",
   "metadata": {},
   "outputs": [
    {
     "name": "stdout",
     "output_type": "stream",
     "text": [
      "2\n"
     ]
    }
   ],
   "source": [
    "# some concept clearing things in python\n",
    "def twice(n):   #twice() function is not returning or printing anything\n",
    "    n=2*n\n",
    "i=2\n",
    "twice(i) #it has no effect cuz twice() function is not printing or returning anything\n",
    "print(i) # 2 will print \n"
   ]
  },
  {
   "cell_type": "code",
   "execution_count": 7,
   "id": "63ab2fec",
   "metadata": {},
   "outputs": [
    {
     "name": "stdout",
     "output_type": "stream",
     "text": [
      "[2, 4, 6, 8]\n"
     ]
    }
   ],
   "source": [
    "def twice(n):\n",
    "    for i in range(len(n)):   #here we can use list comprehension,,,,, check next cell\n",
    "        n[i]=2*n[i]\n",
    "       \n",
    "l=[1,2,3,4]\n",
    "twice(l)\n",
    "print(l)\n"
   ]
  },
  {
   "cell_type": "code",
   "execution_count": 8,
   "id": "17de6af9",
   "metadata": {},
   "outputs": [
    {
     "name": "stdout",
     "output_type": "stream",
     "text": [
      "['appleapple', 'orangeorange', 'bananabanana']\n"
     ]
    }
   ],
   "source": [
    "def twice_str_in_list(str_list):\n",
    "    return [2*s  for s in str_list] #list comprehension\n",
    "\n",
    "# Example usage with a list of strings\n",
    "string_list = [\"apple\", \"orange\", \"banana\"]\n",
    "result_list = twice_str_in_list(string_list)\n",
    "print(result_list)"
   ]
  },
  {
   "cell_type": "raw",
   "id": "d01909a7",
   "metadata": {},
   "source": [
    "# local and global variable in python\n",
    "# local -->those variable, who is define inside a function. outside function they have no scope.\n",
    "# global--> those variable, who is define outside a function and its scope is everywhere."
   ]
  },
  {
   "cell_type": "code",
   "execution_count": 2,
   "id": "81655a90",
   "metadata": {},
   "outputs": [
    {
     "name": "stdout",
     "output_type": "stream",
     "text": [
      "12\n"
     ]
    },
    {
     "ename": "NameError",
     "evalue": "name 'a' is not defined",
     "output_type": "error",
     "traceback": [
      "\u001b[1;31m---------------------------------------------------------------------------\u001b[0m",
      "\u001b[1;31mNameError\u001b[0m                                 Traceback (most recent call last)",
      "Cell \u001b[1;32mIn[2], line 7\u001b[0m\n\u001b[0;32m      5\u001b[0m     \u001b[38;5;28mprint\u001b[39m(a)\n\u001b[0;32m      6\u001b[0m f()\n\u001b[1;32m----> 7\u001b[0m \u001b[38;5;28mprint\u001b[39m(a)\n",
      "\u001b[1;31mNameError\u001b[0m: name 'a' is not defined"
     ]
    }
   ],
   "source": [
    "# local variable\n",
    "def f():\n",
    "    a=10 #this 'a' is local variable, its scope only inside this fuction\n",
    "    a=a+2\n",
    "    print(a)\n",
    "f()\n",
    "print(a) #error"
   ]
  },
  {
   "cell_type": "code",
   "execution_count": 3,
   "id": "f14976dc",
   "metadata": {},
   "outputs": [
    {
     "name": "stdout",
     "output_type": "stream",
     "text": [
      "20\n",
      "1111\n"
     ]
    }
   ],
   "source": [
    "a=1111 #this is global variable 'a' -->cuz it is outside the function\n",
    "def f():\n",
    "    a=20 #this is local 'a'\n",
    "    print(a)#local wala print krega, cuz when the function have 'a' then why should the function\n",
    "                     #takes 'a' from outside of the function\n",
    "f()#function calling\n",
    "print(a) #global wala print korega"
   ]
  },
  {
   "cell_type": "code",
   "execution_count": 4,
   "id": "3f75a578",
   "metadata": {},
   "outputs": [
    {
     "name": "stdout",
     "output_type": "stream",
     "text": [
      "200\n",
      "10\n",
      "234\n"
     ]
    }
   ],
   "source": [
    "x=10 #global wala\n",
    "def f():\n",
    "    y=200\n",
    "    print(y)\n",
    "    print(x)\n",
    "f()\n",
    "x=234\n",
    "print(x)"
   ]
  },
  {
   "cell_type": "code",
   "execution_count": 5,
   "id": "9873e2d6",
   "metadata": {},
   "outputs": [
    {
     "name": "stdout",
     "output_type": "stream",
     "text": [
      "200\n",
      "10\n",
      "200\n"
     ]
    }
   ],
   "source": [
    "def f():\n",
    "    x=10 #local wala\n",
    "    print(x)\n",
    "    print(y)\n",
    "y=200#global wala\n",
    "print(y)\n",
    "f()"
   ]
  },
  {
   "cell_type": "code",
   "execution_count": 7,
   "id": "416aa3d7",
   "metadata": {},
   "outputs": [
    {
     "name": "stdout",
     "output_type": "stream",
     "text": [
      "200\n",
      "10\n",
      "200\n"
     ]
    }
   ],
   "source": [
    "y=200 #gobal wala\n",
    "def f():\n",
    "    x=10 #local wala\n",
    "    print(x)\n",
    "    print(y)\n",
    "print(y)\n",
    "f() #before call anywhere outside all the function y=200"
   ]
  },
  {
   "cell_type": "code",
   "execution_count": 10,
   "id": "f4a46e3c",
   "metadata": {},
   "outputs": [
    {
     "ename": "NameError",
     "evalue": "name 'z' is not defined",
     "output_type": "error",
     "traceback": [
      "\u001b[1;31m---------------------------------------------------------------------------\u001b[0m",
      "\u001b[1;31mNameError\u001b[0m                                 Traceback (most recent call last)",
      "Cell \u001b[1;32mIn[10], line 6\u001b[0m\n\u001b[0;32m      3\u001b[0m     \u001b[38;5;28mprint\u001b[39m(x)\n\u001b[0;32m      4\u001b[0m     \u001b[38;5;28mprint\u001b[39m(z)\n\u001b[1;32m----> 6\u001b[0m \u001b[38;5;28mprint\u001b[39m(z) \u001b[38;5;66;03m#'z' is declared later\u001b[39;00m\n\u001b[0;32m      8\u001b[0m z\u001b[38;5;241m=\u001b[39m\u001b[38;5;241m200\u001b[39m \u001b[38;5;66;03m#global wala\u001b[39;00m\n\u001b[0;32m      9\u001b[0m f()\n",
      "\u001b[1;31mNameError\u001b[0m: name 'z' is not defined"
     ]
    }
   ],
   "source": [
    "def f():\n",
    "    x=10\n",
    "    print(x)\n",
    "    print(z)\n",
    "    \n",
    "print(z) #'z' is declared later\n",
    "\n",
    "z=200 #global wala\n",
    "f() #calling"
   ]
  },
  {
   "cell_type": "code",
   "execution_count": 13,
   "id": "548f8ca4",
   "metadata": {},
   "outputs": [
    {
     "name": "stdout",
     "output_type": "stream",
     "text": [
      "140727196227912\n",
      "140727196226632\n"
     ]
    }
   ],
   "source": [
    "a=50 #global wala\n",
    "def f():\n",
    "    a=10  #local wala\n",
    "    print(id(a)) #local variable id will print\n",
    "    \n",
    "print(id(a))  # global variable id will print\n",
    "f()\n",
    "\n",
    "\n",
    "#as we can see both the 'a' variable are not same cuz they are point different memory location. "
   ]
  },
  {
   "cell_type": "code",
   "execution_count": 53,
   "id": "b185d01a",
   "metadata": {},
   "outputs": [
    {
     "name": "stdout",
     "output_type": "stream",
     "text": [
      "1.45\n"
     ]
    }
   ],
   "source": [
    "# some practice question using function\n",
    "#question-->  1!/2! + 2!/3! + 3!/4! + 4!/5! + 5!/6! \n",
    "\n",
    "\n",
    "\n",
    "def geometryFunc():\n",
    "    sum=0.0\n",
    "    for i in range(1, 6):\n",
    "        prod = 1\n",
    "        for j in range(1, i + 1):\n",
    "            prod = prod * j\n",
    "\n",
    "        prod1 = 1\n",
    "        for k in range(1, i + 2):\n",
    "            prod1 = prod1 * k\n",
    "\n",
    "        sum = sum + (prod / prod1)\n",
    "    #print(sum)\n",
    "    return sum\n",
    "        \n",
    "\n",
    "x=geometryFunc()\n",
    "print(x)\n",
    "   \n",
    "  "
   ]
  },
  {
   "cell_type": "code",
   "execution_count": 59,
   "id": "13bbcd36",
   "metadata": {},
   "outputs": [
    {
     "name": "stdout",
     "output_type": "stream",
     "text": [
      "enter the n value: 5\n",
      "1.7166666666666668\n"
     ]
    }
   ],
   "source": [
    "# question-> 1/1! + 1/2! + 1/3! + 1/4! + 1/5!....nth term\n",
    "\n",
    "def function():\n",
    "    sum=0.0\n",
    "    prod=1\n",
    "    for i in range(1,n+1):\n",
    "        prod=prod*i\n",
    "        sum=sum + (1/prod)\n",
    "    print(sum)\n",
    "n=int(input(\"enter the n value: \"))\n",
    "function()\n",
    "        "
   ]
  },
  {
   "cell_type": "code",
   "execution_count": 76,
   "id": "94f3cc8b",
   "metadata": {},
   "outputs": [
    {
     "name": "stdout",
     "output_type": "stream",
     "text": [
      "enter the number: 5\n",
      "*\n",
      "**\n",
      "***\n",
      "****\n",
      "*****\n"
     ]
    }
   ],
   "source": [
    "def star():\n",
    "    n=int(input(\"enter the number: \"))\n",
    "    for j in range(1,n+1):\n",
    "            print(\"*\"*j)\n",
    "            \n",
    "    \n",
    "star()#calling the function"
   ]
  },
  {
   "cell_type": "code",
   "execution_count": null,
   "id": "e3b84065",
   "metadata": {},
   "outputs": [],
   "source": []
  },
  {
   "cell_type": "code",
   "execution_count": null,
   "id": "0ad78cc3",
   "metadata": {},
   "outputs": [],
   "source": []
  }
 ],
 "metadata": {
  "kernelspec": {
   "display_name": "Python 3 (ipykernel)",
   "language": "python",
   "name": "python3"
  },
  "language_info": {
   "codemirror_mode": {
    "name": "ipython",
    "version": 3
   },
   "file_extension": ".py",
   "mimetype": "text/x-python",
   "name": "python",
   "nbconvert_exporter": "python",
   "pygments_lexer": "ipython3",
   "version": "3.11.5"
  }
 },
 "nbformat": 4,
 "nbformat_minor": 5
}
