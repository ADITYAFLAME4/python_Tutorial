{
 "cells": [
  {
   "cell_type": "markdown",
   "id": "0512c1e0",
   "metadata": {},
   "source": [
    "# control flow statement 2"
   ]
  },
  {
   "cell_type": "raw",
   "id": "1350aa73",
   "metadata": {},
   "source": [
    "while loop ==> when do not know how many times the loop will iterate/run then we use while loop\n",
    "syntax of while loop==> while condition :\n",
    "                                code"
   ]
  },
  {
   "cell_type": "code",
   "execution_count": 1,
   "id": "f47f944f",
   "metadata": {},
   "outputs": [
    {
     "name": "stdout",
     "output_type": "stream",
     "text": [
      "0\n",
      "1\n",
      "2\n",
      "3\n",
      "4\n",
      "5\n"
     ]
    }
   ],
   "source": [
    "i=0\n",
    "while i<=5:\n",
    "    print(i)\n",
    "    i=i+1"
   ]
  },
  {
   "cell_type": "raw",
   "id": "42c8fdba",
   "metadata": {},
   "source": [
    "total digit of a given number program"
   ]
  },
  {
   "cell_type": "code",
   "execution_count": 11,
   "id": "653c149d",
   "metadata": {},
   "outputs": [
    {
     "name": "stdout",
     "output_type": "stream",
     "text": [
      "enter a number: 78012\n",
      "the total digit of the number is: 5\n"
     ]
    }
   ],
   "source": [
    "n = int(input(\"enter a number: \"))\n",
    "count=0\n",
    "while n!=0:\n",
    "    n=n//10\n",
    "    count = count+1\n",
    "print(\"the total digit of the number is:\",count)"
   ]
  },
  {
   "cell_type": "code",
   "execution_count": 16,
   "id": "d004e5a1",
   "metadata": {},
   "outputs": [
    {
     "name": "stdout",
     "output_type": "stream",
     "text": [
      "enter a number: 699\n",
      "the total digit of the number is: 3\n"
     ]
    }
   ],
   "source": [
    "n = int(input(\"enter a number: \"))\n",
    "count=0\n",
    "if n==0:\n",
    "    count = 1\n",
    "else:\n",
    "    while n!=0:\n",
    "        n=n//10\n",
    "        count = count+1\n",
    "print(\"the total digit of the number is:\",count)    "
   ]
  },
  {
   "cell_type": "markdown",
   "id": "daf9e676",
   "metadata": {},
   "source": [
    "number to find all its factor"
   ]
  },
  {
   "cell_type": "code",
   "execution_count": 18,
   "id": "e8dd63a4",
   "metadata": {},
   "outputs": [
    {
     "name": "stdout",
     "output_type": "stream",
     "text": [
      "enter a number to check all its factor: 6\n",
      "1 is a factor of 6\n",
      "2 is a factor of 6\n",
      "3 is a factor of 6\n",
      "6 is a factor of 6\n"
     ]
    }
   ],
   "source": [
    "n = int(input(\"enter a number to check all its factor: \"))\n",
    "for x in range(1,n+1):\n",
    "    if n%x==0:\n",
    "        print(x,\"is a factor of\",n)\n",
    "    \n",
    "    "
   ]
  },
  {
   "cell_type": "markdown",
   "id": "31113bb4",
   "metadata": {},
   "source": [
    "number to find all its factor and put it into a list"
   ]
  },
  {
   "cell_type": "code",
   "execution_count": 4,
   "id": "f372c012",
   "metadata": {},
   "outputs": [
    {
     "name": "stdout",
     "output_type": "stream",
     "text": [
      "enter a number to find all its factor inside a list: 20\n",
      "the listof having all factors of 20 is: [1, 2, 4, 5, 10, 20]\n"
     ]
    }
   ],
   "source": [
    "l=[] #empty list create\n",
    "n = int(input(\"enter a number to find all its factor inside a list: \"))\n",
    "for x in range(1,n+1):\n",
    "    if n%x==0:\n",
    "        l.append(x)\n",
    "print(\"the listof having all factors of\",n,\"is:\",l)\n",
    "        "
   ]
  },
  {
   "cell_type": "raw",
   "id": "1036dd7c",
   "metadata": {},
   "source": [
    "perfect number checking code"
   ]
  },
  {
   "cell_type": "code",
   "execution_count": 8,
   "id": "c6e393e8",
   "metadata": {},
   "outputs": [
    {
     "name": "stdout",
     "output_type": "stream",
     "text": [
      "enter a number to check whether it's perfect or not: 25\n",
      "25 is not a perfect number\n"
     ]
    }
   ],
   "source": [
    "n=int(input(\"enter a number to check whether it's perfect or not: \"))\n",
    "#a=n\n",
    "sum=0\n",
    "for x in range(1,n+1):\n",
    "    if n%x==0 and n!=x:\n",
    "        sum=sum+x\n",
    "if sum==n:\n",
    "    print(n,\"is a perfect number\")\n",
    "else:\n",
    "    print(n,\"is not a perfect number\")\n",
    "    "
   ]
  },
  {
   "cell_type": "raw",
   "id": "3aff18d8",
   "metadata": {},
   "source": [
    "sum of all the elements in number"
   ]
  },
  {
   "cell_type": "code",
   "execution_count": 2,
   "id": "f5c6f13f",
   "metadata": {},
   "outputs": [
    {
     "name": "stdout",
     "output_type": "stream",
     "text": [
      "enter a number309\n",
      "total dogit of the number is: 3\n",
      "total digit's sum of the number is: 12\n"
     ]
    }
   ],
   "source": [
    "n=int(input(\"enter a number\"))\n",
    "sum=0\n",
    "count=0\n",
    "while n!=0:\n",
    "    a=n%10\n",
    "    n=n//10\n",
    "    count=count + 1\n",
    "    sum=sum+a\n",
    "print(\"total dogit of the number is:\",count)\n",
    "print(\"total digit's sum of the number is:\",sum)\n",
    "\n",
    "\n"
   ]
  },
  {
   "cell_type": "code",
   "execution_count": null,
   "id": "e1cbbfae",
   "metadata": {},
   "outputs": [],
   "source": [
    "while True: #infine loop\n",
    "    print(1)"
   ]
  },
  {
   "cell_type": "code",
   "execution_count": null,
   "id": "d66bc083",
   "metadata": {},
   "outputs": [],
   "source": [
    "while 1: #infinite loop\n",
    "    print(\"*\")"
   ]
  },
  {
   "cell_type": "code",
   "execution_count": 7,
   "id": "2ae917d9",
   "metadata": {},
   "outputs": [],
   "source": [
    "while 0: # 0 represents False thats why it won't execute.\n",
    "    print(\"*\")\n"
   ]
  },
  {
   "cell_type": "code",
   "execution_count": null,
   "id": "2f9c97d2",
   "metadata": {},
   "outputs": [],
   "source": [
    "i=12.5\n",
    "while i:        #infite loop\n",
    "    print(\"*\")"
   ]
  },
  {
   "cell_type": "code",
   "execution_count": null,
   "id": "79fe79e6",
   "metadata": {},
   "outputs": [],
   "source": [
    "while False: #False thats why it won't execute.\n",
    "    print(1)"
   ]
  },
  {
   "cell_type": "raw",
   "id": "f7ae1239",
   "metadata": {},
   "source": [
    "factorial of a number"
   ]
  },
  {
   "cell_type": "code",
   "execution_count": 2,
   "id": "21e3e24c",
   "metadata": {},
   "outputs": [
    {
     "name": "stdout",
     "output_type": "stream",
     "text": [
      "enter the number: 5\n",
      "the factorial of a fiven number is: 120\n"
     ]
    }
   ],
   "source": [
    "n=int(input(\"enter the number: \"))\n",
    "fact=1\n",
    "for x in range(1,n+1):\n",
    "    fact = fact*x\n",
    "print(\"the factorial of a fiven number is:\", fact)"
   ]
  },
  {
   "cell_type": "raw",
   "id": "ee18b2a1",
   "metadata": {},
   "source": [
    "strong number code ==>the sum of all digits factorial is equal to the main number"
   ]
  },
  {
   "cell_type": "code",
   "execution_count": 21,
   "id": "931af40a",
   "metadata": {},
   "outputs": [
    {
     "name": "stdout",
     "output_type": "stream",
     "text": [
      "enter the number: 145\n",
      "145 is the strong number\n"
     ]
    }
   ],
   "source": [
    "n=int(input(\"enter the number: \"))\n",
    "a=n\n",
    "\n",
    "sum=0\n",
    "while n!=0:\n",
    "    last=n%10\n",
    "    fact=1 #we have initialized fact=1 in while loop\n",
    "    for x in range(1,last+1):\n",
    "        fact=fact*x\n",
    "    sum=sum+fact\n",
    "    n=n//10\n",
    "if a==sum:\n",
    "    print(a,\"is the strong number\")\n",
    "else:\n",
    "    print(a,\"is not the strong number\")\n",
    "    \n",
    "\n"
   ]
  },
  {
   "cell_type": "code",
   "execution_count": null,
   "id": "a56b9cb1",
   "metadata": {},
   "outputs": [],
   "source": []
  },
  {
   "cell_type": "code",
   "execution_count": null,
   "id": "4aa646da",
   "metadata": {},
   "outputs": [],
   "source": []
  }
 ],
 "metadata": {
  "kernelspec": {
   "display_name": "Python 3 (ipykernel)",
   "language": "python",
   "name": "python3"
  },
  "language_info": {
   "codemirror_mode": {
    "name": "ipython",
    "version": 3
   },
   "file_extension": ".py",
   "mimetype": "text/x-python",
   "name": "python",
   "nbconvert_exporter": "python",
   "pygments_lexer": "ipython3",
   "version": "3.11.5"
  }
 },
 "nbformat": 4,
 "nbformat_minor": 5
}
