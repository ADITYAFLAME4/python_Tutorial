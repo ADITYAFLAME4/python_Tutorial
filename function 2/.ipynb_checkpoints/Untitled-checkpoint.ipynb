{
 "cells": [
  {
   "cell_type": "raw",
   "id": "ea0370f4",
   "metadata": {},
   "source": [
    "function 2:"
   ]
  },
  {
   "cell_type": "raw",
   "id": "2484884c",
   "metadata": {},
   "source": [
    "in python it is possible that function can return more than one value just because of tuple(packing and unpacking concept). Example below"
   ]
  },
  {
   "cell_type": "code",
   "execution_count": 5,
   "id": "d71a3170",
   "metadata": {},
   "outputs": [
    {
     "name": "stdout",
     "output_type": "stream",
     "text": [
      "addition is: 30\n",
      "addition is: -10\n"
     ]
    }
   ],
   "source": [
    "\n",
    "def f(x,y):\n",
    "    return x+y, x-y #packing -->two value packed\n",
    "                    #this function is returning more than one value\n",
    "\n",
    "a,b=f(10,20) #unpacking  --> f() function is returning 2 value thats why we need two variable to catch those value\n",
    "print(\"addition is:\",a)\n",
    "print(\"addition is:\",b)\n",
    "    "
   ]
  },
  {
   "cell_type": "code",
   "execution_count": 11,
   "id": "7fef4f28",
   "metadata": {},
   "outputs": [
    {
     "name": "stdout",
     "output_type": "stream",
     "text": [
      "30\n",
      "-10\n"
     ]
    }
   ],
   "source": [
    "def f(a, b):\n",
    "    '''This function is returning sum and difference'''\n",
    "    return a + b, a - b\n",
    "\n",
    "x, y = f(10, 20)\n",
    "print(x)  # Prints the sum of 10 and 20 (30)\n",
    "print(y)  # Prints the difference of 10 and 20 (-10)\n",
    "# print(f.__doc__)  # Prints the docstring associated with the function\n",
    "\n",
    "    "
   ]
  },
  {
   "cell_type": "code",
   "execution_count": 12,
   "id": "78d965cc",
   "metadata": {},
   "outputs": [
    {
     "name": "stdout",
     "output_type": "stream",
     "text": [
      "This function is returning sum and difference\n"
     ]
    }
   ],
   "source": [
    "# how to get doc string\n",
    "# syantax ==> object.__doc__\n",
    "print(f.__doc__)"
   ]
  },
  {
   "cell_type": "markdown",
   "id": "5acb2174",
   "metadata": {},
   "source": [
    "positional argument"
   ]
  },
  {
   "cell_type": "code",
   "execution_count": 16,
   "id": "783792da",
   "metadata": {},
   "outputs": [
    {
     "name": "stdout",
     "output_type": "stream",
     "text": [
      "60\n"
     ]
    }
   ],
   "source": [
    "def f(a,b,c):\n",
    "    return a+b+c\n",
    "# whenever we call thus function exactly 3 arguments are required\n",
    "x= f(10,20,30) #a=10,b=20,c=30\n",
    "print(x)\n",
    "\n",
    "\n",
    "# rules of positional argument:\n",
    "        #the number of arguments and position must be matched\n",
    "        #if no. of arguments not same at the time of calling ==>ERROR"
   ]
  },
  {
   "cell_type": "code",
   "execution_count": 1,
   "id": "82ed37ab",
   "metadata": {},
   "outputs": [
    {
     "ename": "TypeError",
     "evalue": "f() missing 2 required positional arguments: 'b' and 'c'",
     "output_type": "error",
     "traceback": [
      "\u001b[1;31m---------------------------------------------------------------------------\u001b[0m",
      "\u001b[1;31mTypeError\u001b[0m                                 Traceback (most recent call last)",
      "Cell \u001b[1;32mIn[1], line 3\u001b[0m\n\u001b[0;32m      1\u001b[0m \u001b[38;5;28;01mdef\u001b[39;00m \u001b[38;5;21mf\u001b[39m(a,b,c):\n\u001b[0;32m      2\u001b[0m     \u001b[38;5;28;01mreturn\u001b[39;00m a\u001b[38;5;241m+\u001b[39mb\u001b[38;5;241m+\u001b[39mc\n\u001b[1;32m----> 3\u001b[0m f(\u001b[38;5;241m10\u001b[39m)\n",
      "\u001b[1;31mTypeError\u001b[0m: f() missing 2 required positional arguments: 'b' and 'c'"
     ]
    }
   ],
   "source": [
    "def f(a,b,c):\n",
    "    return a+b+c\n",
    "f(10) #ERROR"
   ]
  },
  {
   "cell_type": "markdown",
   "id": "a5ff8a16",
   "metadata": {},
   "source": [
    "keyword argument"
   ]
  },
  {
   "cell_type": "code",
   "execution_count": 2,
   "id": "6aeb0726",
   "metadata": {},
   "outputs": [
    {
     "name": "stdout",
     "output_type": "stream",
     "text": [
      "mithun\n",
      "20\n",
      "mithunraptan121@gmail.com\n"
     ]
    }
   ],
   "source": [
    "def f(name,age,email):\n",
    "    print(name)\n",
    "    print(age)\n",
    "    print(email)\n",
    "    \n",
    "f(age=20,name=\"mithun\",email=\"mithunraptan121@gmail.com\") \n",
    "# advantage of keyword argument:\n",
    "#we dont need to remember the order of the arguments\n",
    "#any order is possible at the time of calling with keyword as argument name"
   ]
  },
  {
   "cell_type": "code",
   "execution_count": 3,
   "id": "7652bc2f",
   "metadata": {},
   "outputs": [
    {
     "name": "stdout",
     "output_type": "stream",
     "text": [
      "60\n"
     ]
    }
   ],
   "source": [
    "def f(a,b,c):\n",
    "    return a+b+c\n",
    "# x=f(10,20,30) #positional argument #output==> 60\n",
    "#instead of positional argument we can pass 'keyword argument' too.\n",
    "x=f(c=30,a=10,b=20)\n",
    "print(x) #output==> 60\n"
   ]
  },
  {
   "cell_type": "code",
   "execution_count": 4,
   "id": "3513f95c",
   "metadata": {},
   "outputs": [
    {
     "name": "stdout",
     "output_type": "stream",
     "text": [
      "mithun@raptan#"
     ]
    }
   ],
   "source": [
    "print(\"mithun\",\"raptan\",sep=\"@\",end=\"#\")"
   ]
  },
  {
   "cell_type": "code",
   "execution_count": 14,
   "id": "96cc7995",
   "metadata": {},
   "outputs": [
    {
     "ename": "SyntaxError",
     "evalue": "positional argument follows keyword argument (222945208.py, line 4)",
     "output_type": "error",
     "traceback": [
      "\u001b[1;36m  Cell \u001b[1;32mIn[14], line 4\u001b[1;36m\u001b[0m\n\u001b[1;33m    function(a=5,b=8,10,20) #uud ke lath ==>first positional arguments then keyword arguments hota hai\u001b[0m\n\u001b[1;37m                          ^\u001b[0m\n\u001b[1;31mSyntaxError\u001b[0m\u001b[1;31m:\u001b[0m positional argument follows keyword argument\n"
     ]
    }
   ],
   "source": [
    "# NOTE: positional arguments follows keyward arguments\n",
    "def function(a,b,c,d):\n",
    "    return (a+b+c)\n",
    "function(a=5,b=8,10,20) #uud ke lath ==>first positional arguments then keyword arguments hota hai"
   ]
  },
  {
   "cell_type": "code",
   "execution_count": 15,
   "id": "2059d45d",
   "metadata": {},
   "outputs": [
    {
     "ename": "NameError",
     "evalue": "name 'function' is not defined",
     "output_type": "error",
     "traceback": [
      "\u001b[1;31m---------------------------------------------------------------------------\u001b[0m",
      "\u001b[1;31mNameError\u001b[0m                                 Traceback (most recent call last)",
      "Cell \u001b[1;32mIn[15], line 1\u001b[0m\n\u001b[1;32m----> 1\u001b[0m function(\u001b[38;5;241m10\u001b[39m,\u001b[38;5;241m20\u001b[39m,b\u001b[38;5;241m=\u001b[39m\u001b[38;5;241m30\u001b[39m,d\u001b[38;5;241m=\u001b[39m\u001b[38;5;241m40\u001b[39m)\n",
      "\u001b[1;31mNameError\u001b[0m: name 'function' is not defined"
     ]
    }
   ],
   "source": [
    "function(10,20,b=30,d=40) #error==> 10-->a, 20-->b, and i'm giving another value inside 'b' using keyword args"
   ]
  },
  {
   "cell_type": "code",
   "execution_count": 13,
   "id": "b759284c",
   "metadata": {},
   "outputs": [
    {
     "name": "stdout",
     "output_type": "stream",
     "text": [
      "100\n"
     ]
    }
   ],
   "source": [
    "def f(a,b,c,d):\n",
    "    print(a+b+c+d)\n",
    "f(10,20,d=40,c=30) #10==>a, 20==>b, then keyword arguments takes place\n"
   ]
  },
  {
   "cell_type": "code",
   "execution_count": null,
   "id": "2e18b494",
   "metadata": {},
   "outputs": [],
   "source": []
  },
  {
   "cell_type": "markdown",
   "id": "9514beba",
   "metadata": {},
   "source": [
    "default argument\n",
    "\n",
    "#c is taking a default value as 0 \n",
    "\n",
    "#if we don't pass c then only 0 is taken\n",
    "\n",
    "example below:-\n",
    "\n",
    "def f(a,b,c=0):\n",
    "\n",
    "    statements"
   ]
  },
  {
   "cell_type": "code",
   "execution_count": 16,
   "id": "49013800",
   "metadata": {},
   "outputs": [
    {
     "data": {
      "text/plain": [
       "30"
      ]
     },
     "execution_count": 16,
     "metadata": {},
     "output_type": "execute_result"
    }
   ],
   "source": [
    "def f(a,b,c=0):\n",
    "    return a+b+c\n",
    "f(10,20) #a=>10, b=>20, we didn't passed c value ===>default c=0    ======>>>> 10+20+0"
   ]
  },
  {
   "cell_type": "code",
   "execution_count": 17,
   "id": "1444bed3",
   "metadata": {},
   "outputs": [
    {
     "data": {
      "text/plain": [
       "60"
      ]
     },
     "execution_count": 17,
     "metadata": {},
     "output_type": "execute_result"
    }
   ],
   "source": [
    "f(10,20,30) #a==>10, b==>20, c==>30 ....default value is not needed now"
   ]
  },
  {
   "cell_type": "code",
   "execution_count": 19,
   "id": "c25bafce",
   "metadata": {},
   "outputs": [
    {
     "name": "stdout",
     "output_type": "stream",
     "text": [
      "30\n"
     ]
    }
   ],
   "source": [
    "def function(a,b,c=0,d=0):\n",
    "    print (a+b+c+d)\n",
    "function(10,20) # default value of c and d are taken  10+20+0+0"
   ]
  },
  {
   "cell_type": "code",
   "execution_count": 20,
   "id": "32257c4f",
   "metadata": {},
   "outputs": [
    {
     "ename": "SyntaxError",
     "evalue": "non-default argument follows default argument (4121257700.py, line 1)",
     "output_type": "error",
     "traceback": [
      "\u001b[1;36m  Cell \u001b[1;32mIn[20], line 1\u001b[1;36m\u001b[0m\n\u001b[1;33m    def f(a=0,b=0,c,d):\u001b[0m\n\u001b[1;37m                  ^\u001b[0m\n\u001b[1;31mSyntaxError\u001b[0m\u001b[1;31m:\u001b[0m non-default argument follows default argument\n"
     ]
    }
   ],
   "source": [
    "def f(a=0,b=0,c,d):    #default must be after positional arguments\n",
    "    return (a+b+c+d)\n"
   ]
  },
  {
   "cell_type": "raw",
   "id": "8886d457",
   "metadata": {},
   "source": [
    "VARIABLE NUMBER OF ARGUMENTS \n",
    "\n",
    "#it means we are passing n number of value in a function\n",
    "syntax:\n",
    "    \n",
    "    def f(*n):   #here '*' means any number of argument is coming \n",
    "        sequence\n",
    "        \n",
    "        \n",
    "note: def f(*n,x):\n",
    "              code\n",
    " f(10,20,30,x=25)  # x must be keyword argument"
   ]
  },
  {
   "cell_type": "code",
   "execution_count": 26,
   "id": "cbb1983a",
   "metadata": {},
   "outputs": [
    {
     "name": "stdout",
     "output_type": "stream",
     "text": [
      "10\n",
      "20\n",
      "30\n",
      "mithun\n",
      "raptan\n",
      "55\n",
      "60\n"
     ]
    }
   ],
   "source": [
    "def f(*n):\n",
    "    for ele in n:\n",
    "        print(ele)\n",
    "        \n",
    "f(10,20,30,\"mithun\",\"raptan\",55,60) #variable number of argumet function....so can pass n number of value"
   ]
  },
  {
   "cell_type": "code",
   "execution_count": 38,
   "id": "a6acd2a4",
   "metadata": {},
   "outputs": [
    {
     "data": {
      "text/plain": [
       "200"
      ]
     },
     "execution_count": 38,
     "metadata": {},
     "output_type": "execute_result"
    }
   ],
   "source": [
    "def f(*a):\n",
    "    sum=0\n",
    "    for i in a:\n",
    "        sum=sum+i\n",
    "    return sum\n",
    "f(10,20,30,40,50,30,20) # variable number of argumet function....so can pass n number of value"
   ]
  },
  {
   "cell_type": "code",
   "execution_count": 39,
   "id": "12980cde",
   "metadata": {},
   "outputs": [
    {
     "data": {
      "text/plain": [
       "0"
      ]
     },
     "execution_count": 39,
     "metadata": {},
     "output_type": "execute_result"
    }
   ],
   "source": [
    "f()"
   ]
  },
  {
   "cell_type": "code",
   "execution_count": 40,
   "id": "9419fd8c",
   "metadata": {},
   "outputs": [
    {
     "data": {
      "text/plain": [
       "10"
      ]
     },
     "execution_count": 40,
     "metadata": {},
     "output_type": "execute_result"
    }
   ],
   "source": [
    "f(10)"
   ]
  },
  {
   "cell_type": "code",
   "execution_count": 41,
   "id": "2e9afda5",
   "metadata": {},
   "outputs": [
    {
     "data": {
      "text/plain": [
       "30"
      ]
     },
     "execution_count": 41,
     "metadata": {},
     "output_type": "execute_result"
    }
   ],
   "source": [
    "f(10,20)"
   ]
  },
  {
   "cell_type": "code",
   "execution_count": 42,
   "id": "b810e1b1",
   "metadata": {},
   "outputs": [
    {
     "data": {
      "text/plain": [
       "60"
      ]
     },
     "execution_count": 42,
     "metadata": {},
     "output_type": "execute_result"
    }
   ],
   "source": [
    "f(10,20,30)"
   ]
  },
  {
   "cell_type": "code",
   "execution_count": null,
   "id": "6bfaf084",
   "metadata": {},
   "outputs": [],
   "source": []
  },
  {
   "cell_type": "code",
   "execution_count": null,
   "id": "e587d7e0",
   "metadata": {},
   "outputs": [],
   "source": []
  },
  {
   "cell_type": "code",
   "execution_count": 43,
   "id": "65ff6f89",
   "metadata": {},
   "outputs": [],
   "source": [
    "def f(*n,x):\n",
    "    for i in n:\n",
    "        print(i)\n",
    "        print(x)\n",
    "        "
   ]
  },
  {
   "cell_type": "code",
   "execution_count": 36,
   "id": "5e6e3bd9",
   "metadata": {},
   "outputs": [
    {
     "name": "stdout",
     "output_type": "stream",
     "text": [
      "10\n",
      "25\n",
      "20\n",
      "25\n",
      "30\n",
      "25\n"
     ]
    }
   ],
   "source": [
    "f(10,20,30,x=25) #x must be keyword argument"
   ]
  },
  {
   "cell_type": "code",
   "execution_count": null,
   "id": "8cf4a90e",
   "metadata": {},
   "outputs": [],
   "source": []
  },
  {
   "cell_type": "code",
   "execution_count": null,
   "id": "2381d9f4",
   "metadata": {},
   "outputs": [],
   "source": []
  },
  {
   "cell_type": "raw",
   "id": "40518de6",
   "metadata": {},
   "source": [
    "VARIABLE LENGTH KEYWORD ARGUMENT\n",
    "syntax:\n",
    "    def f(**args):  #'**' means variable length keyword argument, and 'args' is a dictionary\n",
    "        code\n",
    "        \n",
    "f(a=10,b=20,c=\"a\",d=\"b\") #this is keyword argument\n",
    "\n",
    "#whenever we pass keyword argument inside 'variable length keword argument' function then internally\n",
    "#     it becomes dictionary , example ==>\n",
    "#                                 args : {a:10,b:20,c:\"a\",d:\"b\"}"
   ]
  },
  {
   "cell_type": "code",
   "execution_count": 49,
   "id": "3ffc6e99",
   "metadata": {},
   "outputs": [
    {
     "name": "stdout",
     "output_type": "stream",
     "text": [
      "key is a value is 10\n",
      "key is b value is 20\n",
      "key is c value is mithun\n",
      "key is d value is [1, 2, 3, 4]\n"
     ]
    }
   ],
   "source": [
    "def f(**args):\n",
    "    for k,v in args.items():\n",
    "        print(\"key is\",k,\"value is\",v)\n",
    "f(a=10,b=20,c=\"mithun\",d=[1,2,3,4])\n",
    "\n",
    "#dict.items() ==>pairs key-value\n",
    "#dict.keys()\n",
    "#dict.values()"
   ]
  },
  {
   "cell_type": "code",
   "execution_count": 50,
   "id": "8fe5b113",
   "metadata": {},
   "outputs": [
    {
     "name": "stdout",
     "output_type": "stream",
     "text": [
      "key is a value is mithun\n",
      "key is b value is raptan\n"
     ]
    }
   ],
   "source": [
    "f(a=\"mithun\",b=\"raptan\")"
   ]
  },
  {
   "cell_type": "code",
   "execution_count": 52,
   "id": "51d58977",
   "metadata": {},
   "outputs": [
    {
     "ename": "NameError",
     "evalue": "name 'a' is not defined",
     "output_type": "error",
     "traceback": [
      "\u001b[1;31m---------------------------------------------------------------------------\u001b[0m",
      "\u001b[1;31mNameError\u001b[0m                                 Traceback (most recent call last)",
      "Cell \u001b[1;32mIn[52], line 1\u001b[0m\n\u001b[1;32m----> 1\u001b[0m f({a:\u001b[38;5;124m\"\u001b[39m\u001b[38;5;124mmithun\u001b[39m\u001b[38;5;124m\"\u001b[39m,b:\u001b[38;5;124m\"\u001b[39m\u001b[38;5;124mraptan\u001b[39m\u001b[38;5;124m\"\u001b[39m})\n",
      "\u001b[1;31mNameError\u001b[0m: name 'a' is not defined"
     ]
    }
   ],
   "source": [
    "f({a:\"mithun\",b:\"raptan\"}) #error => we have to pass keywors arguments and then it will convert \n",
    "                            # to a dictionary through \"**\" i,e. variable length keyword argument"
   ]
  },
  {
   "cell_type": "code",
   "execution_count": null,
   "id": "eb1654be",
   "metadata": {},
   "outputs": [],
   "source": []
  }
 ],
 "metadata": {
  "kernelspec": {
   "display_name": "Python 3 (ipykernel)",
   "language": "python",
   "name": "python3"
  },
  "language_info": {
   "codemirror_mode": {
    "name": "ipython",
    "version": 3
   },
   "file_extension": ".py",
   "mimetype": "text/x-python",
   "name": "python",
   "nbconvert_exporter": "python",
   "pygments_lexer": "ipython3",
   "version": "3.11.5"
  }
 },
 "nbformat": 4,
 "nbformat_minor": 5
}
