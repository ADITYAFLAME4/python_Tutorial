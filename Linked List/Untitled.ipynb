{
 "cells": [
  {
   "cell_type": "markdown",
   "id": "0249683b",
   "metadata": {},
   "source": [
    "Linked List"
   ]
  },
  {
   "cell_type": "code",
   "execution_count": 6,
   "id": "18eb26e4",
   "metadata": {},
   "outputs": [
    {
     "name": "stdout",
     "output_type": "stream",
     "text": [
      "<__main__.Node object at 0x00000216149DCA90>\n",
      "None\n",
      "<__main__.Node object at 0x00000216149DB590>\n",
      "None\n",
      "<__main__.Node object at 0x00000216149DB590>\n"
     ]
    }
   ],
   "source": [
    "class Node:\n",
    "    def __init__(self,data):\n",
    "        self.data = data\n",
    "        self.next = None #setting 'next' varibale default is => None\n",
    "        \n",
    "a=Node(10)\n",
    "b=Node(20)\n",
    "print(a)  # 'a' object reference will print \n",
    "print(a.next) # None\n",
    "print(b) # 'b' object reference will print \n",
    "print(b.next) # None\n",
    "a.next = b # now 'a' object's 'next' is having => 'b' object reference\n",
    "print(a.next) # it will print 'b' object's reference ==> means->> now 'a' object's 'next' variable\n",
    "                                             # consist 'b' object's memory address(reference)\n",
    "    "
   ]
  },
  {
   "cell_type": "code",
   "execution_count": 3,
   "id": "db4d0323",
   "metadata": {},
   "outputs": [],
   "source": [
    "class Node:\n",
    "    def __init__(self,data):\n",
    "        self.data = data\n",
    "        self.next = None #setting 'next' varibale default is => None\n",
    "        \n",
    "        \n",
    "\n",
    "\n",
    "def LinkedList():\n",
    "    l = [int(ele) for ele in input().split()]\n",
    "    head = None\n",
    "    for i in range(len(l)):\n",
    "        new_node = Node(l[i])\n",
    "        if head is None:\n",
    "            head = new_node\n",
    "        \n",
    "        else:\n",
    "            current = head\n",
    "            while current.next is not None:\n",
    "                current = current.next\n",
    "            current.next = new_node\n",
    "            \n",
    "    return head\n",
    "\n",
    "\n",
    "\n",
    "def printLL(x):\n",
    "    while x is not None:\n",
    "        print(x.data,\"-->\",end='')\n",
    "        x = x.next\n",
    "    print(\"None\")\n",
    "        \n",
    "            \n",
    "            \n",
    "            \n",
    "   \n",
    "\n",
    "\n",
    "   \n",
    "        \n",
    "\n",
    "        \n"
   ]
  },
  {
   "cell_type": "code",
   "execution_count": 17,
   "id": "79cd452f",
   "metadata": {},
   "outputs": [
    {
     "name": "stdout",
     "output_type": "stream",
     "text": [
      "1 2 3 4\n"
     ]
    }
   ],
   "source": [
    "r = LinkedList()"
   ]
  },
  {
   "cell_type": "code",
   "execution_count": 23,
   "id": "cce9c0c8",
   "metadata": {},
   "outputs": [
    {
     "name": "stdout",
     "output_type": "stream",
     "text": [
      "1 -->2 -->3 -->4 -->None\n"
     ]
    }
   ],
   "source": [
    "printLL(r)"
   ]
  },
  {
   "cell_type": "code",
   "execution_count": null,
   "id": "2e05cddb",
   "metadata": {},
   "outputs": [],
   "source": []
  },
  {
   "cell_type": "code",
   "execution_count": 10,
   "id": "5a9df9d3",
   "metadata": {},
   "outputs": [],
   "source": [
    "# so as of now ==> we have created a linked list with having user given node data.\n",
    "#our linked list first node reference variable is 'r' (this is the 'head')."
   ]
  },
  {
   "cell_type": "code",
   "execution_count": 11,
   "id": "93e85a01",
   "metadata": {},
   "outputs": [],
   "source": []
  },
  {
   "cell_type": "code",
   "execution_count": 14,
   "id": "e28309a8",
   "metadata": {},
   "outputs": [],
   "source": []
  },
  {
   "cell_type": "code",
   "execution_count": null,
   "id": "22c3e4e0",
   "metadata": {},
   "outputs": [],
   "source": []
  },
  {
   "cell_type": "code",
   "execution_count": null,
   "id": "dfe6d227",
   "metadata": {},
   "outputs": [],
   "source": []
  }
 ],
 "metadata": {
  "kernelspec": {
   "display_name": "Python 3 (ipykernel)",
   "language": "python",
   "name": "python3"
  },
  "language_info": {
   "codemirror_mode": {
    "name": "ipython",
    "version": 3
   },
   "file_extension": ".py",
   "mimetype": "text/x-python",
   "name": "python",
   "nbconvert_exporter": "python",
   "pygments_lexer": "ipython3",
   "version": "3.11.5"
  }
 },
 "nbformat": 4,
 "nbformat_minor": 5
}
