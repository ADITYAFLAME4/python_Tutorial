{
 "cells": [
  {
   "cell_type": "markdown",
   "id": "0a4be5c3",
   "metadata": {},
   "source": [
    "# stack"
   ]
  },
  {
   "cell_type": "code",
   "execution_count": 37,
   "id": "8e6d0096",
   "metadata": {},
   "outputs": [],
   "source": [
    "class Stack:\n",
    "    def __init__(self):\n",
    "        self.__array = []\n",
    "    def push(self,element):\n",
    "        self.__array.append(element)\n",
    "        \n",
    "    def pop(self):\n",
    "        if self.IsEmpty() is True:\n",
    "            print(\"empty stack\")\n",
    "            return\n",
    "        return self.__array.pop()\n",
    "    \n",
    "    def IsEmpty(self):\n",
    "        return self.size() == 0                                #def f1():\n",
    "                                                                    #return 0 == 0\n",
    "                                                               #a = f1()\n",
    "                                                               #print(a)  //True\n",
    "        \n",
    "        \n",
    "    def size(self):\n",
    "        return len(self.__array)\n",
    "    \n",
    "    def top(self):\n",
    "        if self.IsEmpty() is True:\n",
    "            print(\"no element\")\n",
    "            return\n",
    "        return self.__array[-1]\n",
    "    "
   ]
  },
  {
   "cell_type": "code",
   "execution_count": 38,
   "id": "633ec3ed",
   "metadata": {},
   "outputs": [],
   "source": [
    "s1 = Stack()\n"
   ]
  },
  {
   "cell_type": "code",
   "execution_count": 39,
   "id": "1554c821",
   "metadata": {},
   "outputs": [],
   "source": [
    "s1.push(10)"
   ]
  },
  {
   "cell_type": "code",
   "execution_count": 40,
   "id": "f93c15be",
   "metadata": {},
   "outputs": [
    {
     "data": {
      "text/plain": [
       "10"
      ]
     },
     "execution_count": 40,
     "metadata": {},
     "output_type": "execute_result"
    }
   ],
   "source": [
    "s1.top()"
   ]
  },
  {
   "cell_type": "code",
   "execution_count": 41,
   "id": "58a38564",
   "metadata": {},
   "outputs": [
    {
     "data": {
      "text/plain": [
       "10"
      ]
     },
     "execution_count": 41,
     "metadata": {},
     "output_type": "execute_result"
    }
   ],
   "source": [
    "s1.pop()"
   ]
  },
  {
   "cell_type": "code",
   "execution_count": 42,
   "id": "4e7dca61",
   "metadata": {},
   "outputs": [
    {
     "name": "stdout",
     "output_type": "stream",
     "text": [
      "empty stack\n"
     ]
    }
   ],
   "source": [
    "s1.pop()"
   ]
  },
  {
   "cell_type": "code",
   "execution_count": 43,
   "id": "5964b25f",
   "metadata": {},
   "outputs": [
    {
     "name": "stdout",
     "output_type": "stream",
     "text": [
      "no element\n"
     ]
    }
   ],
   "source": [
    "s1.top()"
   ]
  },
  {
   "cell_type": "code",
   "execution_count": null,
   "id": "a0230609",
   "metadata": {},
   "outputs": [],
   "source": []
  },
  {
   "cell_type": "code",
   "execution_count": 44,
   "id": "d60d719f",
   "metadata": {},
   "outputs": [],
   "source": [
    "# using stack checking the opening and closing parenthesis"
   ]
  },
  {
   "cell_type": "code",
   "execution_count": null,
   "id": "bd0a751a",
   "metadata": {},
   "outputs": [],
   "source": [
    "str = input(\"enter the parenthesis here :\")\n",
    "l = []\n",
    "for parenthesis in l:\n",
    "    if parenthesis in \"({[\":\n",
    "        l.append(parenthesis)\n",
    "        \n",
    "    \n",
    "        "
   ]
  }
 ],
 "metadata": {
  "kernelspec": {
   "display_name": "Python 3 (ipykernel)",
   "language": "python",
   "name": "python3"
  },
  "language_info": {
   "codemirror_mode": {
    "name": "ipython",
    "version": 3
   },
   "file_extension": ".py",
   "mimetype": "text/x-python",
   "name": "python",
   "nbconvert_exporter": "python",
   "pygments_lexer": "ipython3",
   "version": "3.11.5"
  }
 },
 "nbformat": 4,
 "nbformat_minor": 5
}
