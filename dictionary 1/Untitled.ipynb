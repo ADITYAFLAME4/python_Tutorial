{
 "cells": [
  {
   "cell_type": "markdown",
   "id": "531d2d35",
   "metadata": {},
   "source": [
    "dictionary in python"
   ]
  },
  {
   "cell_type": "raw",
   "id": "b2aa3f7a",
   "metadata": {},
   "source": [
    "A collection of Key-Value pair is called Dictionary\n",
    "#key should be unique\n",
    "#duplicate key not allowed\n",
    "#order is not present in dictionary\n",
    "#indexing is not there in dictionary\n",
    "#slicing not possible\n",
    "#heterogen objects are allowed for both the keys and values\n",
    "#dictionary is dynamic means we can add and remove in dictionary\n",
    "#dictionary is Mutable"
   ]
  },
  {
   "cell_type": "code",
   "execution_count": 1,
   "id": "981beaa5",
   "metadata": {},
   "outputs": [
    {
     "name": "stdout",
     "output_type": "stream",
     "text": [
      "<class 'dict'>\n"
     ]
    }
   ],
   "source": [
    "# creating dictionary\n",
    "d = {} #created empty dictionary\n",
    "print(type(d))\n"
   ]
  },
  {
   "cell_type": "code",
   "execution_count": 2,
   "id": "f0d349aa",
   "metadata": {},
   "outputs": [
    {
     "name": "stdout",
     "output_type": "stream",
     "text": [
      "{1: 'mithun', 2: 'sagar', 3: 'abhijit'}\n"
     ]
    }
   ],
   "source": [
    "d = {\n",
    "    1:\"mithun\",\n",
    "    2: \"sagar\",\n",
    "    3: \"abhijit\"\n",
    "}\n",
    "print(d)"
   ]
  },
  {
   "cell_type": "code",
   "execution_count": 3,
   "id": "de9402a2",
   "metadata": {},
   "outputs": [
    {
     "name": "stdout",
     "output_type": "stream",
     "text": [
      "{'mithun': 1, 'sagar': 2, 'abhijit': 3}\n"
     ]
    }
   ],
   "source": [
    "d = {\n",
    "    \"mithun\": 1,\n",
    "    \"sagar\": 2,\n",
    "    \"abhijit\": 3\n",
    "}\n",
    "print(d)"
   ]
  },
  {
   "cell_type": "code",
   "execution_count": 8,
   "id": "9d1f1f38",
   "metadata": {},
   "outputs": [
    {
     "name": "stdout",
     "output_type": "stream",
     "text": [
      "{1: 'mithun', 'sagar': 2, 3: 'abhijit'}\n"
     ]
    }
   ],
   "source": [
    "d = {\n",
    "    1:\"mithun\",\n",
    "    \"sagar\":2,\n",
    "    3:\"abhijit\"\n",
    "}\n",
    "print(d)"
   ]
  },
  {
   "cell_type": "code",
   "execution_count": 13,
   "id": "0a9f9364",
   "metadata": {},
   "outputs": [
    {
     "name": "stdout",
     "output_type": "stream",
     "text": [
      "{1: 'mithun', 2: 'sagar', 3: {10: 'rima', 11: 'esha'}}\n"
     ]
    }
   ],
   "source": [
    "d = {1:\"mithun\",2:\"sagar\",3:{10:\"rima\",11:\"esha\"}}\n",
    "print(d)\n"
   ]
  },
  {
   "cell_type": "code",
   "execution_count": 14,
   "id": "6830a4ac",
   "metadata": {},
   "outputs": [
    {
     "name": "stdout",
     "output_type": "stream",
     "text": [
      "{1: 100, 2: 200, 3: 300, 4: ['one', 'two', 'three', 4], 5: {1: 5, 2: 6}}\n"
     ]
    }
   ],
   "source": [
    "d = {1:100,2:200,3:300,4:[\"one\",\"two\",\"three\",4],5:{1:5,2:6}}\n",
    "print(d)"
   ]
  },
  {
   "cell_type": "markdown",
   "id": "c034255a",
   "metadata": {},
   "source": [
    "pair of values,  and converted into dictionary"
   ]
  },
  {
   "cell_type": "code",
   "execution_count": 4,
   "id": "4e78ec3a",
   "metadata": {},
   "outputs": [
    {
     "name": "stdout",
     "output_type": "stream",
     "text": [
      "{1: 'mithun', 2: 'sagar', 3: 'abhijit'}\n"
     ]
    }
   ],
   "source": [
    "(1,\"mithun\") #pair of values\n",
    "(2,\"sagar\") #pair of values\n",
    "(3,\"abhijit\") #pair of values\n",
    "l= [(1,\"mithun\"),(2,\"sagar\"),(3,\"abhijit\")] #list of pairs\n",
    "d = dict(l) #it will create a dictionary\n",
    "print(d)"
   ]
  },
  {
   "cell_type": "markdown",
   "id": "1edbbbc9",
   "metadata": {},
   "source": [
    "creating dictionary by providing a list of keys"
   ]
  },
  {
   "cell_type": "code",
   "execution_count": 6,
   "id": "14ea4c58",
   "metadata": {},
   "outputs": [
    {
     "name": "stdout",
     "output_type": "stream",
     "text": [
      "{1: None, 2: None, 3: None, 'mithun': None}\n"
     ]
    }
   ],
   "source": [
    "d = dict.fromkeys([1,2,3,\"mithun\"]) # I am providing 4 keys\n",
    "#where are values for these keys ==>None\n",
    "print(d)"
   ]
  },
  {
   "cell_type": "markdown",
   "id": "f796b188",
   "metadata": {},
   "source": [
    "creating dictionary by providing a list of keys, and giving same value for each keys"
   ]
  },
  {
   "cell_type": "code",
   "execution_count": 12,
   "id": "10055541",
   "metadata": {},
   "outputs": [
    {
     "name": "stdout",
     "output_type": "stream",
     "text": [
      "{1: 'IIE', 2: 'IIE', 3: 'IIE', 'mithun': 'IIE'}\n"
     ]
    }
   ],
   "source": [
    "d = dict.fromkeys([1,2,3,\"mithun\"], \"IIE\")\n",
    "#default value is changed to ==>IIE\n",
    "print(d)"
   ]
  },
  {
   "cell_type": "markdown",
   "id": "e629c32d",
   "metadata": {},
   "source": [
    "#duplicated keys not allowed, but if we give duplicate keys then the latest value of that key will be print, example below"
   ]
  },
  {
   "cell_type": "code",
   "execution_count": 18,
   "id": "e132b2a4",
   "metadata": {},
   "outputs": [
    {
     "name": "stdout",
     "output_type": "stream",
     "text": [
      "{1: 'mithun', 2: 'abhijit'}\n"
     ]
    }
   ],
   "source": [
    "l = [(1,\"mithun\"),(2,\"sagar\"),(2,'abhijit')] # key--> 2 is used twice\n",
    "                                #corresponding to duplicate key(2) the letest value is-->\"abhijit\"\n",
    "                                #for this the result will be==> 2:\"abhijit\"\n",
    "d = dict(l)\n",
    "print(d)"
   ]
  },
  {
   "cell_type": "code",
   "execution_count": 9,
   "id": "0b6a9855",
   "metadata": {},
   "outputs": [
    {
     "name": "stdout",
     "output_type": "stream",
     "text": [
      "mithun\n"
     ]
    }
   ],
   "source": [
    "# accesing elements in dictionary    \n",
    "d = {1:\"mithun\",2:\"sagar\",3:\"abhijit\",\"narendra\":\"modi\"}\n",
    "print(d[1]) #retrieve value corresponding to key 1"
   ]
  },
  {
   "cell_type": "code",
   "execution_count": 11,
   "id": "48885edf",
   "metadata": {},
   "outputs": [
    {
     "name": "stdout",
     "output_type": "stream",
     "text": [
      "modi\n"
     ]
    }
   ],
   "source": [
    "print(d[\"narendra\"])"
   ]
  },
  {
   "cell_type": "code",
   "execution_count": 12,
   "id": "2970e539",
   "metadata": {},
   "outputs": [
    {
     "ename": "KeyError",
     "evalue": "100",
     "output_type": "error",
     "traceback": [
      "\u001b[1;31m---------------------------------------------------------------------------\u001b[0m",
      "\u001b[1;31mKeyError\u001b[0m                                  Traceback (most recent call last)",
      "Cell \u001b[1;32mIn[12], line 1\u001b[0m\n\u001b[1;32m----> 1\u001b[0m \u001b[38;5;28mprint\u001b[39m(d[\u001b[38;5;241m100\u001b[39m])\n",
      "\u001b[1;31mKeyError\u001b[0m: 100"
     ]
    }
   ],
   "source": [
    "print(d[100])"
   ]
  },
  {
   "cell_type": "code",
   "execution_count": 30,
   "id": "1560c794",
   "metadata": {},
   "outputs": [
    {
     "name": "stdout",
     "output_type": "stream",
     "text": [
      "{1: 'mithun', 2: 'raptan', 'sagar': {100: 'bacher', 200: 'abhijit'}, 'esha': [1, 2, 3, 4, 5]}\n"
     ]
    }
   ],
   "source": [
    "# to avoid getting error, we have another way to accessing the value using get() method\n",
    "D = {1:\"mithun\",2:\"raptan\",\"sagar\":{100:\"bacher\",200:\"abhijit\"},\"esha\":[1,2,3,4,5]}\n",
    "print(D)"
   ]
  },
  {
   "cell_type": "code",
   "execution_count": 31,
   "id": "7f9f197b",
   "metadata": {},
   "outputs": [
    {
     "name": "stdout",
     "output_type": "stream",
     "text": [
      "raptan\n"
     ]
    }
   ],
   "source": [
    "# get() method :we use this method to avoid error if the given key is not pssible, but if returns-->None\n",
    "print(D.get(2))"
   ]
  },
  {
   "cell_type": "code",
   "execution_count": 32,
   "id": "f8cb96b9",
   "metadata": {},
   "outputs": [
    {
     "name": "stdout",
     "output_type": "stream",
     "text": [
      "None\n"
     ]
    }
   ],
   "source": [
    "print(D.get(\"5000\")) #get() method don't give error"
   ]
  },
  {
   "cell_type": "code",
   "execution_count": 36,
   "id": "44be33fc",
   "metadata": {},
   "outputs": [
    {
     "name": "stdout",
     "output_type": "stream",
     "text": [
      "[1, 2, 3, 4, 5]\n"
     ]
    }
   ],
   "source": [
    "print(D.get(\"esha\"))"
   ]
  },
  {
   "cell_type": "code",
   "execution_count": 37,
   "id": "03254b73",
   "metadata": {},
   "outputs": [
    {
     "name": "stdout",
     "output_type": "stream",
     "text": [
      "1\n"
     ]
    }
   ],
   "source": [
    "print(D.get(\"esha\")[0]) #0th index value in list will return"
   ]
  },
  {
   "cell_type": "code",
   "execution_count": 38,
   "id": "9164d99f",
   "metadata": {},
   "outputs": [
    {
     "name": "stdout",
     "output_type": "stream",
     "text": [
      "{100: 'bacher', 200: 'abhijit'}\n"
     ]
    }
   ],
   "source": [
    "#get() method takes two argument also ==> get(key,anything) if key is present then it will print\n",
    "                                                           # the value, otherwise it will print \n",
    "                                                                #'anything'\n",
    "print(D.get(\"sagar\",0)) # if \"sagar\" as a key present then it will print the value\n",
    "                            #else, it will print the 0."
   ]
  },
  {
   "cell_type": "code",
   "execution_count": 41,
   "id": "88edfb89",
   "metadata": {},
   "outputs": [
    {
     "name": "stdout",
     "output_type": "stream",
     "text": [
      "0\n"
     ]
    }
   ],
   "source": [
    "print(D.get(\"devdas\",0)) #'devdas' as a key not present, this is why it will return 0"
   ]
  },
  {
   "cell_type": "code",
   "execution_count": 55,
   "id": "2c8925a2",
   "metadata": {},
   "outputs": [],
   "source": [
    "#keys(), values(), items()\n",
    "#keys()--> this method print the whole keys present inside the dictionary\n",
    "#values()-->this method print the whole values present inside the dictionary\n",
    "#items()--> this method print the whole keys and values present inside the dictionary"
   ]
  },
  {
   "cell_type": "code",
   "execution_count": 56,
   "id": "8fa5b637",
   "metadata": {},
   "outputs": [
    {
     "name": "stdout",
     "output_type": "stream",
     "text": [
      "dict_keys([1, 2, 'sagar', 'esha'])\n"
     ]
    }
   ],
   "source": [
    "print(D.keys())"
   ]
  },
  {
   "cell_type": "code",
   "execution_count": 57,
   "id": "4dd0f3a7",
   "metadata": {},
   "outputs": [
    {
     "name": "stdout",
     "output_type": "stream",
     "text": [
      "dict_values(['mithun', 'raptan', {100: 'bacher', 200: 'abhijit'}, [1, 2, 3, 4, 5]])\n"
     ]
    }
   ],
   "source": [
    "print(D.values())"
   ]
  },
  {
   "cell_type": "code",
   "execution_count": 58,
   "id": "442fbba6",
   "metadata": {},
   "outputs": [
    {
     "name": "stdout",
     "output_type": "stream",
     "text": [
      "dict_items([(1, 'mithun'), (2, 'raptan'), ('sagar', {100: 'bacher', 200: 'abhijit'}), ('esha', [1, 2, 3, 4, 5])])\n"
     ]
    }
   ],
   "source": [
    "print(D.items())"
   ]
  },
  {
   "cell_type": "markdown",
   "id": "72910b0d",
   "metadata": {},
   "source": [
    "iteration on dictionary"
   ]
  },
  {
   "cell_type": "code",
   "execution_count": 61,
   "id": "3c6d0cda",
   "metadata": {},
   "outputs": [
    {
     "name": "stdout",
     "output_type": "stream",
     "text": [
      "mithun\n",
      "sagar\n",
      "abhijit\n",
      "deergha\n"
     ]
    }
   ],
   "source": [
    "d = {1:\"mithun\",2:\"sagar\",3:\"abhijit\",4:\"deergha\"}\n",
    "for x in d: #iterating on keys\n",
    "    print(d[x]) #==>values"
   ]
  },
  {
   "cell_type": "code",
   "execution_count": 62,
   "id": "35ba6465",
   "metadata": {},
   "outputs": [
    {
     "name": "stdout",
     "output_type": "stream",
     "text": [
      "1 mithun\n",
      "2 sagar\n",
      "3 abhijit\n",
      "4 deergha\n"
     ]
    }
   ],
   "source": [
    "for x in d: #iterating on keys\n",
    "    print( x,d[x]) #==>keys values"
   ]
  },
  {
   "cell_type": "code",
   "execution_count": 64,
   "id": "71c62952",
   "metadata": {},
   "outputs": [
    {
     "name": "stdout",
     "output_type": "stream",
     "text": [
      "{1: 'narendra'}\n"
     ]
    }
   ],
   "source": [
    "d = {}\n",
    "d[1]=\"narendra\"\n",
    "print(d)"
   ]
  },
  {
   "cell_type": "code",
   "execution_count": 67,
   "id": "49a20080",
   "metadata": {},
   "outputs": [
    {
     "name": "stdout",
     "output_type": "stream",
     "text": [
      "{1: 'narendra', 2: 'modi'}\n"
     ]
    }
   ],
   "source": [
    "d[2]=\"modi\"\n",
    "print(d)"
   ]
  },
  {
   "cell_type": "code",
   "execution_count": 69,
   "id": "36e81aec",
   "metadata": {},
   "outputs": [
    {
     "name": "stdout",
     "output_type": "stream",
     "text": [
      "{1: 'narendra', 2: 'damodar'}\n"
     ]
    }
   ],
   "source": [
    "d[2] = \"damodar\" # if i give same key then latest value will replace the old value\n",
    "print(d)"
   ]
  },
  {
   "cell_type": "markdown",
   "id": "42a5e974",
   "metadata": {},
   "source": [
    "update() method"
   ]
  },
  {
   "cell_type": "code",
   "execution_count": 79,
   "id": "234e2229",
   "metadata": {},
   "outputs": [],
   "source": [
    "a = {1:\"mithun\",2:\"raptan\",3:\"sagar\",4:\"bacher\"}\n",
    "b = {1:\"sazu\",5:\"raptan\"}\n",
    "a.update(b) #for common pair==>pair in b comes to a"
   ]
  },
  {
   "cell_type": "code",
   "execution_count": 82,
   "id": "07a5392c",
   "metadata": {},
   "outputs": [
    {
     "name": "stdout",
     "output_type": "stream",
     "text": [
      "{1: 'sazu', 2: 'raptan', 3: 'sagar', 4: 'bacher', 5: 'raptan'}\n"
     ]
    }
   ],
   "source": [
    "print(a)"
   ]
  },
  {
   "cell_type": "code",
   "execution_count": 83,
   "id": "db048fd9",
   "metadata": {},
   "outputs": [],
   "source": [
    "#concept clearing program"
   ]
  },
  {
   "cell_type": "code",
   "execution_count": 86,
   "id": "627f1e0b",
   "metadata": {},
   "outputs": [
    {
     "name": "stdout",
     "output_type": "stream",
     "text": [
      "enter a string: mithun is mithun\n",
      "{'mithun': 2, 'is': 1}\n"
     ]
    }
   ],
   "source": [
    "s = input(\"enter a string: \")\n",
    "wordskilist = s.split()\n",
    "d={}\n",
    "for word in wordskilist:\n",
    "    if word in d:\n",
    "        d[word]=d[word]+1\n",
    "    else:\n",
    "        d[word]=1\n",
    "print(d)"
   ]
  },
  {
   "cell_type": "code",
   "execution_count": 90,
   "id": "791d8cb1",
   "metadata": {},
   "outputs": [
    {
     "name": "stdout",
     "output_type": "stream",
     "text": [
      "enter a string: mithun is mithun\n",
      "{'mithun': 2, 'is': 1}\n"
     ]
    }
   ],
   "source": [
    "s=input(\"enter a string: \")\n",
    "wordskilist = s.split()\n",
    "d={}\n",
    "for word in wordskilist:\n",
    "    d[word]=d.get(word,0)+1\n",
    "print(d)"
   ]
  },
  {
   "cell_type": "code",
   "execution_count": 1,
   "id": "9ee6811f",
   "metadata": {},
   "outputs": [
    {
     "name": "stdout",
     "output_type": "stream",
     "text": [
      "True\n"
     ]
    }
   ],
   "source": [
    "# in operator in dictionary\n",
    "# ---> in operator only works with keys\n",
    "d = {1:\"mithun\",\"sagar\":\"bacher\",2:50}\n",
    "print(1 in d) "
   ]
  },
  {
   "cell_type": "code",
   "execution_count": 2,
   "id": "d566b373",
   "metadata": {},
   "outputs": [
    {
     "name": "stdout",
     "output_type": "stream",
     "text": [
      "False\n"
     ]
    }
   ],
   "source": [
    "print(\"bacher\" in d)"
   ]
  },
  {
   "cell_type": "code",
   "execution_count": 4,
   "id": "55c3a575",
   "metadata": {},
   "outputs": [
    {
     "name": "stdout",
     "output_type": "stream",
     "text": [
      "True\n"
     ]
    }
   ],
   "source": [
    "print(\"sagar\" in d)"
   ]
  },
  {
   "cell_type": "code",
   "execution_count": 7,
   "id": "b3b8d28d",
   "metadata": {},
   "outputs": [
    {
     "name": "stdout",
     "output_type": "stream",
     "text": [
      "{2: 200, 3: 300, 4: 400}\n"
     ]
    }
   ],
   "source": [
    "# del --> to delete particular pairs\n",
    "#     -->to delete all pairs and delete the dictionary from memory\n",
    "\n",
    "d = {1:\"mithun\",2:200,3:300,4:400}\n",
    "del d[1]\n",
    "print(d)"
   ]
  },
  {
   "cell_type": "code",
   "execution_count": 9,
   "id": "899f2021",
   "metadata": {},
   "outputs": [
    {
     "ename": "NameError",
     "evalue": "name 'd' is not defined",
     "output_type": "error",
     "traceback": [
      "\u001b[1;31m---------------------------------------------------------------------------\u001b[0m",
      "\u001b[1;31mNameError\u001b[0m                                 Traceback (most recent call last)",
      "Cell \u001b[1;32mIn[9], line 1\u001b[0m\n\u001b[1;32m----> 1\u001b[0m \u001b[38;5;28;01mdel\u001b[39;00m d \u001b[38;5;66;03m#it will delete the whole dictionary from memory\u001b[39;00m\n\u001b[0;32m      2\u001b[0m \u001b[38;5;28mprint\u001b[39m(d)\n",
      "\u001b[1;31mNameError\u001b[0m: name 'd' is not defined"
     ]
    }
   ],
   "source": [
    "del d #it will delete the whole dictionary from memory\n",
    "print(d)"
   ]
  },
  {
   "cell_type": "code",
   "execution_count": 12,
   "id": "df9f7260",
   "metadata": {},
   "outputs": [
    {
     "name": "stdout",
     "output_type": "stream",
     "text": [
      "{}\n"
     ]
    }
   ],
   "source": [
    "# clear() --> it clear the all pairs from dictionary\n",
    "#         --> but it can not clear the dictionary from memory\n",
    "\n",
    "d={1:100,2:200,3:300,4:400}\n",
    "d.clear()\n",
    "print(d)"
   ]
  },
  {
   "cell_type": "code",
   "execution_count": 1,
   "id": "5aa05801",
   "metadata": {},
   "outputs": [
    {
     "name": "stdout",
     "output_type": "stream",
     "text": [
      "{1: 100, 2: 200, 3: 300}\n"
     ]
    }
   ],
   "source": [
    "# pop()--> specific elements to remove krega\n",
    "d={1:100,2:200,3:300,4:400}\n",
    "d.pop(4) #if we to catch the poped value then simply we have to write=> popedValue=d.pop(anyKey)\n",
    "print(d)\n"
   ]
  },
  {
   "cell_type": "code",
   "execution_count": 5,
   "id": "a107d090",
   "metadata": {},
   "outputs": [
    {
     "name": "stdout",
     "output_type": "stream",
     "text": [
      "{1: 'mithun', 2: 'raptan', 3: 'sagar'}\n",
      "(4, 'bacher')\n"
     ]
    }
   ],
   "source": [
    "# popitem()--> randomly kisiko bhi pop korega\n",
    "d={1:\"mithun\",2:\"raptan\",3:\"sagar\",4:\"bacher\"}\n",
    "c=d.popitem() #popitem() return the whole poped pair\n",
    "print(d)\n",
    "print(c)"
   ]
  },
  {
   "cell_type": "code",
   "execution_count": 6,
   "id": "668d85cd",
   "metadata": {},
   "outputs": [
    {
     "name": "stdout",
     "output_type": "stream",
     "text": [
      "4\n"
     ]
    }
   ],
   "source": [
    "d={1:100,2:200,3:300,4:400}\n",
    "print(len(d))"
   ]
  },
  {
   "cell_type": "code",
   "execution_count": null,
   "id": "412724a2",
   "metadata": {},
   "outputs": [],
   "source": []
  }
 ],
 "metadata": {
  "kernelspec": {
   "display_name": "Python 3 (ipykernel)",
   "language": "python",
   "name": "python3"
  },
  "language_info": {
   "codemirror_mode": {
    "name": "ipython",
    "version": 3
   },
   "file_extension": ".py",
   "mimetype": "text/x-python",
   "name": "python",
   "nbconvert_exporter": "python",
   "pygments_lexer": "ipython3",
   "version": "3.11.5"
  }
 },
 "nbformat": 4,
 "nbformat_minor": 5
}
