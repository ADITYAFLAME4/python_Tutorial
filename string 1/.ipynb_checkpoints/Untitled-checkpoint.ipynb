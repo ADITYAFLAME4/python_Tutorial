{
 "cells": [
  {
   "cell_type": "markdown",
   "id": "1dce56b5",
   "metadata": {},
   "source": [
    "# string part 1"
   ]
  },
  {
   "cell_type": "markdown",
   "id": "43fac965",
   "metadata": {},
   "source": [
    "we can write string in these way below"
   ]
  },
  {
   "cell_type": "raw",
   "id": "1ac1ae4e",
   "metadata": {},
   "source": [
    "'my name is mithun raptan'\n",
    "\"this way also we can write string\"\n",
    "'''this way also we can write string'''\n",
    "\"\"\"this way also we can write\"\"\""
   ]
  },
  {
   "cell_type": "code",
   "execution_count": 4,
   "id": "0f575fb8",
   "metadata": {},
   "outputs": [
    {
     "data": {
      "text/plain": [
       "6"
      ]
     },
     "execution_count": 4,
     "metadata": {},
     "output_type": "execute_result"
    }
   ],
   "source": [
    "s = 'mithun'\n",
    "len(s)"
   ]
  },
  {
   "cell_type": "code",
   "execution_count": 5,
   "id": "b4ec32bf",
   "metadata": {},
   "outputs": [
    {
     "name": "stdout",
     "output_type": "stream",
     "text": [
      "0 m\n",
      "1 i\n",
      "2 t\n",
      "3 h\n",
      "4 u\n",
      "5 n\n"
     ]
    }
   ],
   "source": [
    "for i in range(len(s)):\n",
    "    print(i,s[i])"
   ]
  },
  {
   "cell_type": "code",
   "execution_count": 7,
   "id": "a3620286",
   "metadata": {},
   "outputs": [
    {
     "name": "stdout",
     "output_type": "stream",
     "text": [
      "0 -6 m\n",
      "1 -5 i\n",
      "2 -4 t\n",
      "3 -3 h\n",
      "4 -2 u\n",
      "5 -1 n\n"
     ]
    }
   ],
   "source": [
    "for i in range(len(s)):\n",
    "    print(i,(i-len(s)),s[i])"
   ]
  },
  {
   "cell_type": "raw",
   "id": "4540a445",
   "metadata": {},
   "source": [
    "slicing in string\n",
    "s[startindex:endindex:step] ==>if you don't get the step then the default step is 1\n",
    "        startindex to endindex-1  ==> will print"
   ]
  },
  {
   "cell_type": "code",
   "execution_count": null,
   "id": "ca4e898e",
   "metadata": {},
   "outputs": [],
   "source": [
    "#slice operator\n",
    "''' steps can be positive or negative\n",
    "    1)\n",
    "    if it is positive ==> it should be in forward direction\n",
    "    OR left to right within string\n",
    "    and s[begin:end] will slice from begin till end-1 index with specefied steps\n",
    "    2)\n",
    "    if it is negative ==> reverse direction\n",
    "    OR right to left in string\n",
    "    and s[begin:end] will slice from begin till end+1 with specefied steps\n",
    "\n",
    "'''"
   ]
  },
  {
   "cell_type": "code",
   "execution_count": 9,
   "id": "97c13a78",
   "metadata": {},
   "outputs": [],
   "source": [
    "s = \"pankaj sir is best faculty\""
   ]
  },
  {
   "cell_type": "code",
   "execution_count": 10,
   "id": "37528774",
   "metadata": {},
   "outputs": [
    {
     "name": "stdout",
     "output_type": "stream",
     "text": [
      "panka\n"
     ]
    }
   ],
   "source": [
    "print(s[0:5])\n"
   ]
  },
  {
   "cell_type": "code",
   "execution_count": 12,
   "id": "4d460bf6",
   "metadata": {},
   "outputs": [
    {
     "name": "stdout",
     "output_type": "stream",
     "text": [
      "pna\n"
     ]
    }
   ],
   "source": [
    "print(s[0:5:2]) #==>0,2,4\n",
    "                   # pna"
   ]
  },
  {
   "cell_type": "code",
   "execution_count": 15,
   "id": "7d0f6ac8",
   "metadata": {},
   "outputs": [
    {
     "name": "stdout",
     "output_type": "stream",
     "text": [
      "pank\n"
     ]
    }
   ],
   "source": [
    "print(s[ : 4])"
   ]
  },
  {
   "cell_type": "code",
   "execution_count": 16,
   "id": "ca418caa",
   "metadata": {},
   "outputs": [
    {
     "name": "stdout",
     "output_type": "stream",
     "text": [
      "ankaj sir is best faculty\n"
     ]
    }
   ],
   "source": [
    "print(s[1:])"
   ]
  },
  {
   "cell_type": "raw",
   "id": "e1981340",
   "metadata": {},
   "source": [
    "negative indexing is also possible\n",
    "   +ve index =>    0  1  2  3  4  5  6\n",
    "   -ve indexing=> -7 -6 -5 -4 -3 -2 -1"
   ]
  },
  {
   "cell_type": "code",
   "execution_count": 17,
   "id": "d7ae01b9",
   "metadata": {},
   "outputs": [
    {
     "name": "stdout",
     "output_type": "stream",
     "text": [
      "pankaj sir is best faculty\n"
     ]
    }
   ],
   "source": [
    "print(s)"
   ]
  },
  {
   "cell_type": "code",
   "execution_count": 21,
   "id": "23646067",
   "metadata": {},
   "outputs": [
    {
     "data": {
      "text/plain": [
       "26"
      ]
     },
     "execution_count": 21,
     "metadata": {},
     "output_type": "execute_result"
    }
   ],
   "source": [
    "len(s)\n"
   ]
  },
  {
   "cell_type": "code",
   "execution_count": 24,
   "id": "137e9b8a",
   "metadata": {},
   "outputs": [
    {
     "name": "stdout",
     "output_type": "stream",
     "text": [
      "tl\n"
     ]
    }
   ],
   "source": [
    "print(s[-2:-4:-1]) #-1 indicates backward direction"
   ]
  },
  {
   "cell_type": "raw",
   "id": "25115403",
   "metadata": {},
   "source": [
    "reverse of a string using indexing"
   ]
  },
  {
   "cell_type": "code",
   "execution_count": 26,
   "id": "a5c21b6a",
   "metadata": {},
   "outputs": [
    {
     "name": "stdout",
     "output_type": "stream",
     "text": [
      "nuhtim\n"
     ]
    }
   ],
   "source": [
    "s=\"mithun\"\n",
    "print(s[::-1])  #-1 indicates reverse "
   ]
  },
  {
   "cell_type": "raw",
   "id": "553a7cc9",
   "metadata": {},
   "source": [
    "comparison of string"
   ]
  },
  {
   "cell_type": "code",
   "execution_count": 27,
   "id": "96a99483",
   "metadata": {},
   "outputs": [
    {
     "name": "stdout",
     "output_type": "stream",
     "text": [
      "False\n"
     ]
    }
   ],
   "source": [
    "s=\"mithun\"\n",
    "s1=\"sazu\"\n",
    "print(s>s1) #False ==> in dictionary 's' comes after 'm'"
   ]
  },
  {
   "cell_type": "code",
   "execution_count": 28,
   "id": "80e0d9cc",
   "metadata": {},
   "outputs": [
    {
     "name": "stdout",
     "output_type": "stream",
     "text": [
      "True\n"
     ]
    }
   ],
   "source": [
    "s = \"ram\"\n",
    "s1 = \"rabon\"\n",
    "print(s>s1) #r=r,a=a, m>b ('m' comes after 'b' in dictionary)"
   ]
  },
  {
   "cell_type": "code",
   "execution_count": 30,
   "id": "c853aa18",
   "metadata": {},
   "outputs": [
    {
     "name": "stdout",
     "output_type": "stream",
     "text": [
      "False\n"
     ]
    }
   ],
   "source": [
    "s = \"ABCD\"\n",
    "s1 = \"abcd\"\n",
    "print(s>s1) # its confirm that 'A' value is less that 'a' value"
   ]
  },
  {
   "cell_type": "raw",
   "id": "c240743d",
   "metadata": {},
   "source": [
    "removing space form string\n",
    "# lstrip()==>remove space from beginning\n",
    "# rstrip()==>remove space from end\n",
    "# strip()==>remove space from both sides"
   ]
  },
  {
   "cell_type": "code",
   "execution_count": 44,
   "id": "6ac96755",
   "metadata": {},
   "outputs": [
    {
     "name": "stdout",
     "output_type": "stream",
     "text": [
      "   pankaj sir is best faculty\n",
      "pankaj sir is best faculty\n"
     ]
    }
   ],
   "source": [
    "s = \"   pankaj sir is best faculty\"\n",
    "print(s)\n",
    "print(s.lstrip()) #it removes the space from left side of a given string"
   ]
  },
  {
   "cell_type": "code",
   "execution_count": 45,
   "id": "80283426",
   "metadata": {},
   "outputs": [
    {
     "name": "stdout",
     "output_type": "stream",
     "text": [
      "31\n",
      "26\n"
     ]
    }
   ],
   "source": [
    "s = \"pankaj sir is best faculty     \"\n",
    "print(len(s))\n",
    "m = s.rstrip()\n",
    "print(len(m))"
   ]
  },
  {
   "cell_type": "code",
   "execution_count": 46,
   "id": "00c32088",
   "metadata": {},
   "outputs": [
    {
     "name": "stdout",
     "output_type": "stream",
     "text": [
      "33\n",
      "26\n"
     ]
    }
   ],
   "source": [
    "s = \"  pankaj sir is best faculty     \"\n",
    "print(len(s))\n",
    "m = s.strip()\n",
    "print(len(m))"
   ]
  },
  {
   "cell_type": "raw",
   "id": "2852b438",
   "metadata": {},
   "source": [
    "string concatenation ==>addition"
   ]
  },
  {
   "cell_type": "code",
   "execution_count": 47,
   "id": "cb18781c",
   "metadata": {},
   "outputs": [
    {
     "data": {
      "text/plain": [
       "'pankajsharmasir'"
      ]
     },
     "execution_count": 47,
     "metadata": {},
     "output_type": "execute_result"
    }
   ],
   "source": [
    "'pankaj'+\"sharma\"+'sir'"
   ]
  },
  {
   "cell_type": "raw",
   "id": "e036d423",
   "metadata": {},
   "source": [
    "string multiplication==>repeatition"
   ]
  },
  {
   "cell_type": "code",
   "execution_count": 48,
   "id": "56e91f16",
   "metadata": {},
   "outputs": [
    {
     "data": {
      "text/plain": [
       "'mithunmithunmithun'"
      ]
     },
     "execution_count": 48,
     "metadata": {},
     "output_type": "execute_result"
    }
   ],
   "source": [
    "\"mithun\"*3"
   ]
  },
  {
   "cell_type": "raw",
   "id": "25ec55fd",
   "metadata": {},
   "source": [
    "thodasa halka patla programming in string"
   ]
  },
  {
   "cell_type": "code",
   "execution_count": 49,
   "id": "d272acfc",
   "metadata": {},
   "outputs": [
    {
     "name": "stdout",
     "output_type": "stream",
     "text": [
      "m\n",
      "i\n",
      "t\n",
      "h\n",
      "u\n",
      "n\n"
     ]
    }
   ],
   "source": [
    "s=\"mithun\"\n",
    "for i in range(len(s)):\n",
    "    print(s[i])"
   ]
  },
  {
   "cell_type": "code",
   "execution_count": 1,
   "id": "62d242b7",
   "metadata": {},
   "outputs": [
    {
     "name": "stdout",
     "output_type": "stream",
     "text": [
      "m\n",
      "i\n",
      "t\n",
      "h\n",
      "u\n",
      "n\n"
     ]
    }
   ],
   "source": [
    "s=\"mithun\"\n",
    "for i in s:\n",
    "    print(i)\n",
    "    "
   ]
  },
  {
   "cell_type": "code",
   "execution_count": 58,
   "id": "6d05d382",
   "metadata": {},
   "outputs": [
    {
     "name": "stdout",
     "output_type": "stream",
     "text": [
      "n\n",
      "u\n",
      "h\n",
      "t\n",
      "i\n",
      "m\n"
     ]
    }
   ],
   "source": [
    "s=\"mithun\"\n",
    "for i in s[::-1]:\n",
    "    print(i)\n",
    "    "
   ]
  },
  {
   "cell_type": "raw",
   "id": "8d0d6e1d",
   "metadata": {},
   "source": [
    "# finding word from sentence"
   ]
  },
  {
   "cell_type": "code",
   "execution_count": 59,
   "id": "52d9dff5",
   "metadata": {},
   "outputs": [
    {
     "name": "stdout",
     "output_type": "stream",
     "text": [
      "True\n"
     ]
    }
   ],
   "source": [
    "#membership operator==>in\n",
    "                    #to find whether a substring is present or not, we have this built in function\n",
    "s=\"mithun raptan is studying engineering\"\n",
    "print(\"is\" in s)"
   ]
  },
  {
   "cell_type": "code",
   "execution_count": 61,
   "id": "9f619346",
   "metadata": {},
   "outputs": [
    {
     "name": "stdout",
     "output_type": "stream",
     "text": [
      "enter the whole sentence or paste the copying sentence: pankaj sir is a good roaster but sir dont know about his hidden talent\n",
      "enter the you want to find from the entire sentence: hidden\n",
      "YES, the word is present\n"
     ]
    }
   ],
   "source": [
    "p = input(\"enter the whole sentence or paste the copying sentence: \")\n",
    "t = input(\"enter the you want to find from the entire sentence: \")\n",
    "if t in p:\n",
    "    print(\"YES, the word is present\")\n",
    "else:\n",
    "    print(\"NO, the word is not present\")"
   ]
  },
  {
   "cell_type": "raw",
   "id": "07877a39",
   "metadata": {},
   "source": [
    "#palindrome in string ==>if the reverse of the string is equals to the original string then then it is calles palindrome"
   ]
  },
  {
   "cell_type": "code",
   "execution_count": 3,
   "id": "fc11e594",
   "metadata": {},
   "outputs": [
    {
     "name": "stdout",
     "output_type": "stream",
     "text": [
      "palindrome hai\n"
     ]
    }
   ],
   "source": [
    "s=\"malayalam\"\n",
    "if s==s[::-1]:\n",
    "    print(\"palindrome hai\")\n",
    "else:\n",
    "    print(\"palindrome nhi hai\")"
   ]
  },
  {
   "cell_type": "code",
   "execution_count": 10,
   "id": "bf290c68",
   "metadata": {},
   "outputs": [
    {
     "name": "stdout",
     "output_type": "stream",
     "text": [
      "enter the word to check palindrome or not: jahaj\n",
      "palindrome hai\n"
     ]
    }
   ],
   "source": [
    "s=input(\"enter the word to check palindrome or not: \")\n",
    "if s==s[::-1]:\n",
    "    print(\"palindrome hai\")\n",
    "else:\n",
    "    print(\"palindrome nhi hai\")"
   ]
  }
 ],
 "metadata": {
  "kernelspec": {
   "display_name": "Python 3 (ipykernel)",
   "language": "python",
   "name": "python3"
  },
  "language_info": {
   "codemirror_mode": {
    "name": "ipython",
    "version": 3
   },
   "file_extension": ".py",
   "mimetype": "text/x-python",
   "name": "python",
   "nbconvert_exporter": "python",
   "pygments_lexer": "ipython3",
   "version": "3.11.5"
  }
 },
 "nbformat": 4,
 "nbformat_minor": 5
}
