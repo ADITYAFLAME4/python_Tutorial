{
 "cells": [
  {
   "cell_type": "markdown",
   "id": "cf06c5c9",
   "metadata": {},
   "source": [
    "# list datatype 1"
   ]
  },
  {
   "cell_type": "raw",
   "id": "871cb1bc",
   "metadata": {},
   "source": [
    "list \n",
    "    #duplicate allowed\n",
    "    #order preserved  # means indexing allowed  # indexing allowed then slicing possible\n",
    "    #mutable\n",
    "    #heterogenous"
   ]
  },
  {
   "cell_type": "code",
   "execution_count": 1,
   "id": "c4291eb2",
   "metadata": {},
   "outputs": [],
   "source": [
    "#there are multiple ways to creating list in python"
   ]
  },
  {
   "cell_type": "code",
   "execution_count": 3,
   "id": "7d5e6b8c",
   "metadata": {},
   "outputs": [
    {
     "name": "stdout",
     "output_type": "stream",
     "text": [
      "<class 'list'>\n",
      "<class 'list'>\n"
     ]
    }
   ],
   "source": [
    "#creating empty list\n",
    "l =[]\n",
    "print(type(l))\n",
    "l1 = list()\n",
    "print(type(l1))"
   ]
  },
  {
   "cell_type": "code",
   "execution_count": 17,
   "id": "498ce773",
   "metadata": {},
   "outputs": [
    {
     "name": "stdout",
     "output_type": "stream",
     "text": [
      "[2, 3, 4, 1, 'mithun']\n"
     ]
    }
   ],
   "source": [
    "# we can directly create list\n",
    "l=[2,3,4,1,\"mithun\"]\n",
    "print(l)"
   ]
  },
  {
   "cell_type": "code",
   "execution_count": 6,
   "id": "aa0ffc0a",
   "metadata": {},
   "outputs": [
    {
     "name": "stdout",
     "output_type": "stream",
     "text": [
      "use syntax for each datatype: []\n"
     ]
    },
    {
     "data": {
      "text/plain": [
       "list"
      ]
     },
     "execution_count": 6,
     "metadata": {},
     "output_type": "execute_result"
    }
   ],
   "source": [
    "#creating list using eval function\n",
    "l=eval(input(\"use syntax for each datatype: \"))\n",
    "type(l)"
   ]
  },
  {
   "cell_type": "code",
   "execution_count": 8,
   "id": "3f018d19",
   "metadata": {},
   "outputs": [
    {
     "name": "stdout",
     "output_type": "stream",
     "text": [
      "use syntax for each datatype: [2,3,2,1,4,5,6,3]\n",
      "<class 'list'>\n",
      "[2, 3, 2, 1, 4, 5, 6, 3]\n"
     ]
    }
   ],
   "source": [
    "#we can put element inside from users through eval function too \n",
    "l=eval(input(\"use syntax for each datatype: \"))\n",
    "print(type(l))\n",
    "print(l)"
   ]
  },
  {
   "cell_type": "code",
   "execution_count": 5,
   "id": "fee1f3c8",
   "metadata": {},
   "outputs": [
    {
     "name": "stdout",
     "output_type": "stream",
     "text": [
      "[0, 1, 2, 3, 4, 5]\n"
     ]
    }
   ],
   "source": [
    "l = list(range(6))\n",
    "print(l)"
   ]
  },
  {
   "cell_type": "code",
   "execution_count": 4,
   "id": "5514191b",
   "metadata": {},
   "outputs": [
    {
     "name": "stdout",
     "output_type": "stream",
     "text": [
      "[1, 2, 3, 4, 5]\n"
     ]
    }
   ],
   "source": [
    "l = list(range(1,6))\n",
    "print(l)"
   ]
  },
  {
   "cell_type": "code",
   "execution_count": 16,
   "id": "8553f5f8",
   "metadata": {},
   "outputs": [
    {
     "name": "stdout",
     "output_type": "stream",
     "text": [
      "[1, 2, 3, 4]\n"
     ]
    }
   ],
   "source": [
    "l=[]\n",
    "for i in range(1,5):\n",
    "    l.append(i)\n",
    "print(l)\n",
    "  "
   ]
  },
  {
   "cell_type": "raw",
   "id": "a97aeab8",
   "metadata": {},
   "source": [
    "some concept clearing program"
   ]
  },
  {
   "cell_type": "raw",
   "id": "08e60671",
   "metadata": {},
   "source": [
    "taking a space separated sequesnce integer from user "
   ]
  },
  {
   "cell_type": "code",
   "execution_count": 7,
   "id": "d2ec3c37",
   "metadata": {},
   "outputs": [
    {
     "name": "stdout",
     "output_type": "stream",
     "text": [
      "give number using space as a separator: 1 2 3\n",
      "['1', '2', '3']\n",
      "<class 'str'>\n"
     ]
    }
   ],
   "source": [
    "s = input(\"give number using space as a separator: \")\n",
    "l = s.split() #==>list of numbers but string fromat list\n",
    "print(l)\n",
    "print(type(l[0])) # gives string "
   ]
  },
  {
   "cell_type": "code",
   "execution_count": 26,
   "id": "349d452e",
   "metadata": {},
   "outputs": [
    {
     "name": "stdout",
     "output_type": "stream",
     "text": [
      "give number using space as a separator: 3 4 5 6\n",
      "[3, 4, 5, 6]\n",
      "<class 'int'>\n"
     ]
    }
   ],
   "source": [
    "s = input(\"give number using space as a separator: \")\n",
    "e =[]\n",
    "l = s.split() #==>list of numbers but string fromat list\n",
    "for i in l:\n",
    "    e.append(int(i)) #string type will convert into int type\n",
    "print(e)\n",
    "print(type(e[0])) # it will return the element type as int\n",
    "    "
   ]
  },
  {
   "cell_type": "code",
   "execution_count": 28,
   "id": "1ed8a900",
   "metadata": {},
   "outputs": [
    {
     "name": "stdout",
     "output_type": "stream",
     "text": [
      "enter the total elements you want in your list: 4\n",
      "enter list element: 4\n",
      "enter list element: 3\n",
      "enter list element: 2\n",
      "enter list element: 6\n",
      "[4, 3, 2, 6]\n"
     ]
    }
   ],
   "source": [
    "n = int(input(\"enter the total elements you want in your list: \"))\n",
    "l=[]\n",
    "for i in range(n):\n",
    "    l.append(int(input(\"enter list element: \")))\n",
    "print(l)\n",
    "    "
   ]
  },
  {
   "cell_type": "raw",
   "id": "6a493d59",
   "metadata": {},
   "source": [
    "list comprehension"
   ]
  },
  {
   "cell_type": "code",
   "execution_count": 29,
   "id": "7505cc9d",
   "metadata": {},
   "outputs": [
    {
     "name": "stdout",
     "output_type": "stream",
     "text": [
      "[0, 0, 0, 0, 0]\n"
     ]
    }
   ],
   "source": [
    "l = [  0   for i in range(5)]  # easiest way to create list using range function\n",
    "                                # it means 5 times zero(0) list me add hoga.\n",
    "print(l)"
   ]
  },
  {
   "cell_type": "code",
   "execution_count": 30,
   "id": "9eb1b90a",
   "metadata": {},
   "outputs": [
    {
     "name": "stdout",
     "output_type": "stream",
     "text": [
      "[0, 1, 2, 3, 4]\n"
     ]
    }
   ],
   "source": [
    "l = [   i    for i in range(5)]\n",
    "print(l)"
   ]
  },
  {
   "cell_type": "code",
   "execution_count": 34,
   "id": "1fbacfdd",
   "metadata": {},
   "outputs": [
    {
     "name": "stdout",
     "output_type": "stream",
     "text": [
      "enter number: 4\n",
      "[0, 1, 2, 3]\n"
     ]
    }
   ],
   "source": [
    "n = int(input(\"enter number: \"))\n",
    "l = [ i      for i in range(n)]\n",
    "print(l)"
   ]
  },
  {
   "cell_type": "code",
   "execution_count": 35,
   "id": "0643c619",
   "metadata": {},
   "outputs": [
    {
     "name": "stdout",
     "output_type": "stream",
     "text": [
      "enter number: 5\n",
      "[0, 2, 4, 6, 8]\n"
     ]
    }
   ],
   "source": [
    "n = int(input(\"enter number: \"))\n",
    "l = [ 2*i      for i in range(n)]\n",
    "print(l)"
   ]
  },
  {
   "cell_type": "code",
   "execution_count": 36,
   "id": "e7217cba",
   "metadata": {},
   "outputs": [
    {
     "name": "stdout",
     "output_type": "stream",
     "text": [
      "enter number: 5\n",
      "[2, 3, 4, 5, 6]\n"
     ]
    }
   ],
   "source": [
    "n = int(input(\"enter number: \"))\n",
    "l = [ 2+i      for i in range(n)]\n",
    "print(l)"
   ]
  },
  {
   "cell_type": "code",
   "execution_count": 37,
   "id": "cd2aeb0d",
   "metadata": {},
   "outputs": [
    {
     "name": "stdout",
     "output_type": "stream",
     "text": [
      "enter number: 5\n",
      "[0, 1, 4, 9, 16]\n"
     ]
    }
   ],
   "source": [
    "n = int(input(\"enter number: \"))\n",
    "l = [ i*i      for i in range(n)]\n",
    "print(l)"
   ]
  },
  {
   "cell_type": "code",
   "execution_count": 40,
   "id": "e887da77",
   "metadata": {},
   "outputs": [
    {
     "name": "stdout",
     "output_type": "stream",
     "text": [
      "[100, 34, 'pankaj']\n"
     ]
    }
   ],
   "source": [
    "#append() function is used to insert at the end of the list\n",
    "l=[]\n",
    "l.append(100)\n",
    "l.append(34)\n",
    "l.append(\"pankaj\")\n",
    "print(l)"
   ]
  },
  {
   "cell_type": "code",
   "execution_count": 9,
   "id": "f9e04cb8",
   "metadata": {},
   "outputs": [
    {
     "name": "stdout",
     "output_type": "stream",
     "text": [
      "['raptan', 1, 2, 3, 'mithun']\n"
     ]
    }
   ],
   "source": [
    "#insert() function is used to insert an element starting of the list\n",
    "  # insert(index,element) => takes 2 argument in it   one in index no   and another is adding element\n",
    "l=[1,2,3,\"mithun\"]\n",
    "l.insert(0,\"raptan\")\n",
    "print(l)\n"
   ]
  },
  {
   "cell_type": "code",
   "execution_count": 10,
   "id": "09720163",
   "metadata": {},
   "outputs": [
    {
     "data": {
      "text/plain": [
       "['raptan', 1, 2, 200, 3, 'mithun']"
      ]
     },
     "execution_count": 10,
     "metadata": {},
     "output_type": "execute_result"
    }
   ],
   "source": [
    "l.insert(3,200)\n",
    "l"
   ]
  },
  {
   "cell_type": "code",
   "execution_count": 11,
   "id": "ffcea753",
   "metadata": {},
   "outputs": [
    {
     "data": {
      "text/plain": [
       "['raptan', 1, 2, 200, 3, 'mithun', 50000]"
      ]
     },
     "execution_count": 11,
     "metadata": {},
     "output_type": "execute_result"
    }
   ],
   "source": [
    "l.insert(50,50000)  # 50=> largest index possible    #50000 will be added at last of the string\n",
    "l"
   ]
  },
  {
   "cell_type": "raw",
   "id": "852e1212",
   "metadata": {},
   "source": [
    "remove(argument) => to remove specified element in the list, remove() takes one argument which is to be delete\n",
    "pop()  => empty pop() is used to remove an element at the end of the list\n",
    "pop(index)  => index no element to be delete \n",
    "    #pop() return the deleted element , if we wanr then we can store that deleted element inside a variable"
   ]
  },
  {
   "cell_type": "code",
   "execution_count": 30,
   "id": "64366dc7",
   "metadata": {},
   "outputs": [
    {
     "ename": "TypeError",
     "evalue": "list.remove() takes exactly one argument (0 given)",
     "output_type": "error",
     "traceback": [
      "\u001b[1;31m---------------------------------------------------------------------------\u001b[0m",
      "\u001b[1;31mTypeError\u001b[0m                                 Traceback (most recent call last)",
      "Cell \u001b[1;32mIn[30], line 2\u001b[0m\n\u001b[0;32m      1\u001b[0m l\u001b[38;5;241m=\u001b[39m[\u001b[38;5;124m'\u001b[39m\u001b[38;5;124mraptan\u001b[39m\u001b[38;5;124m'\u001b[39m, \u001b[38;5;241m1\u001b[39m, \u001b[38;5;241m2\u001b[39m, \u001b[38;5;241m200\u001b[39m, \u001b[38;5;241m3\u001b[39m, \u001b[38;5;124m'\u001b[39m\u001b[38;5;124mmithun\u001b[39m\u001b[38;5;124m'\u001b[39m]\n\u001b[1;32m----> 2\u001b[0m l\u001b[38;5;241m.\u001b[39mremove() \u001b[38;5;66;03m# error, cuz remove function takes one argument\u001b[39;00m\n\u001b[0;32m      3\u001b[0m l\n",
      "\u001b[1;31mTypeError\u001b[0m: list.remove() takes exactly one argument (0 given)"
     ]
    }
   ],
   "source": [
    "l=['raptan', 1, 2, 200, 3, 'mithun']\n",
    "l.remove() # error, cuz remove function takes one argument\n",
    "l"
   ]
  },
  {
   "cell_type": "code",
   "execution_count": 12,
   "id": "d1be79b0",
   "metadata": {},
   "outputs": [
    {
     "data": {
      "text/plain": [
       "['raptan', 1, 2, 3, 'mithun']"
      ]
     },
     "execution_count": 12,
     "metadata": {},
     "output_type": "execute_result"
    }
   ],
   "source": [
    "l=['raptan', 1, 2, 200, 3, 'mithun']\n",
    "l.remove(200)\n",
    "l"
   ]
  },
  {
   "cell_type": "code",
   "execution_count": 12,
   "id": "27fe0d08",
   "metadata": {},
   "outputs": [
    {
     "ename": "AttributeError",
     "evalue": "'list' object has no attribute 'add'",
     "output_type": "error",
     "traceback": [
      "\u001b[1;31m---------------------------------------------------------------------------\u001b[0m",
      "\u001b[1;31mAttributeError\u001b[0m                            Traceback (most recent call last)",
      "Cell \u001b[1;32mIn[12], line 2\u001b[0m\n\u001b[0;32m      1\u001b[0m l \u001b[38;5;241m=\u001b[39m [\u001b[38;5;241m1\u001b[39m,\u001b[38;5;241m2\u001b[39m,\u001b[38;5;241m3\u001b[39m,\u001b[38;5;241m4\u001b[39m]\n\u001b[1;32m----> 2\u001b[0m l\u001b[38;5;241m.\u001b[39madd(\u001b[38;5;241m15\u001b[39m)\n\u001b[0;32m      3\u001b[0m \u001b[38;5;28mprint\u001b[39m(l)\n",
      "\u001b[1;31mAttributeError\u001b[0m: 'list' object has no attribute 'add'"
     ]
    }
   ],
   "source": [
    "l = [1,2,3,4]\n",
    "l.add(15)\n",
    "print(l)"
   ]
  },
  {
   "cell_type": "code",
   "execution_count": 23,
   "id": "f5370d2d",
   "metadata": {},
   "outputs": [
    {
     "name": "stdout",
     "output_type": "stream",
     "text": [
      "the id of a is 2302207166720\n",
      "the id of b is 2302207170880\n",
      "[1, 2, 3, 4, 5, 6, 7, 8]\n",
      "updated a but id is previous 2302207166720\n",
      "still b id is 2302207170880\n"
     ]
    }
   ],
   "source": [
    "a = [1,2,3,4]\n",
    "print(\"the id of a is\",id(a))\n",
    "b = [5,6,7,8]\n",
    "print(\"the id of b is\",id(b))\n",
    "a.extend(b)  # a er sathe b ko extend koro\n",
    "print(a)\n",
    "print(\"updated a but id is previous\",id(a))\n",
    "print(\"still b id is\",id(b))\n",
    "\n",
    "\n"
   ]
  },
  {
   "cell_type": "markdown",
   "id": "cf2e76db",
   "metadata": {},
   "source": [
    "pop() function"
   ]
  },
  {
   "cell_type": "code",
   "execution_count": 11,
   "id": "5dcdeac3",
   "metadata": {},
   "outputs": [
    {
     "name": "stdout",
     "output_type": "stream",
     "text": [
      "4\n",
      "[1, 2, 3]\n"
     ]
    }
   ],
   "source": [
    "a = [1,2,3,4]\n",
    "b = a.pop()  # empty pop() => last element delete\n",
    "print(b)\n",
    "print(a)"
   ]
  },
  {
   "cell_type": "code",
   "execution_count": 32,
   "id": "90422451",
   "metadata": {},
   "outputs": [
    {
     "data": {
      "text/plain": [
       "[1, 2, 4]"
      ]
     },
     "execution_count": 32,
     "metadata": {},
     "output_type": "execute_result"
    }
   ],
   "source": [
    "a = [1,2,3,4]\n",
    "a.pop(2) # 2 index no element deleted => [1,2,4]\n",
    "a"
   ]
  },
  {
   "cell_type": "code",
   "execution_count": 9,
   "id": "7d325801",
   "metadata": {},
   "outputs": [
    {
     "name": "stdout",
     "output_type": "stream",
     "text": [
      "3\n",
      "[1, 2, 4]\n"
     ]
    }
   ],
   "source": [
    "l = [1,2,3,4]\n",
    "popped_element = l.pop(2)\n",
    "print(popped_element)\n",
    "print(l)"
   ]
  },
  {
   "cell_type": "raw",
   "id": "80ce792e",
   "metadata": {},
   "source": [
    "None keyward => None means nothing . exactly same meaning in coding also"
   ]
  },
  {
   "cell_type": "code",
   "execution_count": 36,
   "id": "df2950c9",
   "metadata": {},
   "outputs": [],
   "source": [
    "a = [1,2,3,4]\n",
    "a=None\n",
    "a"
   ]
  },
  {
   "cell_type": "raw",
   "id": "3d9dd725",
   "metadata": {},
   "source": [
    "index(element) => return the elements index"
   ]
  },
  {
   "cell_type": "code",
   "execution_count": 17,
   "id": "0fdb38f1",
   "metadata": {},
   "outputs": [
    {
     "name": "stdout",
     "output_type": "stream",
     "text": [
      "0\n"
     ]
    }
   ],
   "source": [
    "a = [1,2,3,4]\n",
    "print(a.index(1))"
   ]
  },
  {
   "cell_type": "code",
   "execution_count": 22,
   "id": "4a9cec49",
   "metadata": {},
   "outputs": [
    {
     "name": "stdout",
     "output_type": "stream",
     "text": [
      "0\n"
     ]
    }
   ],
   "source": [
    "a = [1,2,3,4]\n",
    "b= a.index(1)\n",
    "print(b)\n"
   ]
  },
  {
   "cell_type": "raw",
   "id": "3570dd8e",
   "metadata": {},
   "source": [
    "reverse() => use to reverse the list element"
   ]
  },
  {
   "cell_type": "code",
   "execution_count": 15,
   "id": "6acaad57",
   "metadata": {},
   "outputs": [
    {
     "name": "stdout",
     "output_type": "stream",
     "text": [
      "1520153392320\n",
      "['raptan', 4, 2, 3, 1, 'mithun']\n",
      "1520153392320\n"
     ]
    }
   ],
   "source": [
    "a = [\"mithun\",1,3,2,4,\"raptan\"]\n",
    "print(id(a))\n",
    "a.reverse()\n",
    "print(a)\n",
    "print(id(a)) #same id, cuz list is mutable"
   ]
  },
  {
   "cell_type": "raw",
   "id": "98649a70",
   "metadata": {},
   "source": [
    "sort() => used to sort the element in the list\n",
    "            "
   ]
  },
  {
   "cell_type": "code",
   "execution_count": 58,
   "id": "c1421e4f",
   "metadata": {},
   "outputs": [
    {
     "data": {
      "text/plain": [
       "[1, 2, 3, 3, 4, 6, 8, 56]"
      ]
     },
     "execution_count": 58,
     "metadata": {},
     "output_type": "execute_result"
    }
   ],
   "source": [
    "a = [2,3,1,6,8,3,4,56]\n",
    "a.sort()\n",
    "a\n"
   ]
  },
  {
   "cell_type": "code",
   "execution_count": 64,
   "id": "a016501a",
   "metadata": {},
   "outputs": [
    {
     "name": "stdout",
     "output_type": "stream",
     "text": [
      "[1, 2, 3, 3, 4, 6, 8, 56]\n",
      "[56, 8, 6, 4, 3, 3, 2, 1]\n"
     ]
    }
   ],
   "source": [
    "a = [2,3,1,6,8,3,4,56]\n",
    "a.sort()  # sorting hobe\n",
    "print(a)\n",
    "a.reverse() #sorting element reverse hbe\n",
    "print(a)\n"
   ]
  },
  {
   "cell_type": "code",
   "execution_count": 68,
   "id": "1aee307c",
   "metadata": {},
   "outputs": [
    {
     "name": "stdout",
     "output_type": "stream",
     "text": [
      "[56, 8, 6, 4, 3, 3, 2, 1]\n"
     ]
    }
   ],
   "source": [
    "a = [2,3,1,6,8,3,4,56]\n",
    "a.sort(reverse=True)  # sort hone ka baad reverse hojayega aksath\n",
    "print(a)"
   ]
  },
  {
   "cell_type": "code",
   "execution_count": 27,
   "id": "ed1966e4",
   "metadata": {},
   "outputs": [
    {
     "ename": "TypeError",
     "evalue": "'<' not supported between instances of 'str' and 'int'",
     "output_type": "error",
     "traceback": [
      "\u001b[1;31m---------------------------------------------------------------------------\u001b[0m",
      "\u001b[1;31mTypeError\u001b[0m                                 Traceback (most recent call last)",
      "Cell \u001b[1;32mIn[27], line 2\u001b[0m\n\u001b[0;32m      1\u001b[0m a \u001b[38;5;241m=\u001b[39m [\u001b[38;5;241m2\u001b[39m,\u001b[38;5;241m3\u001b[39m,\u001b[38;5;241m1\u001b[39m,\u001b[38;5;241m6\u001b[39m,\u001b[38;5;241m8\u001b[39m,\u001b[38;5;241m3\u001b[39m,\u001b[38;5;241m4\u001b[39m,\u001b[38;5;241m56\u001b[39m,\u001b[38;5;124m\"\u001b[39m\u001b[38;5;124mmithun\u001b[39m\u001b[38;5;124m\"\u001b[39m]\n\u001b[1;32m----> 2\u001b[0m a\u001b[38;5;241m.\u001b[39msort()  \u001b[38;5;66;03m# sorting hobe\u001b[39;00m\n\u001b[0;32m      3\u001b[0m \u001b[38;5;28mprint\u001b[39m(a)\n",
      "\u001b[1;31mTypeError\u001b[0m: '<' not supported between instances of 'str' and 'int'"
     ]
    }
   ],
   "source": [
    "a = [2,3,1,6,8,3,4,56,\"mithun\"]\n",
    "a.sort()  # sorting hobe\n",
    "print(a)"
   ]
  },
  {
   "cell_type": "markdown",
   "id": "4e67d419",
   "metadata": {},
   "source": [
    "copy()=> copy the entire list"
   ]
  },
  {
   "cell_type": "code",
   "execution_count": 1,
   "id": "ce3025e4",
   "metadata": {},
   "outputs": [
    {
     "name": "stdout",
     "output_type": "stream",
     "text": [
      "[2, 3, 1, 6, 8, 3, 4, 56]\n"
     ]
    }
   ],
   "source": [
    "a = [2,3,1,6,8,3,4,56]\n",
    "b = a.copy()\n",
    "print(b)"
   ]
  },
  {
   "cell_type": "code",
   "execution_count": 2,
   "id": "fc857b65",
   "metadata": {},
   "outputs": [
    {
     "name": "stdout",
     "output_type": "stream",
     "text": [
      "True\n"
     ]
    }
   ],
   "source": [
    "a = [\"apple\",\"banana\",\"cherry\"]\n",
    "b = \"banana\" in a\n",
    "print(b)"
   ]
  },
  {
   "cell_type": "code",
   "execution_count": null,
   "id": "835aae1e",
   "metadata": {},
   "outputs": [],
   "source": []
  }
 ],
 "metadata": {
  "kernelspec": {
   "display_name": "Python 3 (ipykernel)",
   "language": "python",
   "name": "python3"
  },
  "language_info": {
   "codemirror_mode": {
    "name": "ipython",
    "version": 3
   },
   "file_extension": ".py",
   "mimetype": "text/x-python",
   "name": "python",
   "nbconvert_exporter": "python",
   "pygments_lexer": "ipython3",
   "version": "3.11.5"
  }
 },
 "nbformat": 4,
 "nbformat_minor": 5
}
