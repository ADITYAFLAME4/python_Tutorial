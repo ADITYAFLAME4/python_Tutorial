{
 "cells": [
  {
   "cell_type": "raw",
   "id": "51353afc",
   "metadata": {},
   "source": [
    "OOPs Inheritance concept"
   ]
  },
  {
   "cell_type": "raw",
   "id": "85ebcf6a",
   "metadata": {},
   "source": [
    "super() method concept in INHERITANCE : \n",
    "    #whenever inside another class constructor, we want parent class constructor with having all the variable of parent class. then we use super().__init__()"
   ]
  },
  {
   "cell_type": "code",
   "execution_count": 11,
   "id": "e1bbbeb7",
   "metadata": {},
   "outputs": [
    {
     "name": "stdout",
     "output_type": "stream",
     "text": [
      "Pankaj sir 41 pw\n"
     ]
    }
   ],
   "source": [
    "#single Inheritance=>\n",
    "\n",
    "class Parent:\n",
    "    def __init__(self):\n",
    "        self.name = \"Pankaj sir\"\n",
    "        self.age = 41\n",
    "    \n",
    "    \n",
    "class Child(Parent): #derived class ==> it is having all parent class method if parent class is having mathod\n",
    "    def __init__(self):\n",
    "        super().__init__() #this __init__() is parent class constructor\n",
    "        self.institution = \"pw\"\n",
    "        \n",
    "    def display(self):\n",
    "        print(self.name, self.age, self.institution)\n",
    "        \n",
    "        \n",
    "object1 = Child()\n",
    "object1.display()\n",
    "\n",
    "        "
   ]
  },
  {
   "cell_type": "code",
   "execution_count": 17,
   "id": "90b5467d",
   "metadata": {},
   "outputs": [
    {
     "name": "stdout",
     "output_type": "stream",
     "text": [
      "pankaj\n",
      "pw\n"
     ]
    }
   ],
   "source": [
    "# another example using super keyword\n",
    "\n",
    "class Parent:\n",
    "    def __init__(self,naam,umaar):\n",
    "        self.Name = naam\n",
    "        self.Age = umaar\n",
    "        \n",
    "    def function1(self):\n",
    "        print(\"this is parent class function\")\n",
    "        \n",
    "    \n",
    "class Child(Parent):\n",
    "    def __init__(self,naam,umaar,prathisthan):\n",
    "        #to initialize 'naam' and 'umaar' Parent ka constructor chahiye\n",
    "        super().__init__(naam,umaar)\n",
    "        self.Institution = prathisthan\n",
    "        \n",
    "    def Display(self):\n",
    "        print(self.Name)\n",
    "        print(self.Institution)\n",
    "        \n",
    "        \n",
    "object = Child(\"pankaj\",41,\"pw\")\n",
    "object.Display()"
   ]
  },
  {
   "cell_type": "code",
   "execution_count": null,
   "id": "2e1cfa0c",
   "metadata": {},
   "outputs": [],
   "source": []
  },
  {
   "cell_type": "code",
   "execution_count": 19,
   "id": "847f00bf",
   "metadata": {},
   "outputs": [
    {
     "name": "stdout",
     "output_type": "stream",
     "text": [
      "x is = 10\n",
      "y is = 20\n",
      "z is = 30\n"
     ]
    }
   ],
   "source": [
    "class Parent:\n",
    "    def __init__(self,x,y):\n",
    "        self.x=x\n",
    "        self.y=y\n",
    "        \n",
    "        \n",
    "class Child(Parent):\n",
    "    def __init__(self,x,y,z):\n",
    "        super().__init__(x,y)\n",
    "        self.z=z\n",
    "        \n",
    "    def Display(self):\n",
    "        print(\"x is =\",self.x)\n",
    "        print(\"y is =\",self.y)\n",
    "        print(\"z is =\",self.z)\n",
    "        \n",
    "        \n",
    "obj = Child(10,20,30)\n",
    "obj.Display()\n",
    "            "
   ]
  },
  {
   "cell_type": "code",
   "execution_count": 29,
   "id": "23f6a5cc",
   "metadata": {},
   "outputs": [
    {
     "name": "stdout",
     "output_type": "stream",
     "text": [
      "x is = 10\n"
     ]
    }
   ],
   "source": [
    "#if parent class one variable is ==> private variable\n",
    "\n",
    "class Parent:\n",
    "    def __init__(self,x,y):\n",
    "        self.__x = x # 'x' becomes Private variable ==>this private var. is only accessable within \n",
    "                                            #this 'Parent' class only.\n",
    "        self.y = y\n",
    "        \n",
    "        \n",
    "    def Display1(self):\n",
    "        print(\"x is =\",self.__x) #here i access private variable\n",
    "        \n",
    "\n",
    "        \n",
    "class Child(Parent):\n",
    "    def __init__(self,x,y,z):\n",
    "        super().__init__(x,y)\n",
    "        self.z = z\n",
    "        \n",
    "        \n",
    "    def Display2(self):\n",
    "        print(\"x is =\",self.x) #it will gives error here. becuz in Parent class 'x' is Private var.\n",
    "                                    # we can't access Private varible in another class.\n",
    "                                    #only that class where we declare 'x' is private var.=>is accessable \n",
    "        print(\"y is =\",self.y)\n",
    "        print(\"z is =\",self.z)\n",
    "        \n",
    "        \n",
    "object = Child(10,20,30)\n",
    "object.Display1()\n",
    "#object.Display2()  #ERROR"
   ]
  },
  {
   "cell_type": "raw",
   "id": "c995e82c",
   "metadata": {},
   "source": [
    "# getter() and setter()\n",
    "#Encapsulation: an object variable should not always be directy accessible => means private var. concept\n",
    "\n",
    "to access private variable and manipulate private variable , we use this concepts\n",
    "getter() => this will basically return the private variable\n",
    "setter() => this is used to set the value in a private variable\n",
    "\n",
    "note: we can use any name instead of getter() and setter()"
   ]
  },
  {
   "cell_type": "code",
   "execution_count": 33,
   "id": "cca74948",
   "metadata": {},
   "outputs": [
    {
     "name": "stdout",
     "output_type": "stream",
     "text": [
      "10\n",
      "500\n"
     ]
    }
   ],
   "source": [
    "class Parent:\n",
    "    def __init__(self,x,y):\n",
    "        self.__x = x\n",
    "        self.y = y\n",
    "        \n",
    "    def setter(self, newvalue):\n",
    "        self.__x = newvalue\n",
    "    def getter(self):\n",
    "        return self.__x\n",
    "    \n",
    "obj = Parent(10,20)\n",
    "oldValue=obj.getter()\n",
    "print(oldValue) #10\n",
    "\n",
    "obj.setter(500)\n",
    "newValue=obj.getter()\n",
    "print(newValue) #500"
   ]
  },
  {
   "cell_type": "code",
   "execution_count": null,
   "id": "f315cb72",
   "metadata": {},
   "outputs": [],
   "source": []
  },
  {
   "cell_type": "code",
   "execution_count": 37,
   "id": "9356c23e",
   "metadata": {},
   "outputs": [
    {
     "name": "stdout",
     "output_type": "stream",
     "text": [
      "the value of x is = 10\n",
      "the value of y is = 20\n",
      "the value of a is = 30\n",
      "the value of b is = 40\n",
      "the value of x is = 300\n",
      "the value of y is = 20\n",
      "the value of a is = 30\n",
      "the value of b is = 40\n"
     ]
    }
   ],
   "source": [
    "class Parent:\n",
    "    def __init__(self,x,y):\n",
    "        self.__x=x\n",
    "        self.y=y\n",
    "        \n",
    "    def getter(self):\n",
    "        print(\"the value of x is =\",self.__x)\n",
    "        print(\"the value of y is =\",self.y)\n",
    "        \n",
    "    def setter(self,newvalue):\n",
    "        self.__x=newvalue\n",
    "        \n",
    "class Child(Parent):\n",
    "    def __init__(self,x,y,a,b):\n",
    "        super().__init__(x,y)\n",
    "        self.a = a\n",
    "        self.b = b\n",
    "        \n",
    "    def Print(self):\n",
    "        super().getter()\n",
    "        print(\"the value of a is =\",self.a)\n",
    "        print(\"the value of b is =\",self.b)\n",
    "        \n",
    "\n",
    "\n",
    "object = Child(10,20,30,40)\n",
    "object.Print()\n",
    "\n",
    "object.setter(300) #child class ka object will directly can call the parent class method(becuz\n",
    "                                        #                          method is not private)\n",
    "object.Print()\n",
    "    "
   ]
  },
  {
   "cell_type": "code",
   "execution_count": null,
   "id": "098acfed",
   "metadata": {},
   "outputs": [],
   "source": []
  },
  {
   "cell_type": "code",
   "execution_count": 43,
   "id": "c0aff2c6",
   "metadata": {},
   "outputs": [
    {
     "name": "stdout",
     "output_type": "stream",
     "text": [
      "this is func1 from class A\n",
      "this is func2 from class B\n",
      "this is func3 from class B\n"
     ]
    }
   ],
   "source": [
    "#multilevel Inheritance=> level by level inherit the properties.\n",
    "\n",
    "class A:\n",
    "    def func1(self):\n",
    "        print(\"this is func1 from class A\")\n",
    "    \n",
    "class B(A):\n",
    "    def func2(self):\n",
    "        print(\"this is func2 from class B\")\n",
    "        \n",
    "class C(B):\n",
    "    def func3(self):\n",
    "        print(\"this is func3 from class B\")\n",
    "        \n",
    "object = C() \n",
    "#through C class object we can call class A, B, C methods\n",
    "object.func1()\n",
    "object.func2()\n",
    "object.func3()"
   ]
  },
  {
   "cell_type": "code",
   "execution_count": 41,
   "id": "36a34db3",
   "metadata": {},
   "outputs": [
    {
     "name": "stdout",
     "output_type": "stream",
     "text": [
      "this is func1 from class A\n",
      "this is func2 from class B\n",
      "this is func3 from class B\n"
     ]
    }
   ],
   "source": [
    "# multiple Inheritance\n",
    "\n",
    "class A:\n",
    "    def func1(self):\n",
    "        print(\"this is func1 from class A\")\n",
    "    \n",
    "class B:\n",
    "    def func2(self):\n",
    "        print(\"this is func2 from class B\")\n",
    "        \n",
    "class C(A,B):\n",
    "    def func3(self):\n",
    "        print(\"this is func3 from class B\")\n",
    "        \n",
    "object = C() \n",
    "#through C class object we can call class A, B, C methods\n",
    "object.func1()\n",
    "object.func2()\n",
    "object.func3()\n",
    "\n"
   ]
  },
  {
   "cell_type": "code",
   "execution_count": null,
   "id": "93fd446c",
   "metadata": {},
   "outputs": [],
   "source": []
  },
  {
   "cell_type": "code",
   "execution_count": null,
   "id": "9c41adb1",
   "metadata": {},
   "outputs": [],
   "source": []
  },
  {
   "cell_type": "code",
   "execution_count": null,
   "id": "205a74ef",
   "metadata": {},
   "outputs": [],
   "source": []
  },
  {
   "cell_type": "code",
   "execution_count": null,
   "id": "3947a0d5",
   "metadata": {},
   "outputs": [],
   "source": []
  }
 ],
 "metadata": {
  "kernelspec": {
   "display_name": "Python 3 (ipykernel)",
   "language": "python",
   "name": "python3"
  },
  "language_info": {
   "codemirror_mode": {
    "name": "ipython",
    "version": 3
   },
   "file_extension": ".py",
   "mimetype": "text/x-python",
   "name": "python",
   "nbconvert_exporter": "python",
   "pygments_lexer": "ipython3",
   "version": "3.11.5"
  }
 },
 "nbformat": 4,
 "nbformat_minor": 5
}
