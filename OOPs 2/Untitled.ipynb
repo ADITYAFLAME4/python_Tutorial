{
 "cells": [
  {
   "cell_type": "raw",
   "id": "8404ccea",
   "metadata": {},
   "source": [
    "complex number concept using OOPs"
   ]
  },
  {
   "cell_type": "code",
   "execution_count": 19,
   "id": "681b776c",
   "metadata": {},
   "outputs": [
    {
     "name": "stdout",
     "output_type": "stream",
     "text": [
      "2+3i\n",
      "5-4i\n"
     ]
    }
   ],
   "source": [
    "class Complex:\n",
    "    def __init__(self,real,imaginary):\n",
    "        self.real = real\n",
    "        self.imaginary = imaginary\n",
    "    \n",
    "    def ShowingComplex(self):\n",
    "        \n",
    "        if self.imaginary<0:\n",
    "            print(\"{}{}i\".format(self.real,self.imaginary)) #this statement will print negative \n",
    "                                                            #imaginary part of the complex number\n",
    "        else:\n",
    "            print(\"{}+{}i\".format(self.real,self.imaginary))\n",
    "        \n",
    "c1 = Complex(2,3) #object created and automatically constructor executed ==> __init__()\n",
    "                    #and c1 is a object outer reference\n",
    "c2 = Complex(5,-4) #object created and automatically constructor executed ==> __init__()\n",
    "                    #and c2 is a object outer reference\n",
    "c1.ShowingComplex() #getting the first complex number named as c1 object\n",
    "c2.ShowingComplex() #getting the second conmplex number names as c2 object\n",
    "\n",
    "\n"
   ]
  },
  {
   "cell_type": "code",
   "execution_count": 20,
   "id": "45a94f0d",
   "metadata": {},
   "outputs": [
    {
     "name": "stdout",
     "output_type": "stream",
     "text": [
      "2+3i\n",
      "4-5i\n",
      "6\n",
      "-2\n",
      "6-2i\n"
     ]
    }
   ],
   "source": [
    "# addition two complex number\n",
    "\n",
    "class ComplexNumber:\n",
    "    def __init__(self,real,imaginary):\n",
    "        self.real = real\n",
    "        self.imaginary = imaginary\n",
    "        \n",
    "    def ShowingComplex(self):\n",
    "        if self.imaginary<0:\n",
    "            print(\"{}{}i\".format(self.real,self.imaginary))\n",
    "        else:\n",
    "            print(\"{}+{}i\".format(self.real,self.imaginary))\n",
    "    \n",
    "    def AdditionTwoComplex(self,secondComplex):\n",
    "        self.real = self.real + secondComplex.real\n",
    "        self.imaginary = self.imaginary + secondComplex.imaginary\n",
    "        \n",
    "        \n",
    "    def ShowingAddition(self):\n",
    "        print(self.real) #6\n",
    "        print(self.imaginary) #-2\n",
    "        \n",
    "        if self.imaginary<0:\n",
    "            print(\"{}{}i\".format(self.real,self.imaginary))\n",
    "        else:\n",
    "            print(\"{}+{}i\".format(self.real,self.imaginary))\n",
    "\n",
    "        \n",
    "        \n",
    "c1 = ComplexNumber(2,3)\n",
    "c2 = ComplexNumber(4,-5)\n",
    "c1.ShowingComplex()\n",
    "c2.ShowingComplex()\n",
    "\n",
    "\n",
    "\n",
    "c1.AdditionTwoComplex(c2) # 'c2' object and 'secondComplex' is same thing. print(c2.real) #4\n",
    "                                #    if i write inside class => print(secondComplex.real) #4\n",
    "c1.ShowingAddition()\n",
    "        "
   ]
  },
  {
   "cell_type": "code",
   "execution_count": 21,
   "id": "734ab2ea",
   "metadata": {},
   "outputs": [],
   "source": [
    "#exactly the same way we can perform subtraction, multiplication, division on two complex number"
   ]
  },
  {
   "cell_type": "code",
   "execution_count": null,
   "id": "4e9da118",
   "metadata": {},
   "outputs": [],
   "source": []
  },
  {
   "cell_type": "code",
   "execution_count": null,
   "id": "5c89de69",
   "metadata": {},
   "outputs": [],
   "source": []
  }
 ],
 "metadata": {
  "kernelspec": {
   "display_name": "Python 3 (ipykernel)",
   "language": "python",
   "name": "python3"
  },
  "language_info": {
   "codemirror_mode": {
    "name": "ipython",
    "version": 3
   },
   "file_extension": ".py",
   "mimetype": "text/x-python",
   "name": "python",
   "nbconvert_exporter": "python",
   "pygments_lexer": "ipython3",
   "version": "3.11.5"
  }
 },
 "nbformat": 4,
 "nbformat_minor": 5
}
