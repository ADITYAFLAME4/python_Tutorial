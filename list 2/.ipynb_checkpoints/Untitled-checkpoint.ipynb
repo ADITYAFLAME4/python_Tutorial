{
 "cells": [
  {
   "cell_type": "markdown",
   "id": "40d75fa2",
   "metadata": {},
   "source": [
    "# list datatype 2"
   ]
  },
  {
   "cell_type": "raw",
   "id": "5175fe63",
   "metadata": {},
   "source": [
    "aliasing concept => giving one variable(in python everyting is object) reference to another variable(object)is called aliasing\n",
    "# the problem of aliasing is if we change the value of the previous variable then it will reflect it to another variable."
   ]
  },
  {
   "cell_type": "code",
   "execution_count": 2,
   "id": "336f7ddb",
   "metadata": {},
   "outputs": [
    {
     "name": "stdout",
     "output_type": "stream",
     "text": [
      "1599598324736\n",
      "1599598324736\n"
     ]
    }
   ],
   "source": [
    "a = [ 1,2,3,4,5,2,34]\n",
    "b=a # giving 'a' varibale's(in python=> object) reference to 'b' variable(object)\n",
    "# both the object will having same value cuz they are sharing same reference\n",
    "print(id(a)) #same address\n",
    "print(id(b)) #same address\n"
   ]
  },
  {
   "cell_type": "markdown",
   "id": "3aa9cd49",
   "metadata": {},
   "source": [
    "problem of aliasing concept"
   ]
  },
  {
   "cell_type": "code",
   "execution_count": 3,
   "id": "197f5b76",
   "metadata": {},
   "outputs": [
    {
     "name": "stdout",
     "output_type": "stream",
     "text": [
      "[100, 2, 3, 4, 5, 2, 34]\n",
      "[100, 2, 3, 4, 5, 2, 34]\n"
     ]
    }
   ],
   "source": [
    "a[0]=100 # change will reflect both the object's value\n",
    "print(a)\n",
    "print(b)"
   ]
  },
  {
   "cell_type": "code",
   "execution_count": 4,
   "id": "b4194fda",
   "metadata": {},
   "outputs": [
    {
     "name": "stdout",
     "output_type": "stream",
     "text": [
      "[100, 2, 3, 500, 5, 2, 34]\n",
      "[100, 2, 3, 500, 5, 2, 34]\n"
     ]
    }
   ],
   "source": [
    "b[3]= 500\n",
    "print(a)\n",
    "print(b)"
   ]
  },
  {
   "cell_type": "raw",
   "id": "8fab6b11",
   "metadata": {},
   "source": [
    "= operator: aliasing\n",
    "\n",
    "To get rid of this aliasing concept problem there is a concept called cloning\n",
    "cloning => creating a new object with same content or we can say duplicate content\n",
    "cloning has 2 way to clone \n",
    "   1) slicing\n",
    "   2)copy() \n",
    "   \n",
    " slicing, copy(): cloning   "
   ]
  },
  {
   "cell_type": "markdown",
   "id": "c9c6f1fd",
   "metadata": {},
   "source": [
    "slicing the content to clone => to get rid of aliasing problem"
   ]
  },
  {
   "cell_type": "code",
   "execution_count": 13,
   "id": "1dc97d80",
   "metadata": {},
   "outputs": [
    {
     "name": "stdout",
     "output_type": "stream",
     "text": [
      "[2, 1, 4, 3, 5, 7, 2]\n",
      "[2, 1, 4, 3, 5, 7, 2]\n",
      "1599598322368\n",
      "1599598347200\n"
     ]
    }
   ],
   "source": [
    "a = [2,1,4,3,5,7,2]\n",
    "b = a[ : ]    #slicing the 'a' object and store it in 'b' object . by this both object's id will different\n",
    "print(a)\n",
    "print(b)\n",
    "print(id(a))\n",
    "print(id(b))  \n"
   ]
  },
  {
   "cell_type": "code",
   "execution_count": 14,
   "id": "b8d909b3",
   "metadata": {},
   "outputs": [
    {
     "name": "stdout",
     "output_type": "stream",
     "text": [
      "[5, 1, 4, 3, 5, 7, 2]\n",
      "[2, 1, 4, 3, 5, 7, 2]\n"
     ]
    }
   ],
   "source": [
    "a[0]=5  #changing \"a\" objects first index \n",
    "print(a)\n",
    "\n",
    "print(b)  #changing 'a' objects value does not affect 'b' object"
   ]
  },
  {
   "cell_type": "markdown",
   "id": "cc97770c",
   "metadata": {},
   "source": [
    "copy() the object => to get rid of aliasing problem"
   ]
  },
  {
   "cell_type": "code",
   "execution_count": 15,
   "id": "f04a7508",
   "metadata": {},
   "outputs": [
    {
     "name": "stdout",
     "output_type": "stream",
     "text": [
      "1599598235968\n",
      "[3, 4, 2, 56, 4, 'mithun']\n",
      "1599597609408\n",
      "[3, 4, 2, 56, 4, 'mithun']\n"
     ]
    }
   ],
   "source": [
    "a =[3,4,2,56,4,\"mithun\"]\n",
    "b = a.copy() # 'b' object will having another id reference\n",
    "print(id(a))\n",
    "print(a)\n",
    "print(id(b)) \n",
    "print(b)\n",
    "\n",
    "# now if we perform any operation of any object then it won't reflect to another object=> a[0]=55 =>'a' object will change but \"b\" object remain same."
   ]
  },
  {
   "cell_type": "raw",
   "id": "592bc1a3",
   "metadata": {},
   "source": [
    "some basic things about list"
   ]
  },
  {
   "cell_type": "raw",
   "id": "7ab250e7",
   "metadata": {},
   "source": [
    "+ operator"
   ]
  },
  {
   "cell_type": "code",
   "execution_count": 16,
   "id": "7b07b5ab",
   "metadata": {},
   "outputs": [
    {
     "ename": "TypeError",
     "evalue": "can only concatenate list (not \"int\") to list",
     "output_type": "error",
     "traceback": [
      "\u001b[1;31m---------------------------------------------------------------------------\u001b[0m",
      "\u001b[1;31mTypeError\u001b[0m                                 Traceback (most recent call last)",
      "Cell \u001b[1;32mIn[16], line 2\u001b[0m\n\u001b[0;32m      1\u001b[0m a\u001b[38;5;241m=\u001b[39m[\u001b[38;5;241m1\u001b[39m,\u001b[38;5;241m2\u001b[39m,\u001b[38;5;241m3\u001b[39m,\u001b[38;5;241m3\u001b[39m,\u001b[38;5;241m4\u001b[39m,\u001b[38;5;241m3\u001b[39m,\u001b[38;5;241m2\u001b[39m]\n\u001b[1;32m----> 2\u001b[0m b \u001b[38;5;241m=\u001b[39m a\u001b[38;5;241m+\u001b[39m\u001b[38;5;241m30\u001b[39m\n",
      "\u001b[1;31mTypeError\u001b[0m: can only concatenate list (not \"int\") to list"
     ]
    }
   ],
   "source": [
    "a=[1,2,3,3,4,3,2]\n",
    "b = a+30 #error => type same nhi hai\n"
   ]
  },
  {
   "cell_type": "code",
   "execution_count": 29,
   "id": "2d724918",
   "metadata": {},
   "outputs": [
    {
     "name": "stdout",
     "output_type": "stream",
     "text": [
      "[1, 2, 3, 3, 4, 3, 2, 'mithun', 4, 5, 3, 2, 56, 9, 3, 'raptan']\n"
     ]
    }
   ],
   "source": [
    "a=[1,2,3,3,4,3,2,\"mithun\"]\n",
    "b=[4,5,3,2,56,9,3,\"raptan\"]\n",
    "l=a+b\n",
    "\n",
    "print(l)  # + operator: same type per concatenate krta hai in general"
   ]
  },
  {
   "cell_type": "raw",
   "id": "69f1f995",
   "metadata": {},
   "source": [
    "repeatition operator "
   ]
  },
  {
   "cell_type": "code",
   "execution_count": 42,
   "id": "d1629384",
   "metadata": {},
   "outputs": [
    {
     "name": "stdout",
     "output_type": "stream",
     "text": [
      "[1, 2, 3, 4, 2, 1, 'mithun', 1, 2, 3, 4, 2, 1, 'mithun', 1, 2, 3, 4, 2, 1, 'mithun']\n",
      "1599611274816\n",
      "1599611599552\n",
      "[1, 2, 3, 4, 2, 1, 'mithun']\n"
     ]
    }
   ],
   "source": [
    "a = [1,2,3,4,2,1,'mithun']\n",
    "b=a*3  #to repeat the list 3 times\n",
    "print(b)\n",
    "print(id(a))\n",
    "print(id(b))\n",
    "print(a) # 'a' object is remain same"
   ]
  },
  {
   "cell_type": "raw",
   "id": "a2a3d543",
   "metadata": {},
   "source": [
    "can we compare 2 list in python\n",
    "  #element same\n",
    "  #element order should be same\n",
    "  #length of two list should be same\n",
    "    "
   ]
  },
  {
   "cell_type": "code",
   "execution_count": 55,
   "id": "475156a9",
   "metadata": {},
   "outputs": [
    {
     "name": "stdout",
     "output_type": "stream",
     "text": [
      "False\n",
      "True\n"
     ]
    }
   ],
   "source": [
    "l1 = [1,40,30,4]\n",
    "l2 = [3,40,4,1]\n",
    "l3 = [1,40,30,4]\n",
    "print(l1==l2) #index same hai lekin content same nhi hai =>False\n",
    "print(l1==l3) # content,index same =>True"
   ]
  },
  {
   "cell_type": "code",
   "execution_count": 56,
   "id": "27397811",
   "metadata": {},
   "outputs": [
    {
     "data": {
      "text/plain": [
       "True"
      ]
     },
     "execution_count": 56,
     "metadata": {},
     "output_type": "execute_result"
    }
   ],
   "source": [
    "l1 != l2 # returns true"
   ]
  },
  {
   "cell_type": "code",
   "execution_count": 59,
   "id": "769a9c42",
   "metadata": {},
   "outputs": [
    {
     "data": {
      "text/plain": [
       "False"
      ]
     },
     "execution_count": 59,
     "metadata": {},
     "output_type": "execute_result"
    }
   ],
   "source": [
    "a = [1,2,3,4]\n",
    "b = [1,2,3,4,5]\n",
    "a==b #length same nhi hai and last element jayda hai"
   ]
  },
  {
   "cell_type": "raw",
   "id": "96e6316f",
   "metadata": {},
   "source": [
    "#relational operator in list: <,>,<=,>="
   ]
  },
  {
   "cell_type": "code",
   "execution_count": 60,
   "id": "a0b78e4d",
   "metadata": {},
   "outputs": [
    {
     "data": {
      "text/plain": [
       "False"
      ]
     },
     "execution_count": 60,
     "metadata": {},
     "output_type": "execute_result"
    }
   ],
   "source": [
    "l1 = [1,40,30,4]\n",
    "l2 = [3,40,4,1]\n",
    "l1>l2 # 1st element ke basis pe decision hoga becuz first element is different # 1>3 => False"
   ]
  },
  {
   "cell_type": "raw",
   "id": "adbc71cd",
   "metadata": {},
   "source": [
    "clear() =>to remove all the elements from the list"
   ]
  },
  {
   "cell_type": "code",
   "execution_count": 62,
   "id": "711ebe73",
   "metadata": {},
   "outputs": [
    {
     "data": {
      "text/plain": [
       "[]"
      ]
     },
     "execution_count": 62,
     "metadata": {},
     "output_type": "execute_result"
    }
   ],
   "source": [
    "l1 =[1,4,2,3]\n",
    "l1.clear()\n",
    "l1 #empty list"
   ]
  },
  {
   "cell_type": "code",
   "execution_count": 63,
   "id": "b758f7fd",
   "metadata": {},
   "outputs": [
    {
     "data": {
      "text/plain": [
       "[1, 2, 3, [50, 60, 70], 'mithun']"
      ]
     },
     "execution_count": 63,
     "metadata": {},
     "output_type": "execute_result"
    }
   ],
   "source": [
    "#a list can be an element of another list\n",
    "l1=[1,2,3,[50,60,70],\"mithun\"]\n",
    "l1"
   ]
  },
  {
   "cell_type": "code",
   "execution_count": 70,
   "id": "f9156daf",
   "metadata": {},
   "outputs": [
    {
     "data": {
      "text/plain": [
       "3"
      ]
     },
     "execution_count": 70,
     "metadata": {},
     "output_type": "execute_result"
    }
   ],
   "source": [
    "#2d list concept => a list's all element is also a list\n",
    "l = [[1, 2, 3], ['mitun', 'raptan', 30], [\"hui\", 'mui', 'pui']]\n",
    "len(l) # returns 3\n",
    "\n"
   ]
  },
  {
   "cell_type": "code",
   "execution_count": 71,
   "id": "52b6f449",
   "metadata": {},
   "outputs": [
    {
     "data": {
      "text/plain": [
       "[1, 2, 3]"
      ]
     },
     "execution_count": 71,
     "metadata": {},
     "output_type": "execute_result"
    }
   ],
   "source": [
    "l[0] # 1st element is also a list "
   ]
  },
  {
   "cell_type": "code",
   "execution_count": 73,
   "id": "2acf254b",
   "metadata": {},
   "outputs": [
    {
     "data": {
      "text/plain": [
       "2"
      ]
     },
     "execution_count": 73,
     "metadata": {},
     "output_type": "execute_result"
    }
   ],
   "source": [
    "l[0][1] # first element toh list hai then we wanting to get 2nd element(index is 1)"
   ]
  },
  {
   "cell_type": "code",
   "execution_count": 74,
   "id": "e6649c0f",
   "metadata": {},
   "outputs": [
    {
     "data": {
      "text/plain": [
       "3"
      ]
     },
     "execution_count": 74,
     "metadata": {},
     "output_type": "execute_result"
    }
   ],
   "source": [
    "len(l[0]) #l[0] list is [1,2,3]\n",
    "            # len is 3\n",
    "    "
   ]
  },
  {
   "cell_type": "raw",
   "id": "4437a005",
   "metadata": {},
   "source": [
    "some more important concept of list"
   ]
  },
  {
   "cell_type": "code",
   "execution_count": 1,
   "id": "a0f5d19a",
   "metadata": {},
   "outputs": [],
   "source": [
    "l = [[1,2,3,4],[6,7,8,9],[5,6,7]] # this is also a valid list\n",
    "                                 #the length of the each 2d list is not same but also it is valid"
   ]
  },
  {
   "cell_type": "markdown",
   "id": "b3331666",
   "metadata": {},
   "source": [
    "#list comprehension "
   ]
  },
  {
   "cell_type": "code",
   "execution_count": 37,
   "id": "348eac03",
   "metadata": {},
   "outputs": [
    {
     "data": {
      "text/plain": [
       "[0, 1, 2]"
      ]
     },
     "execution_count": 37,
     "metadata": {},
     "output_type": "execute_result"
    }
   ],
   "source": [
    "l = [ i   for i in range(3)]\n",
    "l"
   ]
  },
  {
   "cell_type": "code",
   "execution_count": 45,
   "id": "3c14a1a1",
   "metadata": {},
   "outputs": [
    {
     "data": {
      "text/plain": [
       "[[1, 2, 3, 4], [1, 2, 3, 4], [1, 2, 3, 4], [1, 2, 3, 4], [1, 2, 3, 4]]"
      ]
     },
     "execution_count": 45,
     "metadata": {},
     "output_type": "execute_result"
    }
   ],
   "source": [
    "l = [ [1,2,3,4]   for i in range(5)]\n",
    "l"
   ]
  },
  {
   "cell_type": "code",
   "execution_count": 43,
   "id": "234243e7",
   "metadata": {},
   "outputs": [
    {
     "name": "stdout",
     "output_type": "stream",
     "text": [
      "[[0, 1, 2, 3], [0, 1, 2, 3], [0, 1, 2, 3], [0, 1, 2, 3], [0, 1, 2, 3]]\n"
     ]
    }
   ],
   "source": [
    "l=     [  [j  for j in range(4)]  for i in range(5) ]\n",
    "print(l)"
   ]
  },
  {
   "cell_type": "markdown",
   "id": "235e2e01",
   "metadata": {},
   "source": [
    "using list we can create matrix m*n order\n"
   ]
  },
  {
   "cell_type": "raw",
   "id": "25cc271a",
   "metadata": {},
   "source": [
    "#1st way=>"
   ]
  },
  {
   "cell_type": "code",
   "execution_count": 21,
   "id": "53931b12",
   "metadata": {},
   "outputs": [
    {
     "name": "stdout",
     "output_type": "stream",
     "text": [
      "give the rows and column using space separator: 3 4\n",
      " give the element of matrix: 1 2 3 4 \n",
      " give the element of matrix: 3 4 5 6 7 \n",
      " give the element of matrix: 3 4 5 6\n",
      "[[1, 2, 3, 4], [3, 4, 5, 6, 7], [3, 4, 5, 6]]\n"
     ]
    }
   ],
   "source": [
    "dimensions = input(\"give the rows and column using space separator: \").split()  # ['3','4']\n",
    "m= int(l[0]) #rows\n",
    "n=int(l[1]) #column\n",
    "e = [] # empty 2d list\n",
    "#need not worry about column ( on the basis of user column will varry for this code)\n",
    "for i in range(m):\n",
    "    newrow = input(\" give the element of matrix: \").split() # ['1','2','3','4']\n",
    "    newrow1 =[] \n",
    "    for j in newrow:\n",
    "        newrow1.append(int(j)) # insering integer element to newrow1\n",
    "    e.append(newrow1)    # newro1 insering to empty list 'e'\n",
    "        \n",
    "\n",
    "\n",
    "print(e)\n",
    "    \n",
    "    \n",
    "\n"
   ]
  },
  {
   "cell_type": "markdown",
   "id": "32c1c589",
   "metadata": {},
   "source": [
    "shortcut way to do previous program using list comprehension"
   ]
  },
  {
   "cell_type": "code",
   "execution_count": 22,
   "id": "5974cc03",
   "metadata": {},
   "outputs": [
    {
     "name": "stdout",
     "output_type": "stream",
     "text": [
      "enter the row and colum of a matrix using space separator: 3 4\n",
      "enter the elements of row: 1 2 3 4 5\n",
      "enter the elements of row:  5 4 6 3\n",
      "enter the elements of row: 3 4 5 5 4 3 2 223\n",
      "[[1, 2, 3, 4, 5], [5, 4, 6, 3], [3, 4, 5, 5, 4, 3, 2, 223]]\n"
     ]
    }
   ],
   "source": [
    "dimensions = input(\"enter the row and colum of a matrix using space separator: \").split()  #3 4\n",
    "r = int(l[0]) # rows\n",
    "c = int(l[1]) #column\n",
    "e = []  #  empty 2d list\n",
    "for i in range(r): #need not worry about column ( on the basis of user column will varry for this code)\n",
    "    newrow=[ int(j)  for j in input(\"enter the elements of row: \").split()]  #list comprehension\n",
    "    e.append(newrow)\n",
    "    #print(e) # checking the append function works or not. \n",
    "print(e) #printing the matrix given by user\n",
    "     \n",
    "        \n",
    "                     "
   ]
  },
  {
   "cell_type": "raw",
   "id": "e8cda7fe",
   "metadata": {},
   "source": [
    "#2nd way=>"
   ]
  },
  {
   "cell_type": "code",
   "execution_count": 23,
   "id": "c6b40b5d",
   "metadata": {},
   "outputs": [
    {
     "name": "stdout",
     "output_type": "stream",
     "text": [
      "ente the rows and column using space separator: 3 4\n",
      "enter element: 1\n",
      "enter element: 2\n",
      "enter element: 3\n",
      "enter element: 4\n",
      "enter element: 5\n",
      "enter element: 6\n",
      "enter element: 7\n",
      "enter element: 8\n",
      "enter element: 2\n",
      "enter element: 3\n",
      "enter element: 4\n",
      "enter element: 5\n",
      "[[1, 2, 3, 4], [5, 6, 7, 8], [2, 3, 4, 5]]\n"
     ]
    }
   ],
   "source": [
    "#if row and column constant means we have to print equal column also in our list\n",
    "dimension = input(\"ente the rows and column using space separator: \").split()\n",
    "r = int(dimension[0])\n",
    "c = int(dimension[1])\n",
    "e =[]\n",
    "for i in range(r):\n",
    "    new_row = []\n",
    "    for j in range(c):\n",
    "        new_row.append(int(input(\"enter element: \")))\n",
    "    e.append(new_row)\n",
    "            \n",
    "print(e)    "
   ]
  },
  {
   "cell_type": "raw",
   "id": "8efbb1cd",
   "metadata": {},
   "source": [
    "#3rd way=>"
   ]
  },
  {
   "cell_type": "code",
   "execution_count": 35,
   "id": "63b5725d",
   "metadata": {},
   "outputs": [
    {
     "name": "stdout",
     "output_type": "stream",
     "text": [
      "enter the rows and column using space separator: 3 4\n",
      "1 2 3 4 5 6 7 8 9 10 11 12\n",
      "[1, 2, 3, 4, 5, 6, 7, 8, 9, 10, 11, 12]\n",
      "[[1, 2, 3, 4], [5, 6, 7, 8], [9, 10, 11, 12]]\n"
     ]
    }
   ],
   "source": [
    "dimension = input(\"enter the rows and column using space separator: \").split()  #['3','4']\n",
    "m = int(dimension[0]) #3\n",
    "n = int(dimension[1]) #4\n",
    "l =[     int(i)    for i in input().split()   ]\n",
    "print (l) # list comprehension krke pura list ka elements lene ka tarika user se\n",
    "e =[]\n",
    "for i in range(m): # 3 bar iteration hbe cuz we want 3 row\n",
    "    e.append(l[i*n : n*(i+1) ])  # 4 te kore element slice hye 'e' list object a add hbe as a list\n",
    "print(e)\n",
    "    "
   ]
  }
 ],
 "metadata": {
  "kernelspec": {
   "display_name": "Python 3 (ipykernel)",
   "language": "python",
   "name": "python3"
  },
  "language_info": {
   "codemirror_mode": {
    "name": "ipython",
    "version": 3
   },
   "file_extension": ".py",
   "mimetype": "text/x-python",
   "name": "python",
   "nbconvert_exporter": "python",
   "pygments_lexer": "ipython3",
   "version": "3.11.5"
  }
 },
 "nbformat": 4,
 "nbformat_minor": 5
}
