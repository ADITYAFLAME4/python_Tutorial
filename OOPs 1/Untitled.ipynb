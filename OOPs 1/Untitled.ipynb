{
 "cells": [
  {
   "cell_type": "code",
   "execution_count": null,
   "id": "b38e7b59",
   "metadata": {},
   "outputs": [],
   "source": [
    "\n",
    "\n",
    "        "
   ]
  },
  {
   "cell_type": "code",
   "execution_count": null,
   "id": "1b72803d",
   "metadata": {},
   "outputs": [],
   "source": []
  },
  {
   "cell_type": "code",
   "execution_count": 9,
   "id": "4aa93568",
   "metadata": {},
   "outputs": [
    {
     "name": "stdout",
     "output_type": "stream",
     "text": [
      "mithun\n",
      "22\n"
     ]
    }
   ],
   "source": [
    "class  Class :\n",
    "    def __init__(self):  #constructor\n",
    "        self.name= \"mithun\"\n",
    "        self.age = 22\n",
    "\n",
    "        \n",
    "object1=Class() #created one object\n",
    "print(object1.name)\n",
    "print(object1.age)"
   ]
  },
  {
   "cell_type": "code",
   "execution_count": 12,
   "id": "7ffd4583",
   "metadata": {},
   "outputs": [
    {
     "data": {
      "text/plain": [
       "{'name': 'mithun', 'age': 22}"
      ]
     },
     "execution_count": 12,
     "metadata": {},
     "output_type": "execute_result"
    }
   ],
   "source": [
    "#we can access all the instance variable in the dictionary format using objectName. __dict__\n",
    "\n",
    "object1.__dict__"
   ]
  },
  {
   "cell_type": "raw",
   "id": "ea7e2169",
   "metadata": {},
   "source": [
    "                                  variable\n",
    "    ---------------------------------------------------------------------------------\n",
    "    instance/                     static/                              local variable\n",
    "      object variable               class level variable"
   ]
  },
  {
   "cell_type": "raw",
   "id": "64533d78",
   "metadata": {},
   "source": [
    "#instance/object variable    and     'self' and 'object' concept"
   ]
  },
  {
   "cell_type": "code",
   "execution_count": 22,
   "id": "46873d92",
   "metadata": {},
   "outputs": [
    {
     "name": "stdout",
     "output_type": "stream",
     "text": [
      "constructor executed\n",
      "this is t1 object's internal reference var. 'self' =  1845345131152\n",
      "this is 't1' object's outer reference var. id =  1845345131152\n",
      "both the reference variable's id is SAME\n",
      "pankaj\n",
      "41\n"
     ]
    }
   ],
   "source": [
    "\n",
    "\n",
    "class Teacher:\n",
    "    def __init__(self,naam, umaar):\n",
    "        self.Name=naam  #'Name' is a object/instance variable\n",
    "        self.Age=umaar #'Age' is a object/instance variable\n",
    "        print(\"constructor executed\")\n",
    "        print(\"this is t1 object's internal reference var. 'self' = \",id(self))\n",
    "    def Display(self):\n",
    "        print(self.Name)\n",
    "        print(self.Age)\n",
    "    \n",
    "t1 = Teacher('pankaj',41)\n",
    "print(\"this is 't1' object's outer reference var. id = \",id(t1))\n",
    "\n",
    "print(\"both the reference variable's id is SAME\")\n",
    "t1.Display()"
   ]
  },
  {
   "cell_type": "raw",
   "id": "d6a1a3ec",
   "metadata": {},
   "source": [
    "# static variable/class variable :=>\n",
    "    #for every object we dont need to create a instance var. for every object it is same, and at\n",
    "                    #the time of calling we don't need to pass value for that instance variable."
   ]
  },
  {
   "cell_type": "code",
   "execution_count": 23,
   "id": "a44f254b",
   "metadata": {
    "scrolled": true
   },
   "outputs": [
    {
     "name": "stdout",
     "output_type": "stream",
     "text": [
      "pankaj\n",
      "41\n",
      "physics wala\n",
      "rahul\n",
      "35\n",
      "physics wala\n",
      "satish\n",
      "48\n",
      "physics wala\n"
     ]
    }
   ],
   "source": [
    "# static variable/class variable \n",
    "    #for every object we dont need to create a instance var. for every object it is same, and at\n",
    "                    #the time of calling we don't need to pass value for that instance variable.\n",
    "\n",
    "class Teacher:\n",
    "    Institution = \"physics wala\" #this is class level/static variable\n",
    "    \n",
    "    def __init__(self,naam,umaar):\n",
    "        self.Name = naam\n",
    "        self.Age=umaar\n",
    "        \n",
    "    def Display(self):\n",
    "        print(self.Name)\n",
    "        print(self.Age)\n",
    "        print(self.Institution)\n",
    "\n",
    "\n",
    "\n",
    "t1=Teacher(\"pankaj\",41) #created t1 object , i didn't pass 'Institution', thats how we can minimize our code\n",
    "t2 = Teacher(\"rahul\",35) #created t1 object , i didn't pass 'Institution'\n",
    "t3 = Teacher(\"satish\",48) #created t1 object , i didn't pass 'Institution'\n",
    "t1.Display() #Name, Age, Institution\n",
    "t2.Display()\n",
    "t3.Display()"
   ]
  },
  {
   "cell_type": "code",
   "execution_count": null,
   "id": "ccb75978",
   "metadata": {},
   "outputs": [],
   "source": []
  },
  {
   "cell_type": "raw",
   "id": "c2c68204",
   "metadata": {},
   "source": [
    "                                     method\n",
    "    ---------------------------------------------------------------------------------\n",
    "    instance method                class method(cls)                    static method\n",
    "                                    @classmethod                         @staticmethod\n",
    "        \n",
    "#instance method: if some method is using only instance/object variable(means using 'self' ref. var.)\n",
    "                     then it is called instance method\n",
    "    \n",
    "#class method: it does not depend on object/instance\n",
    "         for every class a special class level object is created in python by PVM, to store\n",
    "                                  class related information\n",
    "         if we are using only class level/static variable inside a method then it becomes class method\n",
    "         @classmethod  => it's used to define class method\n",
    "         cls => instead 'self' class level object has 'cls'\n",
    "                \n",
    "#static method: @staticmethod => it's used to define static method\n",
    "                it is used for general purpose only"
   ]
  },
  {
   "cell_type": "code",
   "execution_count": null,
   "id": "b7a05f56",
   "metadata": {},
   "outputs": [],
   "source": [
    "# instance method\n",
    "\n",
    "class Teacher:\n",
    "    def __init__(self):\n",
    "        self.name='pankaj'\n",
    "        self.age=41\n",
    "        \n",
    "    def display(self):      #this is one method named 'display', who is using instance variable\n",
    "        print(self.name)                        # means it is a INSTANCE METHOD\n",
    "        print(self.age)"
   ]
  },
  {
   "cell_type": "code",
   "execution_count": 2,
   "id": "ee865c7f",
   "metadata": {},
   "outputs": [
    {
     "name": "stdout",
     "output_type": "stream",
     "text": [
      "pw\n"
     ]
    }
   ],
   "source": [
    "#object method\n",
    "class Teacher:\n",
    "    Institution = 'pw'\n",
    "    def __init__(self):\n",
    "        self.name = \"pankaj\"\n",
    "        self.age = 41\n",
    "    @classmethod\n",
    "    def Display_institution(cls):\n",
    "        print(cls.Institution)\n",
    "\n",
    "        \n",
    "t1=Teacher()\n",
    "t1.Display_institution()\n",
    "\n",
    "#note : 'cls' and 't1' object has same reference id"
   ]
  },
  {
   "cell_type": "code",
   "execution_count": 3,
   "id": "b3d3dc64",
   "metadata": {},
   "outputs": [
    {
     "name": "stdout",
     "output_type": "stream",
     "text": [
      "6\n"
     ]
    }
   ],
   "source": [
    "# static method\n",
    "\n",
    "class Teacher:\n",
    "    def __init__(self):\n",
    "        self.name = \"pankaj\"\n",
    "        self.age=41\n",
    "    @staticmethod\n",
    "    def Factorial_number(n):\n",
    "        facto=1\n",
    "        for i in range(1,n+1):\n",
    "            facto = facto*i\n",
    "        print(facto)\n",
    "\n",
    "        \n",
    "t1=Teacher()\n",
    "t1.Factorial_number(3)\n",
    "\n",
    "            "
   ]
  },
  {
   "cell_type": "code",
   "execution_count": null,
   "id": "d2a8750f",
   "metadata": {},
   "outputs": [],
   "source": []
  }
 ],
 "metadata": {
  "kernelspec": {
   "display_name": "Python 3 (ipykernel)",
   "language": "python",
   "name": "python3"
  },
  "language_info": {
   "codemirror_mode": {
    "name": "ipython",
    "version": 3
   },
   "file_extension": ".py",
   "mimetype": "text/x-python",
   "name": "python",
   "nbconvert_exporter": "python",
   "pygments_lexer": "ipython3",
   "version": "3.11.5"
  }
 },
 "nbformat": 4,
 "nbformat_minor": 5
}
