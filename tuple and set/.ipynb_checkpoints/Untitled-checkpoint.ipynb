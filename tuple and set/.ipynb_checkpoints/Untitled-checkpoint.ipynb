{
 "cells": [
  {
   "cell_type": "markdown",
   "id": "3c9ae288",
   "metadata": {},
   "source": [
    "# tuple and set "
   ]
  },
  {
   "cell_type": "markdown",
   "id": "ede7eb9a",
   "metadata": {},
   "source": [
    "# tuple"
   ]
  },
  {
   "cell_type": "code",
   "execution_count": null,
   "id": "27172bbc",
   "metadata": {},
   "outputs": [],
   "source": [
    "#tuple consider as a read only list ,,,means we can not manipulate tuple.\n",
    "#same as list but immutable\n",
    "#indexing\n",
    "#ordered\n",
    "#slicing\n",
    "#heterogen\n",
    "#duplicates allowed"
   ]
  },
  {
   "cell_type": "code",
   "execution_count": 1,
   "id": "a10ec8d1",
   "metadata": {},
   "outputs": [
    {
     "name": "stdout",
     "output_type": "stream",
     "text": [
      "<class 'tuple'>\n"
     ]
    }
   ],
   "source": [
    "# parenthesis is optional\n",
    "a = 1,2,3\n",
    "print(type(a))"
   ]
  },
  {
   "cell_type": "code",
   "execution_count": 13,
   "id": "4e0a7ef5",
   "metadata": {},
   "outputs": [
    {
     "name": "stdout",
     "output_type": "stream",
     "text": [
      "(1, 2, 3, 4, 5)\n"
     ]
    }
   ],
   "source": [
    "a = () # declaring empty tuple\n",
    "b = tuple()\n",
    "c =(1,) # without coma python consider it as a value...check In[19]\n",
    "d = (1,2,3,4,5)\n",
    "e = tuple([1,2,3,4,5]) #converting list to tuple\n",
    "f = tuple(\"mithun\") #convering string to tuple\n",
    "\n",
    "print(e)"
   ]
  },
  {
   "cell_type": "code",
   "execution_count": 68,
   "id": "40da8133",
   "metadata": {},
   "outputs": [
    {
     "name": "stdout",
     "output_type": "stream",
     "text": [
      "(1, 2, 3, 4, 5, 6, 7, 8, 9)\n"
     ]
    }
   ],
   "source": [
    "a = tuple(range(1,10))\n",
    "print(a)"
   ]
  },
  {
   "cell_type": "code",
   "execution_count": 19,
   "id": "567fb9d2",
   "metadata": {},
   "outputs": [
    {
     "name": "stdout",
     "output_type": "stream",
     "text": [
      "900 900\n"
     ]
    }
   ],
   "source": [
    "a = (10+20)*30\n",
    "b = (10+20)*(30) #(30) works as a value\n",
    "\n",
    "print(a,b)"
   ]
  },
  {
   "cell_type": "code",
   "execution_count": 22,
   "id": "39a6f7f5",
   "metadata": {},
   "outputs": [
    {
     "name": "stdout",
     "output_type": "stream",
     "text": [
      "(1, 2, 3, 4, 5, 6)\n"
     ]
    }
   ],
   "source": [
    "#just like list and string ==> + works as concatenation and * woeks as repeatition\n",
    "a = (1,2,3)\n",
    "b = (4,5,6)\n",
    "print(a+b) #concatenation"
   ]
  },
  {
   "cell_type": "code",
   "execution_count": 23,
   "id": "059af529",
   "metadata": {},
   "outputs": [
    {
     "name": "stdout",
     "output_type": "stream",
     "text": [
      "(1, 2, 3, 4, 1, 2, 3, 4, 1, 2, 3, 4)\n"
     ]
    }
   ],
   "source": [
    "a = (1,2,3,4)\n",
    "print(a*3) #repeatition"
   ]
  },
  {
   "cell_type": "code",
   "execution_count": 39,
   "id": "e193530d",
   "metadata": {},
   "outputs": [
    {
     "name": "stdout",
     "output_type": "stream",
     "text": [
      "(1, 2, 3, 'mithun')\n"
     ]
    }
   ],
   "source": [
    "#indexing and slicing same as list and string\n",
    "a = (1,2,3,\"mithun\")\n",
    "print(a)\n"
   ]
  },
  {
   "cell_type": "code",
   "execution_count": 40,
   "id": "55c5d5af",
   "metadata": {},
   "outputs": [
    {
     "name": "stdout",
     "output_type": "stream",
     "text": [
      "1\n"
     ]
    }
   ],
   "source": [
    "print(a[0])"
   ]
  },
  {
   "cell_type": "code",
   "execution_count": 41,
   "id": "335106c1",
   "metadata": {},
   "outputs": [
    {
     "ename": "IndexError",
     "evalue": "tuple index out of range",
     "output_type": "error",
     "traceback": [
      "\u001b[1;31m---------------------------------------------------------------------------\u001b[0m",
      "\u001b[1;31mIndexError\u001b[0m                                Traceback (most recent call last)",
      "Cell \u001b[1;32mIn[41], line 1\u001b[0m\n\u001b[1;32m----> 1\u001b[0m \u001b[38;5;28mprint\u001b[39m(a[\u001b[38;5;241m100\u001b[39m])\n",
      "\u001b[1;31mIndexError\u001b[0m: tuple index out of range"
     ]
    }
   ],
   "source": [
    "print(a[100])"
   ]
  },
  {
   "cell_type": "code",
   "execution_count": 1,
   "id": "fb0bc8a3",
   "metadata": {},
   "outputs": [
    {
     "name": "stdout",
     "output_type": "stream",
     "text": [
      "(10, 20, 30)\n"
     ]
    }
   ],
   "source": [
    "a = (10,20,30,12.5,\"mithun\",25)\n",
    "m=(a[:3]) #begining to 3-1 index\n",
    "print(m)"
   ]
  },
  {
   "cell_type": "code",
   "execution_count": 43,
   "id": "2538fdb9",
   "metadata": {},
   "outputs": [
    {
     "name": "stdout",
     "output_type": "stream",
     "text": [
      "(10, 20, 30, 12.5, 'mithun', 25)\n"
     ]
    }
   ],
   "source": [
    "print(a)"
   ]
  },
  {
   "cell_type": "code",
   "execution_count": 44,
   "id": "96fcbbf2",
   "metadata": {},
   "outputs": [
    {
     "name": "stdout",
     "output_type": "stream",
     "text": [
      "(12.5, 'mithun', 25)\n"
     ]
    }
   ],
   "source": [
    "print(a[3:])"
   ]
  },
  {
   "cell_type": "code",
   "execution_count": 45,
   "id": "bff6dcb1",
   "metadata": {},
   "outputs": [
    {
     "ename": "TypeError",
     "evalue": "'tuple' object does not support item assignment",
     "output_type": "error",
     "traceback": [
      "\u001b[1;31m---------------------------------------------------------------------------\u001b[0m",
      "\u001b[1;31mTypeError\u001b[0m                                 Traceback (most recent call last)",
      "Cell \u001b[1;32mIn[45], line 3\u001b[0m\n\u001b[0;32m      1\u001b[0m \u001b[38;5;66;03m#tuple is immutable : we can not chnage anything in tuple \u001b[39;00m\n\u001b[0;32m      2\u001b[0m a \u001b[38;5;241m=\u001b[39m (\u001b[38;5;241m1\u001b[39m,\u001b[38;5;241m2\u001b[39m,\u001b[38;5;241m3\u001b[39m,\u001b[38;5;241m4\u001b[39m,\u001b[38;5;124m\"\u001b[39m\u001b[38;5;124mmithun\u001b[39m\u001b[38;5;124m\"\u001b[39m)\n\u001b[1;32m----> 3\u001b[0m a[\u001b[38;5;241m0\u001b[39m] \u001b[38;5;241m=\u001b[39m \u001b[38;5;124m\"\u001b[39m\u001b[38;5;124m500\u001b[39m\u001b[38;5;124m\"\u001b[39m\n\u001b[0;32m      4\u001b[0m \u001b[38;5;28mprint\u001b[39m(a)\n",
      "\u001b[1;31mTypeError\u001b[0m: 'tuple' object does not support item assignment"
     ]
    }
   ],
   "source": [
    "#tuple is immutable : we can not chnage anything in tuple \n",
    "a = (1,2,3,4,\"mithun\")\n",
    "a[0] = \"500\" # can't change anythig inside tuple\n",
    "print(a)"
   ]
  },
  {
   "cell_type": "code",
   "execution_count": 1,
   "id": "ad57e50f",
   "metadata": {},
   "outputs": [
    {
     "ename": "TypeError",
     "evalue": "can only concatenate tuple (not \"list\") to tuple",
     "output_type": "error",
     "traceback": [
      "\u001b[1;31m---------------------------------------------------------------------------\u001b[0m",
      "\u001b[1;31mTypeError\u001b[0m                                 Traceback (most recent call last)",
      "Cell \u001b[1;32mIn[1], line 3\u001b[0m\n\u001b[0;32m      1\u001b[0m a \u001b[38;5;241m=\u001b[39m (\u001b[38;5;241m1\u001b[39m,\u001b[38;5;241m2\u001b[39m,\u001b[38;5;241m3\u001b[39m)\n\u001b[0;32m      2\u001b[0m b \u001b[38;5;241m=\u001b[39m [\u001b[38;5;241m4\u001b[39m,\u001b[38;5;241m5\u001b[39m,\u001b[38;5;241m6\u001b[39m]\n\u001b[1;32m----> 3\u001b[0m \u001b[38;5;28mprint\u001b[39m(a\u001b[38;5;241m+\u001b[39mb)\n",
      "\u001b[1;31mTypeError\u001b[0m: can only concatenate tuple (not \"list\") to tuple"
     ]
    }
   ],
   "source": [
    "a = (1,2,3)\n",
    "b = [4,5,6]\n",
    "print(a+b)  # error... 'a' and 'b' ka type same hona chahiye."
   ]
  },
  {
   "cell_type": "code",
   "execution_count": 2,
   "id": "1b8e1e8c",
   "metadata": {},
   "outputs": [
    {
     "name": "stdout",
     "output_type": "stream",
     "text": [
      "4\n"
     ]
    }
   ],
   "source": [
    "# important function on tuple\n",
    "# add, remove, insert ==> no such methods on tuple cuz it is immutable\n",
    "# len ==> list, string, tuple\n",
    "a = (1,2,3,4)\n",
    "print(len(a))"
   ]
  },
  {
   "cell_type": "code",
   "execution_count": 3,
   "id": "f8527225",
   "metadata": {},
   "outputs": [
    {
     "name": "stdout",
     "output_type": "stream",
     "text": [
      "2\n"
     ]
    }
   ],
   "source": [
    "b = ((1,2,3),\"mithun\")\n",
    "print(len(b))  # 2 elements are there "
   ]
  },
  {
   "cell_type": "code",
   "execution_count": 5,
   "id": "9c005c3b",
   "metadata": {},
   "outputs": [
    {
     "name": "stdout",
     "output_type": "stream",
     "text": [
      "(1, 2, 3)\n"
     ]
    }
   ],
   "source": [
    "print(b[0])"
   ]
  },
  {
   "cell_type": "code",
   "execution_count": 6,
   "id": "0889d818",
   "metadata": {},
   "outputs": [
    {
     "name": "stdout",
     "output_type": "stream",
     "text": [
      "8\n"
     ]
    }
   ],
   "source": [
    "#count==> to count no of occurences of an eleent in tuple\n",
    "a = (1,2,3,4,5,5,5,5,5,5,5,5)\n",
    "print(a.count(5))"
   ]
  },
  {
   "cell_type": "code",
   "execution_count": 7,
   "id": "801a3576",
   "metadata": {},
   "outputs": [
    {
     "name": "stdout",
     "output_type": "stream",
     "text": [
      "0\n"
     ]
    }
   ],
   "source": [
    "print(a.count(15)) #count function does not gives error "
   ]
  },
  {
   "cell_type": "code",
   "execution_count": 18,
   "id": "1a9c3286",
   "metadata": {},
   "outputs": [
    {
     "name": "stdout",
     "output_type": "stream",
     "text": [
      "[1, 2, 3, 4]\n"
     ]
    }
   ],
   "source": [
    "a = (1,2,3,4)\n",
    "b = list(a)   #converting tuple to list\n",
    "print(b)\n"
   ]
  },
  {
   "cell_type": "raw",
   "id": "8d31b89f",
   "metadata": {},
   "source": [
    "#sorted function in tuple"
   ]
  },
  {
   "cell_type": "code",
   "execution_count": 23,
   "id": "fdc4b993",
   "metadata": {},
   "outputs": [
    {
     "name": "stdout",
     "output_type": "stream",
     "text": [
      "[5, 10, 15, 25, 35, 45]\n",
      "(5, 10, 25, 15, 45, 35)\n"
     ]
    }
   ],
   "source": [
    "a = (5,10,25,15,45,35)\n",
    "b = sorted(a) # a list is returned\n",
    "print(b) # with sorted data a list is created  #default is accending order\n",
    "print(a) # 'a' is same as it is immutable "
   ]
  },
  {
   "cell_type": "code",
   "execution_count": 24,
   "id": "93040006",
   "metadata": {},
   "outputs": [
    {
     "name": "stdout",
     "output_type": "stream",
     "text": [
      "[45, 35, 25, 15, 10, 5]\n",
      "(5, 10, 25, 15, 45, 35)\n"
     ]
    }
   ],
   "source": [
    "a = (5,10,25,15,45,35)\n",
    "b = sorted(a , reverse=True) # a list is returned  #reverse=True   ==> descending order mai list create hoga\n",
    "print(b) # with sorted data a list is created  \n",
    "print(a) # 'a' is same as it is immutable "
   ]
  },
  {
   "cell_type": "code",
   "execution_count": 27,
   "id": "9ece955b",
   "metadata": {},
   "outputs": [
    {
     "name": "stdout",
     "output_type": "stream",
     "text": [
      "['h', 'i', 'm', 'n', 't', 'u']\n"
     ]
    }
   ],
   "source": [
    "a = (\"mithun\")\n",
    "b = sorted(a)\n",
    "print(b)"
   ]
  },
  {
   "cell_type": "code",
   "execution_count": 28,
   "id": "0d6dcf13",
   "metadata": {},
   "outputs": [
    {
     "name": "stdout",
     "output_type": "stream",
     "text": [
      "['a', 'a', 'n', 'p', 'r', 't']\n"
     ]
    }
   ],
   "source": [
    "b = sorted(\"raptan\")\n",
    "print(b)"
   ]
  },
  {
   "cell_type": "code",
   "execution_count": 29,
   "id": "c5f4fc71",
   "metadata": {},
   "outputs": [
    {
     "name": "stdout",
     "output_type": "stream",
     "text": [
      "['t', 'r', 'p', 'n', 'a', 'a']\n"
     ]
    }
   ],
   "source": [
    "b = sorted(\"raptan\", reverse=True)\n",
    "print(b)"
   ]
  },
  {
   "cell_type": "code",
   "execution_count": 31,
   "id": "b1bd6e4a",
   "metadata": {},
   "outputs": [
    {
     "ename": "TypeError",
     "evalue": "'<' not supported between instances of 'str' and 'int'",
     "output_type": "error",
     "traceback": [
      "\u001b[1;31m---------------------------------------------------------------------------\u001b[0m",
      "\u001b[1;31mTypeError\u001b[0m                                 Traceback (most recent call last)",
      "Cell \u001b[1;32mIn[31], line 2\u001b[0m\n\u001b[0;32m      1\u001b[0m x \u001b[38;5;241m=\u001b[39m (\u001b[38;5;241m2\u001b[39m,\u001b[38;5;241m3\u001b[39m,\u001b[38;5;241m4\u001b[39m,\u001b[38;5;124m\"\u001b[39m\u001b[38;5;124mmithun\u001b[39m\u001b[38;5;124m\"\u001b[39m)\n\u001b[1;32m----> 2\u001b[0m y \u001b[38;5;241m=\u001b[39m \u001b[38;5;28msorted\u001b[39m(x)\n",
      "\u001b[1;31mTypeError\u001b[0m: '<' not supported between instances of 'str' and 'int'"
     ]
    }
   ],
   "source": [
    "x = (2,3,4,\"mithun\")\n",
    "y = sorted(x)  # can not apply sorted bcuz elements are not of same type\n",
    "print(y)"
   ]
  },
  {
   "cell_type": "raw",
   "id": "fcc55922",
   "metadata": {},
   "source": [
    "#max and min in tuple"
   ]
  },
  {
   "cell_type": "code",
   "execution_count": 32,
   "id": "2ce60f2e",
   "metadata": {},
   "outputs": [
    {
     "data": {
      "text/plain": [
       "'u'"
      ]
     },
     "execution_count": 32,
     "metadata": {},
     "output_type": "execute_result"
    }
   ],
   "source": [
    "a = (\"mithun\")\n",
    "max(a)"
   ]
  },
  {
   "cell_type": "code",
   "execution_count": 35,
   "id": "d86c2ecc",
   "metadata": {},
   "outputs": [
    {
     "name": "stdout",
     "output_type": "stream",
     "text": [
      "45\n",
      "5\n"
     ]
    }
   ],
   "source": [
    "a = (5,10,25,15,45,35)\n",
    "print(max(a))\n",
    "print(min(a))"
   ]
  },
  {
   "cell_type": "raw",
   "id": "5cbad77f",
   "metadata": {},
   "source": [
    "# packing unpacking in tuple"
   ]
  },
  {
   "cell_type": "code",
   "execution_count": 3,
   "id": "477c4c41",
   "metadata": {},
   "outputs": [
    {
     "name": "stdout",
     "output_type": "stream",
     "text": [
      "14 mithun 34 raptan\n"
     ]
    }
   ],
   "source": [
    "a = 14\n",
    "b = \"mithun\"\n",
    "c = 34\n",
    "d = \"raptan\"\n",
    "t = a,b,c,d #packing  #a,b,c,d packed into t\n",
    "\n",
    "e,f,g,h = t #unpacking  #from t the value of a,b,c,d will comes into e,f,g,h\n",
    "print(e,f,g,h)\n",
    "\n"
   ]
  },
  {
   "cell_type": "code",
   "execution_count": 37,
   "id": "8e73593d",
   "metadata": {},
   "outputs": [
    {
     "ename": "ValueError",
     "evalue": "too many values to unpack (expected 2)",
     "output_type": "error",
     "traceback": [
      "\u001b[1;31m---------------------------------------------------------------------------\u001b[0m",
      "\u001b[1;31mValueError\u001b[0m                                Traceback (most recent call last)",
      "Cell \u001b[1;32mIn[37], line 8\u001b[0m\n\u001b[0;32m      4\u001b[0m d \u001b[38;5;241m=\u001b[39m \u001b[38;5;124m\"\u001b[39m\u001b[38;5;124mraptan\u001b[39m\u001b[38;5;124m\"\u001b[39m\n\u001b[0;32m      5\u001b[0m t \u001b[38;5;241m=\u001b[39m a,b,c,d \u001b[38;5;66;03m#packing\u001b[39;00m\n\u001b[1;32m----> 8\u001b[0m e,f \u001b[38;5;241m=\u001b[39mt\n\u001b[0;32m      9\u001b[0m \u001b[38;5;28mprint\u001b[39m(e,f)\n",
      "\u001b[1;31mValueError\u001b[0m: too many values to unpack (expected 2)"
     ]
    }
   ],
   "source": [
    "a = 14\n",
    "b = \"mithun\"\n",
    "c = 34\n",
    "d = \"raptan\"\n",
    "t = a,b,c,d #packing  ..# a,b,c,d packed into t\n",
    "\n",
    "\n",
    "e,f =t #error ...RHS is a pack of four elements... need same variable when unpacking\n",
    "print(e,f)"
   ]
  },
  {
   "cell_type": "code",
   "execution_count": 41,
   "id": "95109339",
   "metadata": {},
   "outputs": [],
   "source": [
    " # comprehension concepts does works for tuple."
   ]
  },
  {
   "cell_type": "markdown",
   "id": "6ed99e54",
   "metadata": {},
   "source": [
    "# set"
   ]
  },
  {
   "cell_type": "code",
   "execution_count": 42,
   "id": "acc3f07f",
   "metadata": {},
   "outputs": [],
   "source": [
    "#duplicates not allowed\n",
    "#unordered   ==> but we can sort\n",
    "#no indexing concept\n",
    "#no slicing concept\n",
    "#heterogeneous \n",
    "#mutable\n"
   ]
  },
  {
   "cell_type": "code",
   "execution_count": 49,
   "id": "6de3b3ff",
   "metadata": {},
   "outputs": [
    {
     "name": "stdout",
     "output_type": "stream",
     "text": [
      "<class 'set'>\n"
     ]
    }
   ],
   "source": [
    "#a = {} # this is not the way to create empty set. cuz in python it's called dictionary\n",
    "#print(type(a))  # returns dictionary\n",
    "\n",
    "\n",
    "# creating empty set in pyhton\n",
    "a = set()\n",
    "print(type(a))"
   ]
  },
  {
   "cell_type": "code",
   "execution_count": 55,
   "id": "028b902c",
   "metadata": {},
   "outputs": [
    {
     "name": "stdout",
     "output_type": "stream",
     "text": [
      "{1, 2, 3}\n",
      "<class 'set'>\n"
     ]
    }
   ],
   "source": [
    "a = {1,2,3}\n",
    "print(a)\n",
    "print(type(a))"
   ]
  },
  {
   "cell_type": "code",
   "execution_count": 58,
   "id": "d4bcaddb",
   "metadata": {},
   "outputs": [
    {
     "name": "stdout",
     "output_type": "stream",
     "text": [
      "{1}\n",
      "<class 'set'>\n"
     ]
    }
   ],
   "source": [
    "a = {1}\n",
    "print(a)\n",
    "print(type(a))"
   ]
  },
  {
   "cell_type": "code",
   "execution_count": 63,
   "id": "6f58a032",
   "metadata": {},
   "outputs": [
    {
     "name": "stdout",
     "output_type": "stream",
     "text": [
      "{'t', 'r', 'a', 'n', 'p'}\n"
     ]
    }
   ],
   "source": [
    "a = set(\"raptan\")  #convering string to set \n",
    "                   # duplicates elements not allowed  ==> 'a' will come only once \n",
    "                   # unordered ==> \n",
    "print(a)"
   ]
  },
  {
   "cell_type": "code",
   "execution_count": 38,
   "id": "85092759",
   "metadata": {},
   "outputs": [
    {
     "name": "stdout",
     "output_type": "stream",
     "text": [
      "{1, 2, 3, 4, 5, 23}\n"
     ]
    }
   ],
   "source": [
    "a = {1,1,1,23,2,4,3,5}\n",
    "print(a)  # 1 will come only once"
   ]
  },
  {
   "cell_type": "code",
   "execution_count": 4,
   "id": "61a5c9e9",
   "metadata": {},
   "outputs": [
    {
     "name": "stdout",
     "output_type": "stream",
     "text": [
      "{1, 2, 3, 4}\n"
     ]
    }
   ],
   "source": [
    "a = set([1,2,3,4,1,1,1,])\n",
    "print(a)"
   ]
  },
  {
   "cell_type": "code",
   "execution_count": 5,
   "id": "0242c758",
   "metadata": {},
   "outputs": [
    {
     "name": "stdout",
     "output_type": "stream",
     "text": [
      "{2, 3, 4, 5}\n"
     ]
    }
   ],
   "source": [
    "a = set((2,3,4,5))\n",
    "print(a)"
   ]
  },
  {
   "cell_type": "raw",
   "id": "3312652e",
   "metadata": {},
   "source": [
    "# we can add and remove an element from the set bcuz set is dynamic "
   ]
  },
  {
   "cell_type": "code",
   "execution_count": 40,
   "id": "32b385b2",
   "metadata": {},
   "outputs": [
    {
     "name": "stdout",
     "output_type": "stream",
     "text": [
      "{1, 2, 3, 4, 5, 45}\n",
      "{1, 2, 3, 4, 45}\n"
     ]
    }
   ],
   "source": [
    "a = {1,2,3,4,5}\n",
    "a.add(45)\n",
    "print(a)\n",
    "\n",
    "a.remove(5)\n",
    "print(a)"
   ]
  },
  {
   "cell_type": "raw",
   "id": "6f74efac",
   "metadata": {},
   "source": [
    "#we can only directly add immutable elements using 'add()' to the set i.e, tuple, string\n"
   ]
  },
  {
   "cell_type": "code",
   "execution_count": 41,
   "id": "b33053f1",
   "metadata": {},
   "outputs": [
    {
     "name": "stdout",
     "output_type": "stream",
     "text": [
      "{1, 2, 3, 4, (20, 30, 40), 45}\n"
     ]
    }
   ],
   "source": [
    "a.add((20,30,40)) #adding a tuple inside set  ## tuple ==>immutable\n",
    "print(a)"
   ]
  },
  {
   "cell_type": "code",
   "execution_count": 42,
   "id": "e03122cf",
   "metadata": {},
   "outputs": [
    {
     "name": "stdout",
     "output_type": "stream",
     "text": [
      "{'mithun', 1, 2, 3, 4, (20, 30, 40), 45}\n"
     ]
    }
   ],
   "source": [
    "a.add(\"mithun\") #string is immutable this is why it is added into set\n",
    "print(a)"
   ]
  },
  {
   "cell_type": "code",
   "execution_count": 43,
   "id": "152184c3",
   "metadata": {},
   "outputs": [
    {
     "ename": "TypeError",
     "evalue": "unhashable type: 'list'",
     "output_type": "error",
     "traceback": [
      "\u001b[1;31m---------------------------------------------------------------------------\u001b[0m",
      "\u001b[1;31mTypeError\u001b[0m                                 Traceback (most recent call last)",
      "Cell \u001b[1;32mIn[43], line 1\u001b[0m\n\u001b[1;32m----> 1\u001b[0m a\u001b[38;5;241m.\u001b[39madd([\u001b[38;5;241m200\u001b[39m,\u001b[38;5;241m300\u001b[39m,\u001b[38;5;241m400\u001b[39m])  \u001b[38;5;66;03m# list is mutable == can't add into set\u001b[39;00m\n\u001b[0;32m      2\u001b[0m \u001b[38;5;28mprint\u001b[39m(a)\n",
      "\u001b[1;31mTypeError\u001b[0m: unhashable type: 'list'"
     ]
    }
   ],
   "source": [
    "a.add([200,300,400])  # list is mutable == can't add into set\n",
    "print(a)\n"
   ]
  },
  {
   "cell_type": "code",
   "execution_count": 44,
   "id": "cd2d2c8a",
   "metadata": {},
   "outputs": [],
   "source": [
    "#to adding mutable data type in the set there is method called 'update'\n",
    "  # update() :does not take individual elements as arguments.\n",
    "              # only take iterable element like list, set also(indexing is not there means we can't access particular element)\n",
    "                                                                                    #but we can iterate setover their elelemnts using for loop. "
   ]
  },
  {
   "cell_type": "code",
   "execution_count": 45,
   "id": "32a7bd2f",
   "metadata": {},
   "outputs": [],
   "source": [
    "a.update([100,200,300]) #list  ==>mutable\n",
    "                                    #order nhi hai set me. isliliye jaha marji uha add hoga"
   ]
  },
  {
   "cell_type": "code",
   "execution_count": 46,
   "id": "bf2646ec",
   "metadata": {},
   "outputs": [
    {
     "data": {
      "text/plain": [
       "{(20, 30, 40), 1, 100, 2, 200, 3, 300, 4, 45, 'mithun'}"
      ]
     },
     "execution_count": 46,
     "metadata": {},
     "output_type": "execute_result"
    }
   ],
   "source": [
    "a"
   ]
  },
  {
   "cell_type": "code",
   "execution_count": 47,
   "id": "7b064f57",
   "metadata": {},
   "outputs": [
    {
     "name": "stdout",
     "output_type": "stream",
     "text": [
      "{1, 2, 3, 4, 'r', 200, 'n', 'p', (20, 30, 40), 100, 'a', 300, 45, 'mithun', 't'}\n"
     ]
    }
   ],
   "source": [
    "a.update(\"raptan\")\n",
    "print(a)"
   ]
  },
  {
   "cell_type": "code",
   "execution_count": 48,
   "id": "35237d11",
   "metadata": {},
   "outputs": [
    {
     "name": "stdout",
     "output_type": "stream",
     "text": [
      "{1, 2, 3, 4, 'r', 200, 'n', 'p', (20, 30, 40), 100, 'a', 300, 45, 'mithun', -2, 't', -3, -1}\n"
     ]
    }
   ],
   "source": [
    "\n",
    "a.update((-1,-2,-3))\n",
    "print(a)"
   ]
  },
  {
   "cell_type": "code",
   "execution_count": 49,
   "id": "9e9e5b07",
   "metadata": {},
   "outputs": [
    {
     "ename": "TypeError",
     "evalue": "'float' object is not iterable",
     "output_type": "error",
     "traceback": [
      "\u001b[1;31m---------------------------------------------------------------------------\u001b[0m",
      "\u001b[1;31mTypeError\u001b[0m                                 Traceback (most recent call last)",
      "Cell \u001b[1;32mIn[49], line 1\u001b[0m\n\u001b[1;32m----> 1\u001b[0m a\u001b[38;5;241m.\u001b[39mupdate(\u001b[38;5;241m12.34\u001b[39m) \n\u001b[0;32m      2\u001b[0m \u001b[38;5;28mprint\u001b[39m(a)\n",
      "\u001b[1;31mTypeError\u001b[0m: 'float' object is not iterable"
     ]
    }
   ],
   "source": [
    "a.update(12.34) \n",
    "print(a)  # doesn't take individual element as an argument"
   ]
  },
  {
   "cell_type": "code",
   "execution_count": 51,
   "id": "5afcc3b4",
   "metadata": {},
   "outputs": [
    {
     "ename": "TypeError",
     "evalue": "'int' object is not iterable",
     "output_type": "error",
     "traceback": [
      "\u001b[1;31m---------------------------------------------------------------------------\u001b[0m",
      "\u001b[1;31mTypeError\u001b[0m                                 Traceback (most recent call last)",
      "Cell \u001b[1;32mIn[51], line 1\u001b[0m\n\u001b[1;32m----> 1\u001b[0m a\u001b[38;5;241m.\u001b[39mupdate(\u001b[38;5;241m125\u001b[39m) \u001b[38;5;66;03m# doesn't take individual element as an argument\u001b[39;00m\n\u001b[0;32m      2\u001b[0m \u001b[38;5;28mprint\u001b[39m(a)\n",
      "\u001b[1;31mTypeError\u001b[0m: 'int' object is not iterable"
     ]
    }
   ],
   "source": [
    "a.update(125) # doesn't take individual element as an argument\n",
    "print(a)\n"
   ]
  },
  {
   "cell_type": "code",
   "execution_count": 3,
   "id": "92d19053",
   "metadata": {},
   "outputs": [
    {
     "name": "stdout",
     "output_type": "stream",
     "text": [
      "{2, 3, 4, 5, 6, 7}\n"
     ]
    }
   ],
   "source": [
    "#set added into set => mutable added \n",
    "m={3,4}\n",
    "m.update({5,6,7,4,3,2})\n",
    "print(m)"
   ]
  },
  {
   "cell_type": "code",
   "execution_count": 25,
   "id": "86abad38",
   "metadata": {},
   "outputs": [
    {
     "name": "stdout",
     "output_type": "stream",
     "text": [
      "{1, 2, 3, 4, 'r', 200, 'n', 12.34, 'p', (20, 30, 40), 100, 'a', 300, 45, 'mithun', -2, 't', -3, -1}\n"
     ]
    }
   ],
   "source": [
    "a.add(12.34) # add ==> take individual element as an argument also.\n",
    "print(a)"
   ]
  },
  {
   "cell_type": "raw",
   "id": "bd621ec7",
   "metadata": {},
   "source": [
    "#chotokhato program for concept clearing"
   ]
  },
  {
   "cell_type": "code",
   "execution_count": 6,
   "id": "54db71a4",
   "metadata": {},
   "outputs": [
    {
     "name": "stdout",
     "output_type": "stream",
     "text": [
      "enter the set element using space: 1 2 3 4 5\n",
      "['1', '2', '3', '4', '5']\n",
      "{1, 2, 3, 4, 5}\n"
     ]
    }
   ],
   "source": [
    "a = input(\"enter the set element using space: \").split()\n",
    "print(a)\n",
    "s = set() # creating empty set \n",
    "for value in a:\n",
    "    s.add(int(value))  # append is not there in set\n",
    "                        #update() ==> does not take individual element as an arg\n",
    "                #add() ==> takes individual argument also.\n",
    "print(s)\n",
    "    "
   ]
  },
  {
   "cell_type": "code",
   "execution_count": 9,
   "id": "0b100883",
   "metadata": {},
   "outputs": [
    {
     "name": "stdout",
     "output_type": "stream",
     "text": [
      "enter the number using space here1 2 3\n",
      "{1, 2, 3}\n"
     ]
    }
   ],
   "source": [
    "a = input(\"enter the number using space here\"). split()\n",
    "emptyset = set()\n",
    "for number in a:\n",
    "    emptyset.add(int(number))\n",
    "print(emptyset)"
   ]
  },
  {
   "cell_type": "code",
   "execution_count": null,
   "id": "c64c5f47",
   "metadata": {},
   "outputs": [],
   "source": []
  },
  {
   "cell_type": "raw",
   "id": "8d9c3798",
   "metadata": {},
   "source": [
    "#copy() ==> copy the entire set "
   ]
  },
  {
   "cell_type": "code",
   "execution_count": 62,
   "id": "5647f896",
   "metadata": {},
   "outputs": [
    {
     "name": "stdout",
     "output_type": "stream",
     "text": [
      "{1, 2, 3}\n"
     ]
    }
   ],
   "source": [
    "a ={1,2,3}\n",
    "b = a.copy()\n",
    "print(b)"
   ]
  },
  {
   "cell_type": "raw",
   "id": "afcf8ab9",
   "metadata": {},
   "source": [
    "# remove() ==> remove the particular element from the set and remove doesn't return anything\n",
    "                # if the element is not present ==>error\n",
    "                # if empty set ==>error\n",
    "# pop() ==> remove any of the element from the set(bcuz set has no indexing concept) and return the \n",
    "element\n",
    "                 #empty set ==>error\n",
    "                 \n",
    "#discard() ==> remove the element from the set\n",
    "                 #empty set ==>error\n",
    "                 #if the element is not present ==>not error\n",
    "               "
   ]
  },
  {
   "cell_type": "code",
   "execution_count": 76,
   "id": "02fa85d0",
   "metadata": {},
   "outputs": [
    {
     "name": "stdout",
     "output_type": "stream",
     "text": [
      "{1, 2, 4}\n"
     ]
    }
   ],
   "source": [
    "#remove()\n",
    "a = {1,2,3,4}\n",
    "a.remove(3)\n",
    "print(a)"
   ]
  },
  {
   "cell_type": "code",
   "execution_count": 77,
   "id": "b69fbd98",
   "metadata": {},
   "outputs": [
    {
     "name": "stdout",
     "output_type": "stream",
     "text": [
      "1224740944832\n",
      "1\n",
      "{2, 3, 4, 5, 6}\n",
      "1224740944832\n"
     ]
    }
   ],
   "source": [
    "#pop()==> we can't put index inside pop bcuz set has no index concept\n",
    "            # pop the random element from the set\n",
    "b = {1,2,3,4,5,6}\n",
    "print(id(b))\n",
    "pop_element = b.pop()\n",
    "print(pop_element)\n",
    "print(b) \n",
    "print(id(b))     # b is mutable this is why b set changed with same id reference\n"
   ]
  },
  {
   "cell_type": "raw",
   "id": "c32a6eb5",
   "metadata": {},
   "source": [
    "# difference check of pop(),remove() and discard()\n"
   ]
  },
  {
   "cell_type": "code",
   "execution_count": 95,
   "id": "2283e675",
   "metadata": {},
   "outputs": [],
   "source": [
    "# for empty set all gives the error\n",
    "a = set() # creating empty set"
   ]
  },
  {
   "cell_type": "code",
   "execution_count": 96,
   "id": "3bfe396b",
   "metadata": {},
   "outputs": [
    {
     "ename": "KeyError",
     "evalue": "'pop from an empty set'",
     "output_type": "error",
     "traceback": [
      "\u001b[1;31m---------------------------------------------------------------------------\u001b[0m",
      "\u001b[1;31mKeyError\u001b[0m                                  Traceback (most recent call last)",
      "Cell \u001b[1;32mIn[96], line 1\u001b[0m\n\u001b[1;32m----> 1\u001b[0m a\u001b[38;5;241m.\u001b[39mpop()\n\u001b[0;32m      2\u001b[0m \u001b[38;5;28mprint\u001b[39m(a)\n",
      "\u001b[1;31mKeyError\u001b[0m: 'pop from an empty set'"
     ]
    }
   ],
   "source": [
    "\n",
    "a.pop()\n",
    "print(a)"
   ]
  },
  {
   "cell_type": "code",
   "execution_count": 97,
   "id": "e6bc058e",
   "metadata": {},
   "outputs": [
    {
     "ename": "TypeError",
     "evalue": "set.remove() takes exactly one argument (0 given)",
     "output_type": "error",
     "traceback": [
      "\u001b[1;31m---------------------------------------------------------------------------\u001b[0m",
      "\u001b[1;31mTypeError\u001b[0m                                 Traceback (most recent call last)",
      "Cell \u001b[1;32mIn[97], line 1\u001b[0m\n\u001b[1;32m----> 1\u001b[0m a\u001b[38;5;241m.\u001b[39mremove()\n\u001b[0;32m      2\u001b[0m \u001b[38;5;28mprint\u001b[39m(a)\n",
      "\u001b[1;31mTypeError\u001b[0m: set.remove() takes exactly one argument (0 given)"
     ]
    }
   ],
   "source": [
    "a.remove()\n",
    "print(a)"
   ]
  },
  {
   "cell_type": "code",
   "execution_count": 98,
   "id": "900071f9",
   "metadata": {},
   "outputs": [
    {
     "ename": "TypeError",
     "evalue": "set.discard() takes exactly one argument (0 given)",
     "output_type": "error",
     "traceback": [
      "\u001b[1;31m---------------------------------------------------------------------------\u001b[0m",
      "\u001b[1;31mTypeError\u001b[0m                                 Traceback (most recent call last)",
      "Cell \u001b[1;32mIn[98], line 1\u001b[0m\n\u001b[1;32m----> 1\u001b[0m a\u001b[38;5;241m.\u001b[39mdiscard()\n\u001b[0;32m      2\u001b[0m \u001b[38;5;28mprint\u001b[39m(a)\n",
      "\u001b[1;31mTypeError\u001b[0m: set.discard() takes exactly one argument (0 given)"
     ]
    }
   ],
   "source": [
    "a.discard()\n",
    "print(a)"
   ]
  },
  {
   "cell_type": "code",
   "execution_count": 116,
   "id": "59185adb",
   "metadata": {},
   "outputs": [],
   "source": [
    "#for not empty set\n",
    "a = {1,2,3,4}"
   ]
  },
  {
   "cell_type": "code",
   "execution_count": 117,
   "id": "9329388d",
   "metadata": {},
   "outputs": [
    {
     "ename": "KeyError",
     "evalue": "500",
     "output_type": "error",
     "traceback": [
      "\u001b[1;31m---------------------------------------------------------------------------\u001b[0m",
      "\u001b[1;31mKeyError\u001b[0m                                  Traceback (most recent call last)",
      "Cell \u001b[1;32mIn[117], line 1\u001b[0m\n\u001b[1;32m----> 1\u001b[0m a\u001b[38;5;241m.\u001b[39mremove(\u001b[38;5;241m500\u001b[39m)\n",
      "\u001b[1;31mKeyError\u001b[0m: 500"
     ]
    }
   ],
   "source": [
    "a.remove(500)"
   ]
  },
  {
   "cell_type": "code",
   "execution_count": 118,
   "id": "1344d51a",
   "metadata": {},
   "outputs": [],
   "source": [
    "a.discard(500) # discard not gives error if the element is not present."
   ]
  },
  {
   "cell_type": "code",
   "execution_count": 120,
   "id": "c8fa787e",
   "metadata": {},
   "outputs": [
    {
     "data": {
      "text/plain": [
       "2"
      ]
     },
     "execution_count": 120,
     "metadata": {},
     "output_type": "execute_result"
    }
   ],
   "source": [
    "a.pop() # pop toh error ee debe na bcuz set is not empty . pop takes index but set has not index concept,,so pop jekono element tule debe."
   ]
  },
  {
   "cell_type": "raw",
   "id": "40579e16",
   "metadata": {},
   "source": [
    "#clear() ==> clear the entire set"
   ]
  },
  {
   "cell_type": "code",
   "execution_count": 126,
   "id": "ad8480cd",
   "metadata": {},
   "outputs": [
    {
     "name": "stdout",
     "output_type": "stream",
     "text": [
      "set()\n"
     ]
    }
   ],
   "source": [
    "a = {1,2,3,4,5,6}\n",
    "a.clear()\n",
    "print(a)\n"
   ]
  },
  {
   "cell_type": "code",
   "execution_count": null,
   "id": "90ce785d",
   "metadata": {},
   "outputs": [],
   "source": []
  }
 ],
 "metadata": {
  "kernelspec": {
   "display_name": "Python 3 (ipykernel)",
   "language": "python",
   "name": "python3"
  },
  "language_info": {
   "codemirror_mode": {
    "name": "ipython",
    "version": 3
   },
   "file_extension": ".py",
   "mimetype": "text/x-python",
   "name": "python",
   "nbconvert_exporter": "python",
   "pygments_lexer": "ipython3",
   "version": "3.11.5"
  }
 },
 "nbformat": 4,
 "nbformat_minor": 5
}
