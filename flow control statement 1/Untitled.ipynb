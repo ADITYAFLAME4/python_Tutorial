{
 "cells": [
  {
   "cell_type": "markdown",
   "id": "a35c5ff2",
   "metadata": {},
   "source": [
    "# control flow statement part 1"
   ]
  },
  {
   "cell_type": "markdown",
   "id": "eb4ac479",
   "metadata": {},
   "source": [
    "control flow statement== if statement and \n",
    "                          else statement"
   ]
  },
  {
   "cell_type": "raw",
   "id": "cbe5951e",
   "metadata": {},
   "source": [
    "## largest among 2 numbers"
   ]
  },
  {
   "cell_type": "code",
   "execution_count": 4,
   "id": "b486a98f",
   "metadata": {},
   "outputs": [
    {
     "name": "stdout",
     "output_type": "stream",
     "text": [
      "enter first number:6\n",
      "enter second number:3\n",
      "the largest number among 6 and 3 is 6\n"
     ]
    }
   ],
   "source": [
    "a = int(input(\"enter first number:\"))\n",
    "b = int(input(\"enter second number:\"))\n",
    "if a>b :\n",
    "    print(\"the largest number among\",a,\"and\",b,\"is\",a)\n",
    "else:\n",
    "    print(\"the largest number among\",a,\"and\",b,\"is\",b)\n",
    "    "
   ]
  },
  {
   "cell_type": "raw",
   "id": "28a41c0d",
   "metadata": {},
   "source": [
    "## largest among 3 numbers"
   ]
  },
  {
   "cell_type": "code",
   "execution_count": 1,
   "id": "92577cda",
   "metadata": {},
   "outputs": [
    {
     "name": "stdout",
     "output_type": "stream",
     "text": [
      "enter first number:5\n",
      "enter second number:10\n",
      "enter third number:50\n",
      "the largst among 5 10 and 50 is 50\n"
     ]
    }
   ],
   "source": [
    "a = int(input(\"enter first number:\"))\n",
    "b = int(input(\"enter second number:\"))\n",
    "c = int(input(\"enter third number:\"))\n",
    "if a>b and a>c:\n",
    "    print(\"the largest number among\",a,b,\"and\",c,\"is\",a)\n",
    "else:  ## this is nested condition concept==> codition ke andar condition ko nested condion kehte hai.\n",
    "    if b>c:\n",
    "        print(\"the largst among\",a,b,\"and\",c,\"is\",b)\n",
    "    else:\n",
    "        print(\"the largst among\",a,b,\"and\",c,\"is\",c)"
   ]
  },
  {
   "cell_type": "raw",
   "id": "72948bb8",
   "metadata": {},
   "source": [
    "elif conditon ==> we cannot put condition with else , this is why we put condition with 'elif'"
   ]
  },
  {
   "cell_type": "code",
   "execution_count": 3,
   "id": "c171ff73",
   "metadata": {},
   "outputs": [
    {
     "name": "stdout",
     "output_type": "stream",
     "text": [
      "enter first number:5\n",
      "enter second number:6\n",
      "enter third number:7\n",
      "the largest number among 5 6 and 7 is 7\n"
     ]
    }
   ],
   "source": [
    "a = int(input(\"enter first number:\"))\n",
    "b = int(input(\"enter second number:\"))\n",
    "c = int(input(\"enter third number:\"))\n",
    "if a>b and a>c:\n",
    "    print(\"the largest number among\",a,b,\"and\",c,\"is\",a)\n",
    "elif b>c :\n",
    "    print(\"the largest number among\",a,b,\"and\",c,\"is\",b)\n",
    "else : # else statement ==> default code will run \n",
    "    print(\"the largest number among\",a,b,\"and\",c,\"is\",c)\n",
    "    "
   ]
  },
  {
   "cell_type": "markdown",
   "id": "daab51ba",
   "metadata": {},
   "source": [
    "\n",
    "# loop"
   ]
  },
  {
   "cell_type": "markdown",
   "id": "50f30fbb",
   "metadata": {},
   "source": [
    "loop ==> for loop\n",
    "         "
   ]
  },
  {
   "cell_type": "raw",
   "id": "db8783ac",
   "metadata": {},
   "source": [
    "loop ==> repeat the code\n",
    "in python for loop syntax ==> for x in sequence :  # sequence is having group of elements i,e range, tupple, list, string, set, dictionary\n",
    "                                        code"
   ]
  },
  {
   "cell_type": "code",
   "execution_count": 4,
   "id": "670742fb",
   "metadata": {},
   "outputs": [
    {
     "name": "stdout",
     "output_type": "stream",
     "text": [
      "m\n",
      "i\n",
      "t\n",
      "h\n",
      "u\n",
      "n\n"
     ]
    }
   ],
   "source": [
    "for x in \"mithun\":\n",
    "    print(x)"
   ]
  },
  {
   "cell_type": "code",
   "execution_count": 11,
   "id": "adb3da49",
   "metadata": {},
   "outputs": [
    {
     "name": "stdout",
     "output_type": "stream",
     "text": [
      "the element of index 0 is m\n",
      "the element of index 1 is i\n",
      "the element of index 2 is t\n",
      "the element of index 3 is h\n",
      "the element of index 4 is u\n",
      "the element of index 5 is n\n"
     ]
    }
   ],
   "source": [
    "i=0\n",
    "for x in \"mithun\":\n",
    "    print(\"the element of index\",i,\"is\",x)\n",
    "    i=i+1\n",
    "       \n"
   ]
  },
  {
   "cell_type": "code",
   "execution_count": 12,
   "id": "b4a4a981",
   "metadata": {},
   "outputs": [
    {
     "name": "stdout",
     "output_type": "stream",
     "text": [
      "0\n",
      "1\n",
      "2\n",
      "3\n",
      "4\n"
     ]
    }
   ],
   "source": [
    "for x in range(5):\n",
    "    print(x)"
   ]
  },
  {
   "cell_type": "code",
   "execution_count": 13,
   "id": "08b84d71",
   "metadata": {},
   "outputs": [
    {
     "name": "stdout",
     "output_type": "stream",
     "text": [
      "mithun\n",
      "mithun\n",
      "mithun\n",
      "mithun\n",
      "mithun\n"
     ]
    }
   ],
   "source": [
    "for x in range(5):\n",
    "    print(\"mithun\")"
   ]
  },
  {
   "cell_type": "code",
   "execution_count": 14,
   "id": "ddc8865c",
   "metadata": {},
   "outputs": [
    {
     "name": "stdout",
     "output_type": "stream",
     "text": [
      "1\n",
      "2\n",
      "3\n",
      "4\n",
      "5\n"
     ]
    }
   ],
   "source": [
    "for x in range(1,6):\n",
    "    print(x)"
   ]
  },
  {
   "cell_type": "code",
   "execution_count": 20,
   "id": "072ad16f",
   "metadata": {},
   "outputs": [
    {
     "name": "stdout",
     "output_type": "stream",
     "text": [
      "for x value 1 printing mithun\n",
      "for x value 2 printing mithun\n",
      "for x value 3 printing mithun\n",
      "for x value 4 printing mithun\n",
      "for x value 5 printing mithun\n"
     ]
    }
   ],
   "source": [
    "i=\"mithun\"\n",
    "for x in range(1,6):\n",
    "    print(\"for x value\",x,\"printing\",i)"
   ]
  },
  {
   "cell_type": "code",
   "execution_count": 21,
   "id": "5bfcdbb1",
   "metadata": {},
   "outputs": [
    {
     "name": "stdout",
     "output_type": "stream",
     "text": [
      "2\n",
      "4\n",
      "6\n",
      "8\n"
     ]
    }
   ],
   "source": [
    "for x in range(1,10):\n",
    "    i= x%2\n",
    "    if i == 0 :\n",
    "        print(x)"
   ]
  },
  {
   "cell_type": "code",
   "execution_count": 28,
   "id": "1237046a",
   "metadata": {},
   "outputs": [
    {
     "name": "stdout",
     "output_type": "stream",
     "text": [
      "5\n",
      "2\n"
     ]
    }
   ],
   "source": [
    "for x in range(5,1,-3):\n",
    "    print(x)"
   ]
  },
  {
   "cell_type": "markdown",
   "id": "e1d1ae74",
   "metadata": {},
   "source": [
    "find the product of first 5 natural number"
   ]
  },
  {
   "cell_type": "code",
   "execution_count": 34,
   "id": "b239d453",
   "metadata": {},
   "outputs": [
    {
     "name": "stdout",
     "output_type": "stream",
     "text": [
      "120\n"
     ]
    }
   ],
   "source": [
    "product = 1 #initializing product is 1\n",
    "for x in range(1,6):\n",
    "    product = product * x # updating the product value\n",
    "print(product)"
   ]
  },
  {
   "cell_type": "markdown",
   "id": "af354bff",
   "metadata": {},
   "source": [
    "general form of n natural number's product given by user"
   ]
  },
  {
   "cell_type": "code",
   "execution_count": 40,
   "id": "b6fb5cc9",
   "metadata": {},
   "outputs": [
    {
     "name": "stdout",
     "output_type": "stream",
     "text": [
      "enter the number to find product 6\n",
      "the first 6 number product is: 720\n"
     ]
    }
   ],
   "source": [
    "a = int(input(\"enter the number to find product \"))\n",
    "product = 1\n",
    "for x in range(1,a+1):\n",
    "    product = product*x\n",
    "print(\"the first\",a,\"number product is:\",product)"
   ]
  },
  {
   "cell_type": "code",
   "execution_count": 41,
   "id": "8695b002",
   "metadata": {},
   "outputs": [
    {
     "name": "stdout",
     "output_type": "stream",
     "text": [
      "14\n"
     ]
    }
   ],
   "source": [
    "l=[2,4,3,5]\n",
    "sum = 0\n",
    "for x in l:\n",
    "    sum = sum + x\n",
    "print(sum)"
   ]
  },
  {
   "cell_type": "markdown",
   "id": "cdbd3461",
   "metadata": {},
   "source": [
    "use se list create krke sum krne ka tarika(only for when list is not having 0)"
   ]
  },
  {
   "cell_type": "code",
   "execution_count": 5,
   "id": "40dbb27d",
   "metadata": {},
   "outputs": [
    {
     "name": "stdout",
     "output_type": "stream",
     "text": [
      "enter list element5\n",
      "[5]\n",
      "enter list element6\n",
      "[5, 6]\n",
      "enter list element7\n",
      "[5, 6, 7]\n",
      "enter list element3\n",
      "[5, 6, 7, 3]\n",
      "enter list element5\n",
      "[5, 6, 7, 3, 5]\n",
      "enter list element0\n",
      "final list is  [5, 6, 7, 3, 5]\n",
      "the sum of the list is: 26\n"
     ]
    }
   ],
   "source": [
    "l=[]\n",
    "while True:\n",
    "    a=int(input(\"enter list element\"))\n",
    "    if a!=0:\n",
    "        l.append(a)\n",
    "        print(l)\n",
    "    else:\n",
    "        break  #it will terminate the whole while loop\n",
    "            \n",
    "            \n",
    "print(\"final list is \",l)\n",
    "sum=0\n",
    "for x in l:\n",
    "    sum = sum +x\n",
    "print(\"the sum of the list is:\", sum)\n",
    "    \n",
    "        "
   ]
  },
  {
   "cell_type": "markdown",
   "id": "b40be2c9",
   "metadata": {},
   "source": [
    "python eval function==> creating list, tupple, set, string,all kind of group or sequence"
   ]
  },
  {
   "cell_type": "code",
   "execution_count": 1,
   "id": "0660bbc2",
   "metadata": {},
   "outputs": [
    {
     "name": "stdout",
     "output_type": "stream",
     "text": [
      "enter(3,4,5,6,7,2)\n"
     ]
    },
    {
     "data": {
      "text/plain": [
       "tuple"
      ]
     },
     "execution_count": 1,
     "metadata": {},
     "output_type": "execute_result"
    }
   ],
   "source": [
    "l = eval(input(\"enter\")) # eval==>evaluate.  we just have to use the symbol in output section,\n",
    "                                       #eval function will automatically convert it to that type\n",
    "                                        # list, tupple, set, etc.\n",
    "type(l)"
   ]
  },
  {
   "cell_type": "code",
   "execution_count": 2,
   "id": "9c2032a2",
   "metadata": {},
   "outputs": [
    {
     "name": "stdout",
     "output_type": "stream",
     "text": [
      "enter[3,2,1,4,5]\n"
     ]
    },
    {
     "data": {
      "text/plain": [
       "list"
      ]
     },
     "execution_count": 2,
     "metadata": {},
     "output_type": "execute_result"
    }
   ],
   "source": [
    "l = eval(input(\"enter\")) # eval==>evaluate.  we just have to use the symbol in output section,\n",
    "                                       #eval function will automatically convert it to that type\n",
    "                                        # list, tupple, set, etc.\n",
    "type(l)"
   ]
  },
  {
   "cell_type": "code",
   "execution_count": 1,
   "id": "e4d6fa46",
   "metadata": {},
   "outputs": [
    {
     "name": "stdout",
     "output_type": "stream",
     "text": [
      "enter{4,3,2,5,6,6}\n"
     ]
    },
    {
     "data": {
      "text/plain": [
       "set"
      ]
     },
     "execution_count": 1,
     "metadata": {},
     "output_type": "execute_result"
    }
   ],
   "source": [
    "l = eval(input(\"enter\")) # eval==>evaluate.  we just have to use the symbol in output section,\n",
    "                                       #eval function will automatically convert it to that type\n",
    "                                        # list, tupple, set, etc.\n",
    "type(l)"
   ]
  },
  {
   "cell_type": "code",
   "execution_count": 11,
   "id": "dffe9c6a",
   "metadata": {},
   "outputs": [
    {
     "name": "stdout",
     "output_type": "stream",
     "text": [
      "enter{1:\"mithun\",2:\"raptan\",3:\"sazu\"}\n"
     ]
    },
    {
     "data": {
      "text/plain": [
       "dict"
      ]
     },
     "execution_count": 11,
     "metadata": {},
     "output_type": "execute_result"
    }
   ],
   "source": [
    "l = eval(input(\"enter\"))\n",
    "type(l)"
   ]
  },
  {
   "cell_type": "markdown",
   "id": "47b65849",
   "metadata": {},
   "source": [
    "sum of all the elements given by user using eval function"
   ]
  },
  {
   "cell_type": "code",
   "execution_count": 10,
   "id": "0b2c09e5",
   "metadata": {},
   "outputs": [
    {
     "name": "stdout",
     "output_type": "stream",
     "text": [
      "enter the element{1,4,3,2,5}\n",
      "the sum of the given <class 'set'> is 15\n"
     ]
    }
   ],
   "source": [
    "l=eval(input(\"enter the element\"))\n",
    "sum=0\n",
    "for x in l:\n",
    "    sum= sum + x\n",
    "print(\"the sum of the given\",type(l),\"is\",sum)"
   ]
  }
 ],
 "metadata": {
  "kernelspec": {
   "display_name": "Python 3 (ipykernel)",
   "language": "python",
   "name": "python3"
  },
  "language_info": {
   "codemirror_mode": {
    "name": "ipython",
    "version": 3
   },
   "file_extension": ".py",
   "mimetype": "text/x-python",
   "name": "python",
   "nbconvert_exporter": "python",
   "pygments_lexer": "ipython3",
   "version": "3.11.5"
  }
 },
 "nbformat": 4,
 "nbformat_minor": 5
}
