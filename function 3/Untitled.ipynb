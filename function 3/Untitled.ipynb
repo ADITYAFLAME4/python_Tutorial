{
 "cells": [
  {
   "cell_type": "markdown",
   "id": "c83532f5",
   "metadata": {},
   "source": [
    "function 3"
   ]
  },
  {
   "cell_type": "raw",
   "id": "ccd0e6ae",
   "metadata": {},
   "source": [
    "# Anonymous function:\n",
    "    syntax:    lambda arguments : expression\n",
    "        name = lambda    x      : code/expression             # 'name' is this function name \n",
    "                                                              # 'x' is the argument of this function\n",
    "        "
   ]
  },
  {
   "cell_type": "code",
   "execution_count": 1,
   "id": "4d63c9c3",
   "metadata": {},
   "outputs": [
    {
     "data": {
      "text/plain": [
       "125"
      ]
     },
     "execution_count": 1,
     "metadata": {},
     "output_type": "execute_result"
    }
   ],
   "source": [
    "s = lambda x: x*x*x\n",
    "s(5)"
   ]
  },
  {
   "cell_type": "code",
   "execution_count": 2,
   "id": "263cef44",
   "metadata": {},
   "outputs": [
    {
     "name": "stdout",
     "output_type": "stream",
     "text": [
      "27\n"
     ]
    }
   ],
   "source": [
    "print(s(3))"
   ]
  },
  {
   "cell_type": "code",
   "execution_count": null,
   "id": "3b9b2321",
   "metadata": {},
   "outputs": [],
   "source": []
  },
  {
   "cell_type": "code",
   "execution_count": 3,
   "id": "d206cd88",
   "metadata": {},
   "outputs": [
    {
     "data": {
      "text/plain": [
       "10"
      ]
     },
     "execution_count": 3,
     "metadata": {},
     "output_type": "execute_result"
    }
   ],
   "source": [
    "def f(a,b):\n",
    "    return a*b\n",
    "f(2,5)\n",
    "    "
   ]
  },
  {
   "cell_type": "code",
   "execution_count": 5,
   "id": "057d6c7a",
   "metadata": {},
   "outputs": [
    {
     "data": {
      "text/plain": [
       "10"
      ]
     },
     "execution_count": 5,
     "metadata": {},
     "output_type": "execute_result"
    }
   ],
   "source": [
    "# previous multiplication function using lambda/anonymous function\n",
    "f = lambda a,b : a*b\n",
    "f(2,5)"
   ]
  },
  {
   "cell_type": "code",
   "execution_count": 7,
   "id": "bf761c05",
   "metadata": {},
   "outputs": [
    {
     "data": {
      "text/plain": [
       "10"
      ]
     },
     "execution_count": 7,
     "metadata": {},
     "output_type": "execute_result"
    }
   ],
   "source": [
    "# find minimum among 2 numbers\n",
    "f = lambda x,y :  x   if x<y else  y\n",
    "f(10,20)"
   ]
  },
  {
   "cell_type": "raw",
   "id": "cf1137b0",
   "metadata": {},
   "source": [
    "filter(function-name,group of values/sequence) ==> filter those value based on some conditions\n"
   ]
  },
  {
   "cell_type": "code",
   "execution_count": 11,
   "id": "c5ae3c54",
   "metadata": {},
   "outputs": [
    {
     "name": "stdout",
     "output_type": "stream",
     "text": [
      "[30, 60]\n"
     ]
    }
   ],
   "source": [
    "def f(x):\n",
    "    if x%3==0:\n",
    "        return True\n",
    "    else:\n",
    "        return False\n",
    "\n",
    "    \n",
    "output= filter(f,[10,20,30,40,50,60])\n",
    "OUTPUT=list(output)\n",
    "print(OUTPUT)\n",
    "    "
   ]
  },
  {
   "cell_type": "code",
   "execution_count": 12,
   "id": "d8ff477a",
   "metadata": {},
   "outputs": [
    {
     "name": "stdout",
     "output_type": "stream",
     "text": [
      "[30]\n"
     ]
    }
   ],
   "source": [
    "output=list(filter(f,(10,20,30)))\n",
    "print(output)"
   ]
  },
  {
   "cell_type": "code",
   "execution_count": 16,
   "id": "5a6376ac",
   "metadata": {},
   "outputs": [
    {
     "name": "stdout",
     "output_type": "stream",
     "text": [
      "[30, 60]\n"
     ]
    }
   ],
   "source": [
    "# using lambda function\n",
    "output=list(filter(lambda x : True if x%3==0 else False,[10,20,30,40,50,60]))\n",
    "print(output)"
   ]
  },
  {
   "cell_type": "code",
   "execution_count": 18,
   "id": "7fd2407c",
   "metadata": {},
   "outputs": [
    {
     "name": "stdout",
     "output_type": "stream",
     "text": [
      "[30, 60]\n"
     ]
    }
   ],
   "source": [
    "output=list(filter(lambda x :  x%3==0 ,[10,20,30,40,50,60]))\n",
    "print(output)"
   ]
  },
  {
   "cell_type": "raw",
   "id": "c4770763",
   "metadata": {},
   "source": [
    "# map(function_name , sequence) ==> whenever we want similar changes to all the sequence.\n",
    "\n"
   ]
  },
  {
   "cell_type": "code",
   "execution_count": 23,
   "id": "d2e8a016",
   "metadata": {},
   "outputs": [
    {
     "name": "stdout",
     "output_type": "stream",
     "text": [
      "[1, 8, 27, 64, 125, 216]\n"
     ]
    }
   ],
   "source": [
    "def f(x):\n",
    "    return (x*x*x)\n",
    "output=map(f,[1,2,3,4,5,6])\n",
    "OUTPUT = list(output)\n",
    "print(OUTPUT)"
   ]
  },
  {
   "cell_type": "code",
   "execution_count": 25,
   "id": "7d6e4c07",
   "metadata": {},
   "outputs": [
    {
     "name": "stdout",
     "output_type": "stream",
     "text": [
      "[1, 8, 27, 64]\n"
     ]
    }
   ],
   "source": [
    "# using lambda function\n",
    "output=list(map(lambda x : x*x*x , [1,2,3,4]))\n",
    "print(output)"
   ]
  },
  {
   "cell_type": "code",
   "execution_count": 26,
   "id": "dbaa37f5",
   "metadata": {},
   "outputs": [
    {
     "name": "stdout",
     "output_type": "stream",
     "text": [
      "(6, 8, 10, 12)\n"
     ]
    }
   ],
   "source": [
    "# adding two sequence using map()\n",
    "a=(1,2,3,4)\n",
    "b=(5,6,7,8)\n",
    "output=tuple(map(lambda x,y : x+y , a,b))\n",
    "print(output)"
   ]
  },
  {
   "cell_type": "code",
   "execution_count": null,
   "id": "02e74f8b",
   "metadata": {},
   "outputs": [],
   "source": []
  },
  {
   "cell_type": "code",
   "execution_count": null,
   "id": "6397b5cf",
   "metadata": {},
   "outputs": [],
   "source": []
  },
  {
   "cell_type": "code",
   "execution_count": 29,
   "id": "126cfa45",
   "metadata": {},
   "outputs": [
    {
     "name": "stdout",
     "output_type": "stream",
     "text": [
      "4\n",
      "4\n"
     ]
    }
   ],
   "source": [
    "def f(x):\n",
    "    return x*x\n",
    "g=f  # giving f reference to g..# now g and f are same and pointing to same memory address.\n",
    "print(f(2))\n",
    "print(g(2))"
   ]
  },
  {
   "cell_type": "code",
   "execution_count": 31,
   "id": "9b976482",
   "metadata": {},
   "outputs": [
    {
     "name": "stdout",
     "output_type": "stream",
     "text": [
      "start 1\n",
      "Start 2\n",
      "start 3\n",
      "end 3\n",
      "end 2\n",
      "end 1\n"
     ]
    }
   ],
   "source": [
    "# concept clearing\n",
    "\n",
    "def f1():\n",
    "    print(\"start 1\")\n",
    "    f2()\n",
    "    print(\"end 1\")\n",
    "    \n",
    "def f2():\n",
    "    print(\"Start 2\")\n",
    "    f3()\n",
    "    print(\"end 2\")\n",
    "    \n",
    "    \n",
    "def f3():\n",
    "    print(\"start 3\")\n",
    "    print(\"end 3\")\n",
    "\n",
    "    \n",
    "    \n",
    "f1()"
   ]
  },
  {
   "cell_type": "code",
   "execution_count": null,
   "id": "cf37ca20",
   "metadata": {},
   "outputs": [],
   "source": []
  }
 ],
 "metadata": {
  "kernelspec": {
   "display_name": "Python 3 (ipykernel)",
   "language": "python",
   "name": "python3"
  },
  "language_info": {
   "codemirror_mode": {
    "name": "ipython",
    "version": 3
   },
   "file_extension": ".py",
   "mimetype": "text/x-python",
   "name": "python",
   "nbconvert_exporter": "python",
   "pygments_lexer": "ipython3",
   "version": "3.11.5"
  }
 },
 "nbformat": 4,
 "nbformat_minor": 5
}
